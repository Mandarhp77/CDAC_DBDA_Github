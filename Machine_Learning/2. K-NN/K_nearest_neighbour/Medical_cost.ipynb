{
 "cells": [
  {
   "cell_type": "code",
   "execution_count": 69,
   "id": "930d7c72",
   "metadata": {},
   "outputs": [],
   "source": [
    "import pandas as pd\n",
    "import numpy as np\n",
    "from sklearn.linear_model import LinearRegression\n",
    "from sklearn.metrics import r2_score\n",
    "from sklearn.metrics import mean_absolute_error\n",
    "from sklearn.metrics import mean_squared_error\n",
    "from sklearn.neighbors import KNeighborsRegressor\n",
    "from sklearn.preprocessing import StandardScaler\n",
    "from sklearn.model_selection import KFold\n",
    "from sklearn.model_selection import cross_val_score\n",
    "from sklearn.model_selection import GridSearchCV\n",
    "from sklearn.pipeline import Pipeline"
   ]
  },
  {
   "cell_type": "code",
   "execution_count": 70,
   "id": "5bc39690",
   "metadata": {},
   "outputs": [],
   "source": [
    "insurance = pd.read_csv(\"C:\\Aalesh and Mandar\\Datasets\\insurance.csv\")"
   ]
  },
  {
   "cell_type": "code",
   "execution_count": 71,
   "id": "4377ffda",
   "metadata": {},
   "outputs": [
    {
     "data": {
      "text/html": [
       "<div>\n",
       "<style scoped>\n",
       "    .dataframe tbody tr th:only-of-type {\n",
       "        vertical-align: middle;\n",
       "    }\n",
       "\n",
       "    .dataframe tbody tr th {\n",
       "        vertical-align: top;\n",
       "    }\n",
       "\n",
       "    .dataframe thead th {\n",
       "        text-align: right;\n",
       "    }\n",
       "</style>\n",
       "<table border=\"1\" class=\"dataframe\">\n",
       "  <thead>\n",
       "    <tr style=\"text-align: right;\">\n",
       "      <th></th>\n",
       "      <th>age</th>\n",
       "      <th>sex</th>\n",
       "      <th>bmi</th>\n",
       "      <th>children</th>\n",
       "      <th>smoker</th>\n",
       "      <th>region</th>\n",
       "      <th>charges</th>\n",
       "    </tr>\n",
       "  </thead>\n",
       "  <tbody>\n",
       "    <tr>\n",
       "      <th>0</th>\n",
       "      <td>19</td>\n",
       "      <td>female</td>\n",
       "      <td>27.900</td>\n",
       "      <td>0</td>\n",
       "      <td>yes</td>\n",
       "      <td>southwest</td>\n",
       "      <td>16884.92400</td>\n",
       "    </tr>\n",
       "    <tr>\n",
       "      <th>1</th>\n",
       "      <td>18</td>\n",
       "      <td>male</td>\n",
       "      <td>33.770</td>\n",
       "      <td>1</td>\n",
       "      <td>no</td>\n",
       "      <td>southeast</td>\n",
       "      <td>1725.55230</td>\n",
       "    </tr>\n",
       "    <tr>\n",
       "      <th>2</th>\n",
       "      <td>28</td>\n",
       "      <td>male</td>\n",
       "      <td>33.000</td>\n",
       "      <td>3</td>\n",
       "      <td>no</td>\n",
       "      <td>southeast</td>\n",
       "      <td>4449.46200</td>\n",
       "    </tr>\n",
       "    <tr>\n",
       "      <th>3</th>\n",
       "      <td>33</td>\n",
       "      <td>male</td>\n",
       "      <td>22.705</td>\n",
       "      <td>0</td>\n",
       "      <td>no</td>\n",
       "      <td>northwest</td>\n",
       "      <td>21984.47061</td>\n",
       "    </tr>\n",
       "    <tr>\n",
       "      <th>4</th>\n",
       "      <td>32</td>\n",
       "      <td>male</td>\n",
       "      <td>28.880</td>\n",
       "      <td>0</td>\n",
       "      <td>no</td>\n",
       "      <td>northwest</td>\n",
       "      <td>3866.85520</td>\n",
       "    </tr>\n",
       "  </tbody>\n",
       "</table>\n",
       "</div>"
      ],
      "text/plain": [
       "   age     sex     bmi  children smoker     region      charges\n",
       "0   19  female  27.900         0    yes  southwest  16884.92400\n",
       "1   18    male  33.770         1     no  southeast   1725.55230\n",
       "2   28    male  33.000         3     no  southeast   4449.46200\n",
       "3   33    male  22.705         0     no  northwest  21984.47061\n",
       "4   32    male  28.880         0     no  northwest   3866.85520"
      ]
     },
     "execution_count": 71,
     "metadata": {},
     "output_type": "execute_result"
    }
   ],
   "source": [
    "insurance.head()"
   ]
  },
  {
   "cell_type": "code",
   "execution_count": 72,
   "id": "f43361db",
   "metadata": {},
   "outputs": [],
   "source": [
    "insurance = pd.get_dummies(insurance, drop_first = True)"
   ]
  },
  {
   "cell_type": "code",
   "execution_count": 73,
   "id": "cf904d75",
   "metadata": {},
   "outputs": [
    {
     "data": {
      "text/html": [
       "<div>\n",
       "<style scoped>\n",
       "    .dataframe tbody tr th:only-of-type {\n",
       "        vertical-align: middle;\n",
       "    }\n",
       "\n",
       "    .dataframe tbody tr th {\n",
       "        vertical-align: top;\n",
       "    }\n",
       "\n",
       "    .dataframe thead th {\n",
       "        text-align: right;\n",
       "    }\n",
       "</style>\n",
       "<table border=\"1\" class=\"dataframe\">\n",
       "  <thead>\n",
       "    <tr style=\"text-align: right;\">\n",
       "      <th></th>\n",
       "      <th>age</th>\n",
       "      <th>bmi</th>\n",
       "      <th>children</th>\n",
       "      <th>charges</th>\n",
       "      <th>sex_male</th>\n",
       "      <th>smoker_yes</th>\n",
       "      <th>region_northwest</th>\n",
       "      <th>region_southeast</th>\n",
       "      <th>region_southwest</th>\n",
       "    </tr>\n",
       "  </thead>\n",
       "  <tbody>\n",
       "    <tr>\n",
       "      <th>0</th>\n",
       "      <td>19</td>\n",
       "      <td>27.900</td>\n",
       "      <td>0</td>\n",
       "      <td>16884.92400</td>\n",
       "      <td>0</td>\n",
       "      <td>1</td>\n",
       "      <td>0</td>\n",
       "      <td>0</td>\n",
       "      <td>1</td>\n",
       "    </tr>\n",
       "    <tr>\n",
       "      <th>1</th>\n",
       "      <td>18</td>\n",
       "      <td>33.770</td>\n",
       "      <td>1</td>\n",
       "      <td>1725.55230</td>\n",
       "      <td>1</td>\n",
       "      <td>0</td>\n",
       "      <td>0</td>\n",
       "      <td>1</td>\n",
       "      <td>0</td>\n",
       "    </tr>\n",
       "    <tr>\n",
       "      <th>2</th>\n",
       "      <td>28</td>\n",
       "      <td>33.000</td>\n",
       "      <td>3</td>\n",
       "      <td>4449.46200</td>\n",
       "      <td>1</td>\n",
       "      <td>0</td>\n",
       "      <td>0</td>\n",
       "      <td>1</td>\n",
       "      <td>0</td>\n",
       "    </tr>\n",
       "    <tr>\n",
       "      <th>3</th>\n",
       "      <td>33</td>\n",
       "      <td>22.705</td>\n",
       "      <td>0</td>\n",
       "      <td>21984.47061</td>\n",
       "      <td>1</td>\n",
       "      <td>0</td>\n",
       "      <td>1</td>\n",
       "      <td>0</td>\n",
       "      <td>0</td>\n",
       "    </tr>\n",
       "    <tr>\n",
       "      <th>4</th>\n",
       "      <td>32</td>\n",
       "      <td>28.880</td>\n",
       "      <td>0</td>\n",
       "      <td>3866.85520</td>\n",
       "      <td>1</td>\n",
       "      <td>0</td>\n",
       "      <td>1</td>\n",
       "      <td>0</td>\n",
       "      <td>0</td>\n",
       "    </tr>\n",
       "  </tbody>\n",
       "</table>\n",
       "</div>"
      ],
      "text/plain": [
       "   age     bmi  children      charges  sex_male  smoker_yes  region_northwest  \\\n",
       "0   19  27.900         0  16884.92400         0           1                 0   \n",
       "1   18  33.770         1   1725.55230         1           0                 0   \n",
       "2   28  33.000         3   4449.46200         1           0                 0   \n",
       "3   33  22.705         0  21984.47061         1           0                 1   \n",
       "4   32  28.880         0   3866.85520         1           0                 1   \n",
       "\n",
       "   region_southeast  region_southwest  \n",
       "0                 0                 1  \n",
       "1                 1                 0  \n",
       "2                 1                 0  \n",
       "3                 0                 0  \n",
       "4                 0                 0  "
      ]
     },
     "execution_count": 73,
     "metadata": {},
     "output_type": "execute_result"
    }
   ],
   "source": [
    "insurance.head()"
   ]
  },
  {
   "cell_type": "code",
   "execution_count": 74,
   "id": "8dc2af01",
   "metadata": {},
   "outputs": [],
   "source": [
    "x = insurance.drop(\"charges\", axis=1)\n",
    "y = insurance[\"charges\"]"
   ]
  },
  {
   "cell_type": "code",
   "execution_count": 75,
   "id": "f93b3dfb",
   "metadata": {},
   "outputs": [],
   "source": [
    "lr = LinearRegression()\n",
    "scalar = StandardScaler()"
   ]
  },
  {
   "cell_type": "code",
   "execution_count": 76,
   "id": "5b6af28d",
   "metadata": {},
   "outputs": [],
   "source": [
    "kfold = KFold(n_splits=5, shuffle=True, random_state=2022)"
   ]
  },
  {
   "cell_type": "code",
   "execution_count": 77,
   "id": "79867ab4",
   "metadata": {},
   "outputs": [],
   "source": [
    "result = cross_val_score(lr, x, y, cv = kfold, scoring = 'r2')"
   ]
  },
  {
   "cell_type": "code",
   "execution_count": 78,
   "id": "61bdb2f0",
   "metadata": {},
   "outputs": [
    {
     "name": "stdout",
     "output_type": "stream",
     "text": [
      "0.7440038506879969\n"
     ]
    }
   ],
   "source": [
    "print(result.mean())"
   ]
  },
  {
   "cell_type": "markdown",
   "id": "e0959a3f",
   "metadata": {},
   "source": [
    "## KNN pipeline"
   ]
  },
  {
   "cell_type": "code",
   "execution_count": 79,
   "id": "d7d67485",
   "metadata": {},
   "outputs": [],
   "source": [
    "knn = KNeighborsRegressor()\n",
    "scalar = StandardScaler()\n",
    "pipe = Pipeline([('STD',scalar),('KNN',knn)])"
   ]
  },
  {
   "cell_type": "code",
   "execution_count": 80,
   "id": "c784f15c",
   "metadata": {},
   "outputs": [],
   "source": [
    "kfold = KFold(n_splits=5, shuffle=True, random_state=2022)\n",
    "params = {'KNN__n_neighbors':np.arange(1,16)}\n",
    "knn = KNeighborsRegressor()"
   ]
  },
  {
   "cell_type": "code",
   "execution_count": 81,
   "id": "f5607396",
   "metadata": {},
   "outputs": [
    {
     "name": "stdout",
     "output_type": "stream",
     "text": [
      "{'KNN__n_neighbors': 7}\n",
      "0.7902611200269143\n"
     ]
    }
   ],
   "source": [
    "gcv = GridSearchCV(pipe,param_grid=params,scoring='r2',cv=kfold)\n",
    "gcv.fit(x,y)\n",
    "print(gcv.best_params_)\n",
    "print(gcv.best_score_)"
   ]
  },
  {
   "cell_type": "code",
   "execution_count": 84,
   "id": "d703a3f7",
   "metadata": {},
   "outputs": [
    {
     "data": {
      "text/plain": [
       "Pipeline(steps=[('STD', StandardScaler()),\n",
       "                ('KNN', KNeighborsRegressor(n_neighbors=7))])"
      ]
     },
     "execution_count": 84,
     "metadata": {},
     "output_type": "execute_result"
    }
   ],
   "source": [
    "knn =KNeighborsRegressor(n_neighbors=7)\n",
    "pipe = Pipeline([('STD',scalar),('KNN',knn)])\n",
    "pipe.fit(x,y)"
   ]
  },
  {
   "cell_type": "code",
   "execution_count": 97,
   "id": "59974665",
   "metadata": {},
   "outputs": [
    {
     "name": "stdout",
     "output_type": "stream",
     "text": [
      "age                   int64\n",
      "bmi                 float64\n",
      "children              int64\n",
      "sex_male              uint8\n",
      "smoker_yes            uint8\n",
      "region_northwest      uint8\n",
      "region_southeast      uint8\n",
      "region_southwest      uint8\n",
      "dtype: object\n",
      "age                   int64\n",
      "bmi                 float64\n",
      "children              int64\n",
      "sex_male              uint8\n",
      "smoker_yes            uint8\n",
      "region_northwest      uint8\n",
      "region_southeast      uint8\n",
      "region_southwest      uint8\n",
      "dtype: object\n"
     ]
    },
    {
     "data": {
      "text/plain": [
       "array([24411.94929   ,  5270.08306429,  4680.98034286,  6808.30289429,\n",
       "        6808.34575   ,  7670.527     ,  1902.37384286,  2453.48372857,\n",
       "       34845.44309286, 10229.51452143,  3275.05149286, 24411.94929   ,\n",
       "       10304.84671429, 22843.14585714,  6653.04271429, 12392.16091429,\n",
       "       12966.40537857, 15364.97829   ,  1921.51835   ,  5741.935917  ,\n",
       "        1930.68848571,  4496.99419   ,  1921.51835   , 15434.37549143,\n",
       "        3363.35190429, 12532.92425857,  6900.08065714, 22101.33436714,\n",
       "        6251.48125   , 28107.11708429,  5386.91035714, 39300.07997286,\n",
       "       11911.19909429, 12579.67512714,  1760.93657143,  5274.64907143,\n",
       "       12669.75224143, 11614.55771143, 20496.56267857,  8816.08189143,\n",
       "       11979.46763714, 29567.18479429, 21407.89491143, 34833.36007143,\n",
       "       14687.10969143, 27513.17474286, 34469.17022857, 10360.09185714,\n",
       "        7323.58244714,  4683.26036429,  9444.90332143,  6725.23610429,\n",
       "        7400.81874286, 11273.45092857, 15676.58758   ,  2374.16768571,\n",
       "        8295.42352857, 15306.54476714, 36306.90228714,  8304.37471429,\n",
       "       11517.8622    , 13324.86568143, 29108.33957143, 12765.53671429,\n",
       "        6500.90299286,  3938.14701429,  3505.13843571, 10847.28773143,\n",
       "       11126.69528571,  8482.73377857, 12419.25841429,  5222.97157143,\n",
       "       43868.76245857,  9965.11867857,  9131.19008429,  4983.48073571,\n",
       "        5243.52645   , 11432.52037286,  8726.24646429,  6498.86915   ,\n",
       "        2317.22128571, 11200.89628571, 13078.60143571, 15154.11612429,\n",
       "       14875.17139143, 12929.09912143, 10145.03785   ,  3302.11305   ])"
      ]
     },
     "execution_count": 97,
     "metadata": {},
     "output_type": "execute_result"
    }
   ],
   "source": [
    "tst_insure = pd.read_csv(r\"C:\\Aalesh and Mandar\\Datasets\\tst_insure.csv\")\n",
    "dum_tst = pd.get_dummies(tst_insure,drop_first=True)\n",
    "print(x.dtypes)\n",
    "print(dum_tst.dtypes)\n",
    "predictions = pipe.predict(dum_tst)\n",
    "predictions"
   ]
  },
  {
   "cell_type": "code",
   "execution_count": 104,
   "id": "9e4809e1",
   "metadata": {},
   "outputs": [
    {
     "data": {
      "text/plain": [
       "array([24411.94929   ,  5270.08306429,  4680.98034286,  6808.30289429,\n",
       "        6808.34575   ,  7670.527     ,  1902.37384286,  2453.48372857,\n",
       "       34845.44309286, 10229.51452143,  3275.05149286, 24411.94929   ,\n",
       "       10304.84671429, 22843.14585714,  6653.04271429, 12392.16091429,\n",
       "       12966.40537857, 15364.97829   ,  1921.51835   ,  5741.935917  ,\n",
       "        1930.68848571,  4496.99419   ,  1921.51835   , 15434.37549143,\n",
       "        3363.35190429, 12532.92425857,  6900.08065714, 22101.33436714,\n",
       "        6251.48125   , 28107.11708429,  5386.91035714, 39300.07997286,\n",
       "       11911.19909429, 12579.67512714,  1760.93657143,  5274.64907143,\n",
       "       12669.75224143, 11614.55771143, 20496.56267857,  8816.08189143,\n",
       "       11979.46763714, 29567.18479429, 21407.89491143, 34833.36007143,\n",
       "       14687.10969143, 27513.17474286, 34469.17022857, 10360.09185714,\n",
       "        7323.58244714,  4683.26036429,  9444.90332143,  6725.23610429,\n",
       "        7400.81874286, 11273.45092857, 15676.58758   ,  2374.16768571,\n",
       "        8295.42352857, 15306.54476714, 36306.90228714,  8304.37471429,\n",
       "       11517.8622    , 13324.86568143, 29108.33957143, 12765.53671429,\n",
       "        6500.90299286,  3938.14701429,  3505.13843571, 10847.28773143,\n",
       "       11126.69528571,  8482.73377857, 12419.25841429,  5222.97157143,\n",
       "       43868.76245857,  9965.11867857,  9131.19008429,  4983.48073571,\n",
       "        5243.52645   , 11432.52037286,  8726.24646429,  6498.86915   ,\n",
       "        2317.22128571, 11200.89628571, 13078.60143571, 15154.11612429,\n",
       "       14875.17139143, 12929.09912143, 10145.03785   ,  3302.11305   ])"
      ]
     },
     "execution_count": 104,
     "metadata": {},
     "output_type": "execute_result"
    }
   ],
   "source": [
    "pd_cv = pd.DataFrame(gcv.cv_results_)\n",
    "best_model = gcv.best_estimator_\n",
    "tst_insure = pd.read_csv(r\"C:\\Aalesh and Mandar\\Datasets\\tst_insure.csv\")\n",
    "dum_tst = pd.get_dummies(tst_insure,drop_first=True)\n",
    "predictions = best_model.predict(dum_tst)\n",
    "predictions"
   ]
  },
  {
   "cell_type": "code",
   "execution_count": null,
   "id": "1cf5b04e",
   "metadata": {},
   "outputs": [],
   "source": []
  }
 ],
 "metadata": {
  "kernelspec": {
   "display_name": "Python 3 (ipykernel)",
   "language": "python",
   "name": "python3"
  },
  "language_info": {
   "codemirror_mode": {
    "name": "ipython",
    "version": 3
   },
   "file_extension": ".py",
   "mimetype": "text/x-python",
   "name": "python",
   "nbconvert_exporter": "python",
   "pygments_lexer": "ipython3",
   "version": "3.9.13"
  }
 },
 "nbformat": 4,
 "nbformat_minor": 5
}
