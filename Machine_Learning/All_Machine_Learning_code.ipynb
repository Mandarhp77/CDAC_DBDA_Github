{
 "cells": [
  {
   "cell_type": "code",
   "execution_count": 1,
   "id": "a5964e97",
   "metadata": {},
   "outputs": [],
   "source": [
    "import pandas as pd\n",
    "import numpy as np\n",
    "import seaborn as sns\n",
    "import matplotlib.pyplot as plt\n",
    "\n",
    "from sklearn.linear_model import LinearRegression\n",
    "from sklearn.linear_model import LogisticRegression\n",
    "from sklearn.linear_model import Ridge\n",
    "from sklearn.linear_model import Lasso\n",
    "from sklearn.linear_model import ElasticNet\n",
    "from sklearn.neighbors import KNeighborsRegressor\n",
    "from sklearn.neighbors import KNeighborsClassifier\n",
    "from sklearn import svm\n",
    "from sklearn.svm import SVC\n",
    "from sklearn.ensemble import RandomForestClassifier\n",
    "from sklearn.naive_bayes import BernoulliNB\n",
    "from sklearn.naive_bayes import GaussianNB\n",
    "from sklearn.discriminant_analysis import LinearDiscriminantAnalysis\n",
    "from sklearn.discriminant_analysis import QuadraticDiscriminantAnalysis\n",
    "from sklearn.tree import DecisionTreeClassifier, plot_tree\n",
    "from sklearn.tree import DecisionTreeRegressor, plot_tree\n",
    "from sklearn.ensemble import VotingClassifier\n",
    "from sklearn.ensemble import BaggingClassifier\n",
    "from sklearn.ensemble import GradientBoostingClassifier\n",
    "from xgboost import XGBClassifier\n",
    "\n",
    "from sklearn.preprocessing import StandardScaler\n",
    "from sklearn.model_selection import KFold\n",
    "from sklearn.model_selection import cross_val_score\n",
    "from sklearn.model_selection import GridSearchCV, StratifiedKFold\n",
    "from sklearn.model_selection import train_test_split\n",
    "from sklearn.pipeline import Pipeline\n",
    "from sklearn import preprocessing\n",
    "\n",
    "\n",
    "from sklearn.metrics import r2_score\n",
    "from sklearn.metrics import mean_absolute_error\n",
    "from sklearn.metrics import mean_squared_error\n",
    "from sklearn.metrics import accuracy_score, confusion_matrix, classification_report\n",
    "from sklearn.metrics import roc_curve, roc_auc_score\n",
    "from sklearn.metrics import log_loss"
   ]
  },
  {
   "cell_type": "code",
   "execution_count": null,
   "id": "b5610a4a",
   "metadata": {},
   "outputs": [],
   "source": [
    "name = pd.read_csv(\"C:\\Aalesh and Mandar\\Datasets\\insurance.csv\")"
   ]
  },
  {
   "cell_type": "markdown",
   "id": "ad6bcd30",
   "metadata": {},
   "source": [
    "## Dummy variable"
   ]
  },
  {
   "cell_type": "code",
   "execution_count": null,
   "id": "06be6902",
   "metadata": {},
   "outputs": [],
   "source": [
    "insurance = pd.get_dummies(insurance, drop_first = True)"
   ]
  },
  {
   "cell_type": "markdown",
   "id": "f4575e3f",
   "metadata": {},
   "source": [
    "## Check Null Value"
   ]
  },
  {
   "cell_type": "code",
   "execution_count": null,
   "id": "cfc12146",
   "metadata": {},
   "outputs": [],
   "source": [
    "hr.isnull().sum()\n",
    "hr.isnull().mean()"
   ]
  },
  {
   "cell_type": "markdown",
   "id": "cdc1b143",
   "metadata": {},
   "source": [
    "## Label Encoding"
   ]
  },
  {
   "cell_type": "code",
   "execution_count": null,
   "id": "3306769e",
   "metadata": {},
   "outputs": [],
   "source": [
    "lebals = preprocessing.LabelEncoder()\n",
    "le_y = lebals.fit_transform(y)\n",
    "print(lebals.classes_)"
   ]
  },
  {
   "cell_type": "markdown",
   "id": "766625e3",
   "metadata": {},
   "source": [
    "## X and Y split"
   ]
  },
  {
   "cell_type": "code",
   "execution_count": null,
   "id": "db718bb6",
   "metadata": {},
   "outputs": [],
   "source": [
    "x = insurance.drop(\"charges\", axis=1)\n",
    "y = insurance[\"charges\"]"
   ]
  },
  {
   "cell_type": "markdown",
   "id": "7437a1c2",
   "metadata": {},
   "source": [
    "## Train Test Split"
   ]
  },
  {
   "cell_type": "code",
   "execution_count": 1,
   "id": "3d618120",
   "metadata": {
    "collapsed": true
   },
   "outputs": [
    {
     "ename": "NameError",
     "evalue": "name 'train_test_split' is not defined",
     "output_type": "error",
     "traceback": [
      "\u001b[1;31m---------------------------------------------------------------------------\u001b[0m",
      "\u001b[1;31mNameError\u001b[0m                                 Traceback (most recent call last)",
      "\u001b[1;32m~\\AppData\\Local\\Temp\\ipykernel_3844\\540558870.py\u001b[0m in \u001b[0;36m<module>\u001b[1;34m\u001b[0m\n\u001b[1;32m----> 1\u001b[1;33m \u001b[0mx_train\u001b[0m\u001b[1;33m,\u001b[0m \u001b[0mx_test\u001b[0m\u001b[1;33m,\u001b[0m \u001b[0my_train\u001b[0m\u001b[1;33m,\u001b[0m \u001b[0my_test\u001b[0m \u001b[1;33m=\u001b[0m \u001b[0mtrain_test_split\u001b[0m\u001b[1;33m(\u001b[0m\u001b[0mx\u001b[0m\u001b[1;33m,\u001b[0m \u001b[0my\u001b[0m\u001b[1;33m,\u001b[0m \u001b[0mrandom_state\u001b[0m \u001b[1;33m=\u001b[0m \u001b[1;36m2022\u001b[0m\u001b[1;33m,\u001b[0m \u001b[0mtest_size\u001b[0m \u001b[1;33m=\u001b[0m \u001b[1;36m0.3\u001b[0m\u001b[1;33m)\u001b[0m\u001b[1;33m\u001b[0m\u001b[1;33m\u001b[0m\u001b[0m\n\u001b[0m",
      "\u001b[1;31mNameError\u001b[0m: name 'train_test_split' is not defined"
     ]
    }
   ],
   "source": [
    "x_train, x_test, y_train, y_test = train_test_split(x, y, random_state = 2022, test_size = 0.3)"
   ]
  },
  {
   "cell_type": "markdown",
   "id": "9ed1742e",
   "metadata": {},
   "source": [
    "## Define the algorithm"
   ]
  },
  {
   "cell_type": "code",
   "execution_count": null,
   "id": "2a651d28",
   "metadata": {},
   "outputs": [],
   "source": [
    "scalar = StandardScaler()\n",
    "lr = LinearRegression()\n",
    "lr = LogisticRegression()\n",
    "rfc = RandomForestClassifier()\n",
    "nb = BernoulliNB()\n",
    "nb = GaussianNB()\n",
    "lda = LinearDiscriminantAnalysis()\n",
    "qda = QuadraticDiscriminantAnalysis()\n",
    "svm = SVC(kernel=\"poly/linear/rbf\", probability = True,  random_state = 2022)\n",
    "dtc = DecisionTreeClassifier()\n",
    "voting = VotingClassifier\n",
    "bagging = BaggingClassifier(estimator = lr, random_state = 2022, n_estimators = 10)\n",
    "xgb = XGBClassifier(random_state = 2022)\n",
    "gb = GradientBoostingClassifier(random_state = 2022)"
   ]
  },
  {
   "cell_type": "markdown",
   "id": "12b56003",
   "metadata": {},
   "source": [
    "## Fit and predict"
   ]
  },
  {
   "cell_type": "code",
   "execution_count": null,
   "id": "31eca439",
   "metadata": {},
   "outputs": [],
   "source": [
    "lr.fit(x_train, y_train)\n",
    "y_pred = lr.predict(x_test)\n",
    "y_pred_prob = lr.predict_proba(x_test)[:,1]\n",
    "\n",
    "result = cross_val_score(nb, x, y, scoring=\"roc_auc\", cv = kfold)"
   ]
  },
  {
   "cell_type": "markdown",
   "id": "04deb086",
   "metadata": {},
   "source": [
    "## ModelEvauation"
   ]
  },
  {
   "cell_type": "code",
   "execution_count": null,
   "id": "6fb31748",
   "metadata": {},
   "outputs": [],
   "source": [
    "print(accuracy_score(y_test, y_pred))\n",
    "print(roc_auc_score(y_test, y_pred_prob))\n",
    "print(r2_score(y_test, y_pred))\n",
    "print(gcv.best_params_)\n",
    "print(gcv.best_score_)"
   ]
  },
  {
   "cell_type": "markdown",
   "id": "e6e0ea0c",
   "metadata": {},
   "source": [
    "## Pipe"
   ]
  },
  {
   "cell_type": "code",
   "execution_count": null,
   "id": "e7beffd9",
   "metadata": {},
   "outputs": [],
   "source": [
    "voting = VotingClassifier([(\"Tree\", dtc),(\"SVM_P\",pipe_svm),(\"LDA\",lda)], voting =\"soft\")\n",
    "pipe = Pipeline([(\"STD\", scaler),(\"LR\",lr)])\n",
    "pipe.get_params()"
   ]
  },
  {
   "cell_type": "markdown",
   "id": "11de1745",
   "metadata": {},
   "source": [
    "## Hyperparameter Tuning "
   ]
  },
  {
   "cell_type": "markdown",
   "id": "0a901bb0",
   "metadata": {},
   "source": [
    "##                   Grid SearchCV for Logistic Regression"
   ]
  },
  {
   "cell_type": "code",
   "execution_count": null,
   "id": "b735ea90",
   "metadata": {},
   "outputs": [],
   "source": [
    "kfold = StratifiedKFold(n_splits = 5, shuffle = True, random_state = 2022)\n",
    "lr = LogisticRegression(solver = \"saga\")\n",
    "params = {\"penalty\": [\"l1\", \"l2\", \"elasticnet\", None],\n",
    "          \"C\" : np.linspace(0.001, 4, 5),\n",
    "          \"l1_ratio\" : np.linspace(0.001, 1, 5)}\n",
    "\n",
    "gcv = GridSearchCV(lr, param_grid = params, verbose = 3, scoring = \"roc_auc\", cv = kfold)\n",
    "gcv.fit(x,y)"
   ]
  },
  {
   "cell_type": "markdown",
   "id": "7dcc00df",
   "metadata": {},
   "source": [
    "##                   Grid SearchCV for Support Vector Machine"
   ]
  },
  {
   "cell_type": "code",
   "execution_count": null,
   "id": "276be443",
   "metadata": {},
   "outputs": [],
   "source": [
    "kfold = StratifiedKFold(n_splits = 5, shuffle = True, random_state = 2022)\n",
    "params = {\"C\" : np.linspace(0.001, 10, 20),\n",
    "          \"degree\": [2,3,4],\n",
    "          \"coef0\":np.linspace(-2,4,5)}\n",
    "gcv = GridSearchCV(svm, param_grid = params, verbose = 3, scoring = \"roc_auc\", cv = kfold)\n",
    "gcv.fit(x, y)"
   ]
  },
  {
   "cell_type": "markdown",
   "id": "f4b54f65",
   "metadata": {},
   "source": [
    "##                   Grid SearchCV for Decision Tree Classifier"
   ]
  },
  {
   "cell_type": "code",
   "execution_count": null,
   "id": "bd5b50ee",
   "metadata": {},
   "outputs": [],
   "source": [
    "kfold = StratifiedKFold(n_splits = 5, shuffle = True, random_state = 2022)\n",
    "params = {\"max_depth\" : [2,3,4,5],\n",
    "          \"min_samples_split\" : [2,5,10],\n",
    "          \"min_samples_split\" : [1,5,10]}\n",
    "gcv = GridSearchCV(dtc, param_grid = params, verbose = 3, scoring = \"roc_auc\", cv = kfold)\n",
    "gcv.fit(x, y)"
   ]
  },
  {
   "cell_type": "markdown",
   "id": "c7f7859b",
   "metadata": {},
   "source": [
    "##                   Grid SearchCV for RandomForestClassifier"
   ]
  },
  {
   "cell_type": "code",
   "execution_count": null,
   "id": "39c2ca9d",
   "metadata": {},
   "outputs": [],
   "source": [
    "kfold = StratifiedKFold(n_splits = 5, shuffle = True, random_state = 2022)\n",
    "params = {\"max_features\": np.arange(3,15)}\n",
    "gcv = GridSearchCV(rfc, param_grid = params, verbose = 3, scoring = \"roc_auc\", cv = kfold)\n",
    "gcv.fit(x, y)"
   ]
  },
  {
   "cell_type": "markdown",
   "id": "88f92b52",
   "metadata": {},
   "source": [
    "## grid Search CV for XGboost and Adaboost"
   ]
  },
  {
   "cell_type": "code",
   "execution_count": null,
   "id": "a703fd2b",
   "metadata": {},
   "outputs": [],
   "source": [
    "kfold = StratifiedKFold(n_splits = 5, shuffle = True, random_state = 2022)\n",
    "params = {\"n_estimators\":[50,100,150],\n",
    "          \"max_depth\":[1,2,3,4],\n",
    "          \"learning_rate\":[0.01,0.15,0.2,0.3]}\n",
    "gcv = GridSearchCV(xgb, param_grid = params, verbose = 3, scoring = \"neg_log_loss\", cv = kfold)\n",
    "gcv.fit(x, y)"
   ]
  },
  {
   "cell_type": "markdown",
   "id": "88b13505",
   "metadata": {},
   "source": [
    "## Best Feature Graph"
   ]
  },
  {
   "cell_type": "code",
   "execution_count": null,
   "id": "8aba1922",
   "metadata": {},
   "outputs": [],
   "source": [
    "best_model = gcv.best_estimator_\n",
    "imps = best_model.feature_importances_\n",
    "\n",
    "i_sorted = np.argsort(-imps)\n",
    "n_sorted = x.columns[i_sorted]\n",
    "imp_sort = imps[i_sorted]\n",
    "plt.barh(n_sorted, imp_sort)\n",
    "plt.title(\"Sorted Feature importance\")\n",
    "plt.show()"
   ]
  }
 ],
 "metadata": {
  "kernelspec": {
   "display_name": "Python 3 (ipykernel)",
   "language": "python",
   "name": "python3"
  },
  "language_info": {
   "codemirror_mode": {
    "name": "ipython",
    "version": 3
   },
   "file_extension": ".py",
   "mimetype": "text/x-python",
   "name": "python",
   "nbconvert_exporter": "python",
   "pygments_lexer": "ipython3",
   "version": "3.9.13"
  }
 },
 "nbformat": 4,
 "nbformat_minor": 5
}
