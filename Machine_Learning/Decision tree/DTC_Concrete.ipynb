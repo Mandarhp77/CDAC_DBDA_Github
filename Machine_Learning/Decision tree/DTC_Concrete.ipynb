{
 "cells": [
  {
   "cell_type": "code",
   "execution_count": 12,
   "id": "93582eb7",
   "metadata": {},
   "outputs": [],
   "source": [
    "import pandas as pd\n",
    "import numpy as np\n",
    "import seaborn as sns\n",
    "import matplotlib.pyplot as plt\n",
    "from sklearn.tree import DecisionTreeRegressor, plot_tree\n",
    "from sklearn.model_selection import train_test_split\n",
    "from sklearn.metrics import accuracy_score\n",
    "from sklearn.metrics import roc_curve, roc_auc_score\n",
    "from sklearn.model_selection import KFold\n",
    "from sklearn.model_selection import cross_val_score\n",
    "from sklearn.model_selection import GridSearchCV, StratifiedKFold\n",
    "from sklearn import preprocessing\n",
    "from sklearn.metrics import log_loss\n",
    "from sklearn.metrics import r2_score\n",
    "from sklearn.metrics import mean_absolute_error\n",
    "from sklearn.metrics import mean_squared_error"
   ]
  },
  {
   "cell_type": "code",
   "execution_count": 13,
   "id": "7cb07057",
   "metadata": {},
   "outputs": [],
   "source": [
    "concrete = pd.read_csv(\"C:\\Aalesh and Mandar\\Datasets\\Cases\\Concrete Strength\\Concrete_Data.csv\")"
   ]
  },
  {
   "cell_type": "code",
   "execution_count": 14,
   "id": "6410807c",
   "metadata": {},
   "outputs": [
    {
     "data": {
      "text/html": [
       "<div>\n",
       "<style scoped>\n",
       "    .dataframe tbody tr th:only-of-type {\n",
       "        vertical-align: middle;\n",
       "    }\n",
       "\n",
       "    .dataframe tbody tr th {\n",
       "        vertical-align: top;\n",
       "    }\n",
       "\n",
       "    .dataframe thead th {\n",
       "        text-align: right;\n",
       "    }\n",
       "</style>\n",
       "<table border=\"1\" class=\"dataframe\">\n",
       "  <thead>\n",
       "    <tr style=\"text-align: right;\">\n",
       "      <th></th>\n",
       "      <th>Cement</th>\n",
       "      <th>Blast</th>\n",
       "      <th>Fly</th>\n",
       "      <th>Water</th>\n",
       "      <th>Superplasticizer</th>\n",
       "      <th>Coarse</th>\n",
       "      <th>Fine</th>\n",
       "      <th>Age</th>\n",
       "      <th>Strength</th>\n",
       "    </tr>\n",
       "  </thead>\n",
       "  <tbody>\n",
       "    <tr>\n",
       "      <th>0</th>\n",
       "      <td>540.0</td>\n",
       "      <td>0.0</td>\n",
       "      <td>0.0</td>\n",
       "      <td>162.0</td>\n",
       "      <td>2.5</td>\n",
       "      <td>1040.0</td>\n",
       "      <td>676.0</td>\n",
       "      <td>28</td>\n",
       "      <td>79.99</td>\n",
       "    </tr>\n",
       "    <tr>\n",
       "      <th>1</th>\n",
       "      <td>540.0</td>\n",
       "      <td>0.0</td>\n",
       "      <td>0.0</td>\n",
       "      <td>162.0</td>\n",
       "      <td>2.5</td>\n",
       "      <td>1055.0</td>\n",
       "      <td>676.0</td>\n",
       "      <td>28</td>\n",
       "      <td>61.89</td>\n",
       "    </tr>\n",
       "    <tr>\n",
       "      <th>2</th>\n",
       "      <td>332.5</td>\n",
       "      <td>142.5</td>\n",
       "      <td>0.0</td>\n",
       "      <td>228.0</td>\n",
       "      <td>0.0</td>\n",
       "      <td>932.0</td>\n",
       "      <td>594.0</td>\n",
       "      <td>270</td>\n",
       "      <td>40.27</td>\n",
       "    </tr>\n",
       "    <tr>\n",
       "      <th>3</th>\n",
       "      <td>332.5</td>\n",
       "      <td>142.5</td>\n",
       "      <td>0.0</td>\n",
       "      <td>228.0</td>\n",
       "      <td>0.0</td>\n",
       "      <td>932.0</td>\n",
       "      <td>594.0</td>\n",
       "      <td>365</td>\n",
       "      <td>41.05</td>\n",
       "    </tr>\n",
       "    <tr>\n",
       "      <th>4</th>\n",
       "      <td>198.6</td>\n",
       "      <td>132.4</td>\n",
       "      <td>0.0</td>\n",
       "      <td>192.0</td>\n",
       "      <td>0.0</td>\n",
       "      <td>978.4</td>\n",
       "      <td>825.5</td>\n",
       "      <td>360</td>\n",
       "      <td>44.30</td>\n",
       "    </tr>\n",
       "  </tbody>\n",
       "</table>\n",
       "</div>"
      ],
      "text/plain": [
       "   Cement  Blast  Fly  Water  Superplasticizer  Coarse   Fine  Age  Strength\n",
       "0   540.0    0.0  0.0  162.0               2.5  1040.0  676.0   28     79.99\n",
       "1   540.0    0.0  0.0  162.0               2.5  1055.0  676.0   28     61.89\n",
       "2   332.5  142.5  0.0  228.0               0.0   932.0  594.0  270     40.27\n",
       "3   332.5  142.5  0.0  228.0               0.0   932.0  594.0  365     41.05\n",
       "4   198.6  132.4  0.0  192.0               0.0   978.4  825.5  360     44.30"
      ]
     },
     "execution_count": 14,
     "metadata": {},
     "output_type": "execute_result"
    }
   ],
   "source": [
    "concrete.head()"
   ]
  },
  {
   "cell_type": "code",
   "execution_count": 15,
   "id": "da05664b",
   "metadata": {},
   "outputs": [],
   "source": [
    "x = house.drop(\"Strength\", axis=1)\n",
    "y = house[\"Strength\"]"
   ]
  },
  {
   "cell_type": "code",
   "execution_count": 16,
   "id": "a7cbc16c",
   "metadata": {},
   "outputs": [],
   "source": [
    "x_train, x_test, y_train, y_test = train_test_split(x, y, random_state = 2022, test_size = 0.3)"
   ]
  },
  {
   "cell_type": "code",
   "execution_count": 17,
   "id": "21091ef3",
   "metadata": {},
   "outputs": [
    {
     "name": "stdout",
     "output_type": "stream",
     "text": [
      "0.4270941483720333\n"
     ]
    }
   ],
   "source": [
    "dtr = DecisionTreeRegressor( random_state = 2022, max_depth = 2)\n",
    "dtr.fit(x_train, y_train)\n",
    "y_pred = dtr.predict(x_test)\n",
    "print(r2_score(y_test, y_pred))"
   ]
  },
  {
   "cell_type": "markdown",
   "id": "95e906d4",
   "metadata": {},
   "source": [
    "plt.figure(figsize=(40,20))\n",
    "plot_tree(dtc, feature_names = x.columns, class_names=[\"0\",\"1\"], fontsize=14)\n",
    "plt.show()"
   ]
  },
  {
   "cell_type": "code",
   "execution_count": 18,
   "id": "4686eae1",
   "metadata": {},
   "outputs": [
    {
     "name": "stdout",
     "output_type": "stream",
     "text": [
      "Fitting 5 folds for each of 15 candidates, totalling 75 fits\n",
      "[CV 1/5] END ....max_depth=2, min_samples_split=1;, score=nan total time=   0.0s\n",
      "[CV 2/5] END ....max_depth=2, min_samples_split=1;, score=nan total time=   0.0s\n",
      "[CV 3/5] END ....max_depth=2, min_samples_split=1;, score=nan total time=   0.0s\n",
      "[CV 4/5] END ....max_depth=2, min_samples_split=1;, score=nan total time=   0.0s\n",
      "[CV 5/5] END ....max_depth=2, min_samples_split=1;, score=nan total time=   0.0s\n",
      "[CV 1/5] END ..max_depth=2, min_samples_split=5;, score=0.425 total time=   0.0s\n",
      "[CV 2/5] END ..max_depth=2, min_samples_split=5;, score=0.441 total time=   0.0s\n",
      "[CV 3/5] END ..max_depth=2, min_samples_split=5;, score=0.453 total time=   0.0s\n",
      "[CV 4/5] END ..max_depth=2, min_samples_split=5;, score=0.498 total time=   0.0s\n",
      "[CV 5/5] END ..max_depth=2, min_samples_split=5;, score=0.487 total time=   0.0s\n",
      "[CV 1/5] END .max_depth=2, min_samples_split=10;, score=0.425 total time=   0.0s\n",
      "[CV 2/5] END .max_depth=2, min_samples_split=10;, score=0.441 total time=   0.0s\n",
      "[CV 3/5] END .max_depth=2, min_samples_split=10;, score=0.453 total time=   0.0s\n",
      "[CV 4/5] END .max_depth=2, min_samples_split=10;, score=0.498 total time=   0.0s\n",
      "[CV 5/5] END .max_depth=2, min_samples_split=10;, score=0.487 total time=   0.0s\n",
      "[CV 1/5] END ....max_depth=3, min_samples_split=1;, score=nan total time=   0.0s\n",
      "[CV 2/5] END ....max_depth=3, min_samples_split=1;, score=nan total time=   0.0s\n",
      "[CV 3/5] END ....max_depth=3, min_samples_split=1;, score=nan total time=   0.0s\n",
      "[CV 4/5] END ....max_depth=3, min_samples_split=1;, score=nan total time=   0.0s\n",
      "[CV 5/5] END ....max_depth=3, min_samples_split=1;, score=nan total time=   0.0s\n",
      "[CV 1/5] END ..max_depth=3, min_samples_split=5;, score=0.549 total time=   0.0s\n",
      "[CV 2/5] END ..max_depth=3, min_samples_split=5;, score=0.581 total time=   0.0s\n",
      "[CV 3/5] END ..max_depth=3, min_samples_split=5;, score=0.643 total time=   0.0s\n",
      "[CV 4/5] END ..max_depth=3, min_samples_split=5;, score=0.625 total time=   0.0s\n",
      "[CV 5/5] END ..max_depth=3, min_samples_split=5;, score=0.573 total time=   0.0s\n",
      "[CV 1/5] END .max_depth=3, min_samples_split=10;, score=0.549 total time=   0.0s\n",
      "[CV 2/5] END .max_depth=3, min_samples_split=10;, score=0.581 total time=   0.0s\n",
      "[CV 3/5] END .max_depth=3, min_samples_split=10;, score=0.643 total time=   0.0s\n",
      "[CV 4/5] END .max_depth=3, min_samples_split=10;, score=0.625 total time=   0.0s\n",
      "[CV 5/5] END .max_depth=3, min_samples_split=10;, score=0.573 total time=   0.0s\n",
      "[CV 1/5] END ....max_depth=4, min_samples_split=1;, score=nan total time=   0.0s\n",
      "[CV 2/5] END ....max_depth=4, min_samples_split=1;, score=nan total time=   0.0s\n",
      "[CV 3/5] END ....max_depth=4, min_samples_split=1;, score=nan total time=   0.0s\n",
      "[CV 4/5] END ....max_depth=4, min_samples_split=1;, score=nan total time=   0.0s\n",
      "[CV 5/5] END ....max_depth=4, min_samples_split=1;, score=nan total time=   0.0s\n",
      "[CV 1/5] END ..max_depth=4, min_samples_split=5;, score=0.677 total time=   0.0s\n",
      "[CV 2/5] END ..max_depth=4, min_samples_split=5;, score=0.680 total time=   0.0s\n",
      "[CV 3/5] END ..max_depth=4, min_samples_split=5;, score=0.688 total time=   0.0s\n",
      "[CV 4/5] END ..max_depth=4, min_samples_split=5;, score=0.715 total time=   0.0s\n",
      "[CV 5/5] END ..max_depth=4, min_samples_split=5;, score=0.670 total time=   0.0s\n",
      "[CV 1/5] END .max_depth=4, min_samples_split=10;, score=0.677 total time=   0.0s\n",
      "[CV 2/5] END .max_depth=4, min_samples_split=10;, score=0.680 total time=   0.0s\n",
      "[CV 3/5] END .max_depth=4, min_samples_split=10;, score=0.688 total time=   0.0s\n",
      "[CV 4/5] END .max_depth=4, min_samples_split=10;, score=0.715 total time=   0.0s\n",
      "[CV 5/5] END .max_depth=4, min_samples_split=10;, score=0.670 total time=   0.0s\n",
      "[CV 1/5] END ....max_depth=5, min_samples_split=1;, score=nan total time=   0.0s\n",
      "[CV 2/5] END ....max_depth=5, min_samples_split=1;, score=nan total time=   0.0s\n",
      "[CV 3/5] END ....max_depth=5, min_samples_split=1;, score=nan total time=   0.0s\n",
      "[CV 4/5] END ....max_depth=5, min_samples_split=1;, score=nan total time=   0.0s\n",
      "[CV 5/5] END ....max_depth=5, min_samples_split=1;, score=nan total time=   0.0s\n",
      "[CV 1/5] END ..max_depth=5, min_samples_split=5;, score=0.771 total time=   0.0s\n",
      "[CV 2/5] END ..max_depth=5, min_samples_split=5;, score=0.757 total time=   0.0s\n",
      "[CV 3/5] END ..max_depth=5, min_samples_split=5;, score=0.658 total time=   0.0s\n",
      "[CV 4/5] END ..max_depth=5, min_samples_split=5;, score=0.794 total time=   0.0s\n",
      "[CV 5/5] END ..max_depth=5, min_samples_split=5;, score=0.736 total time=   0.0s\n",
      "[CV 1/5] END .max_depth=5, min_samples_split=10;, score=0.771 total time=   0.0s\n",
      "[CV 2/5] END .max_depth=5, min_samples_split=10;, score=0.757 total time=   0.0s\n",
      "[CV 3/5] END .max_depth=5, min_samples_split=10;, score=0.656 total time=   0.0s\n",
      "[CV 4/5] END .max_depth=5, min_samples_split=10;, score=0.794 total time=   0.0s\n",
      "[CV 5/5] END .max_depth=5, min_samples_split=10;, score=0.737 total time=   0.0s\n",
      "[CV 1/5] END .max_depth=None, min_samples_split=1;, score=nan total time=   0.0s\n",
      "[CV 2/5] END .max_depth=None, min_samples_split=1;, score=nan total time=   0.0s\n",
      "[CV 3/5] END .max_depth=None, min_samples_split=1;, score=nan total time=   0.0s\n",
      "[CV 4/5] END .max_depth=None, min_samples_split=1;, score=nan total time=   0.0s\n",
      "[CV 5/5] END .max_depth=None, min_samples_split=1;, score=nan total time=   0.0s\n",
      "[CV 1/5] END max_depth=None, min_samples_split=5;, score=0.829 total time=   0.0s\n",
      "[CV 2/5] END max_depth=None, min_samples_split=5;, score=0.885 total time=   0.0s\n",
      "[CV 3/5] END max_depth=None, min_samples_split=5;, score=0.744 total time=   0.0s\n",
      "[CV 4/5] END max_depth=None, min_samples_split=5;, score=0.888 total time=   0.0s\n",
      "[CV 5/5] END max_depth=None, min_samples_split=5;, score=0.904 total time=   0.0s\n",
      "[CV 1/5] END max_depth=None, min_samples_split=10;, score=0.819 total time=   0.0s\n",
      "[CV 2/5] END max_depth=None, min_samples_split=10;, score=0.867 total time=   0.0s\n",
      "[CV 3/5] END max_depth=None, min_samples_split=10;, score=0.765 total time=   0.0s\n",
      "[CV 4/5] END max_depth=None, min_samples_split=10;, score=0.882 total time=   0.0s\n",
      "[CV 5/5] END max_depth=None, min_samples_split=10;, score=0.884 total time=   0.0s\n"
     ]
    },
    {
     "name": "stderr",
     "output_type": "stream",
     "text": [
      "C:\\Users\\admin\\anaconda3\\lib\\site-packages\\sklearn\\model_selection\\_validation.py:372: FitFailedWarning: \n",
      "25 fits failed out of a total of 75.\n",
      "The score on these train-test partitions for these parameters will be set to nan.\n",
      "If these failures are not expected, you can try to debug them by setting error_score='raise'.\n",
      "\n",
      "Below are more details about the failures:\n",
      "--------------------------------------------------------------------------------\n",
      "25 fits failed with the following error:\n",
      "Traceback (most recent call last):\n",
      "  File \"C:\\Users\\admin\\anaconda3\\lib\\site-packages\\sklearn\\model_selection\\_validation.py\", line 680, in _fit_and_score\n",
      "    estimator.fit(X_train, y_train, **fit_params)\n",
      "  File \"C:\\Users\\admin\\anaconda3\\lib\\site-packages\\sklearn\\tree\\_classes.py\", line 1315, in fit\n",
      "    super().fit(\n",
      "  File \"C:\\Users\\admin\\anaconda3\\lib\\site-packages\\sklearn\\tree\\_classes.py\", line 250, in fit\n",
      "    raise ValueError(\n",
      "ValueError: min_samples_split must be an integer greater than 1 or a float in (0.0, 1.0]; got the integer 1\n",
      "\n",
      "  warnings.warn(some_fits_failed_message, FitFailedWarning)\n",
      "C:\\Users\\admin\\anaconda3\\lib\\site-packages\\sklearn\\model_selection\\_search.py:969: UserWarning: One or more of the test scores are non-finite: [       nan 0.46061961 0.46061961        nan 0.59428203 0.59428203\n",
      "        nan 0.68616786 0.68616786        nan 0.74336313 0.74298806\n",
      "        nan 0.84996147 0.84355835]\n",
      "  warnings.warn(\n"
     ]
    },
    {
     "data": {
      "text/plain": [
       "GridSearchCV(cv=KFold(n_splits=5, random_state=2022, shuffle=True),\n",
       "             estimator=DecisionTreeRegressor(random_state=2022),\n",
       "             param_grid={'max_depth': [2, 3, 4, 5, None],\n",
       "                         'min_samples_split': [1, 5, 10]},\n",
       "             scoring='r2', verbose=3)"
      ]
     },
     "execution_count": 18,
     "metadata": {},
     "output_type": "execute_result"
    }
   ],
   "source": [
    "kfold = KFold(n_splits = 5, shuffle = True, random_state = 2022)\n",
    "dtr = DecisionTreeRegressor(random_state = 2022)\n",
    "params = {\"max_depth\" : [2,3,4,5,None],\n",
    "          \"min_samples_split\" : [2,5,10],\n",
    "          \"min_samples_split\" : [1,5,10]}\n",
    "gcv = GridSearchCV(dtr, param_grid = params, verbose = 3, scoring = \"r2\", cv = kfold)\n",
    "gcv.fit(x, y)"
   ]
  },
  {
   "cell_type": "code",
   "execution_count": 19,
   "id": "549e0fd6",
   "metadata": {},
   "outputs": [
    {
     "name": "stdout",
     "output_type": "stream",
     "text": [
      "{'max_depth': None, 'min_samples_split': 5}\n",
      "0.8499614669673818\n"
     ]
    }
   ],
   "source": [
    "print(gcv.best_params_)\n",
    "print(gcv.best_score_)\n",
    "best_model = gcv.best_estimator_"
   ]
  },
  {
   "cell_type": "code",
   "execution_count": 20,
   "id": "85d6498f",
   "metadata": {},
   "outputs": [
    {
     "name": "stdout",
     "output_type": "stream",
     "text": [
      "[0.36567268 0.11043257 0.01046446 0.11057723 0.02484697 0.0321148\n",
      " 0.02321728 0.32267402]\n"
     ]
    },
    {
     "data": {
      "image/png": "[encoded data removed]",
      "text/plain": [
       "<Figure size 640x480 with 1 Axes>"
      ]
     },
     "metadata": {},
     "output_type": "display_data"
    }
   ],
   "source": [
    "print(best_model.feature_importances_)\n",
    "imps = best_model.feature_importances_\n",
    "plt.barh(x.columns, imps)\n",
    "plt.show()"
   ]
  },
  {
   "cell_type": "code",
   "execution_count": 21,
   "id": "98453553",
   "metadata": {},
   "outputs": [
    {
     "data": {
      "image/png": "[encoded data removed]",
      "text/plain": [
       "<Figure size 640x480 with 1 Axes>"
      ]
     },
     "metadata": {},
     "output_type": "display_data"
    }
   ],
   "source": [
    "i_sorted = np.argsort(-imps)\n",
    "n_sorted = x.columns[i_sorted]\n",
    "imp_sort = imps[i_sorted]\n",
    "plt.barh(n_sorted, imp_sort)\n",
    "plt.title(\"Sorted Feature importance\")\n",
    "plt.show()"
   ]
  },
  {
   "cell_type": "code",
   "execution_count": null,
   "id": "2d509560",
   "metadata": {},
   "outputs": [],
   "source": []
  }
 ],
 "metadata": {
  "kernelspec": {
   "display_name": "Python 3 (ipykernel)",
   "language": "python",
   "name": "python3"
  },
  "language_info": {
   "codemirror_mode": {
    "name": "ipython",
    "version": 3
   },
   "file_extension": ".py",
   "mimetype": "text/x-python",
   "name": "python",
   "nbconvert_exporter": "python",
   "pygments_lexer": "ipython3",
   "version": "3.9.13"
  }
 },
 "nbformat": 4,
 "nbformat_minor": 5
}
