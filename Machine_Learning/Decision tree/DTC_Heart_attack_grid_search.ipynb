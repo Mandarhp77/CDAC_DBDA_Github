{
 "cells": [
  {
   "cell_type": "code",
   "execution_count": 38,
   "id": "93582eb7",
   "metadata": {},
   "outputs": [],
   "source": [
    "import pandas as pd\n",
    "import numpy as np\n",
    "import seaborn as sns\n",
    "import matplotlib.pyplot as plt\n",
    "from sklearn.tree import DecisionTreeClassifier, plot_tree\n",
    "from sklearn.model_selection import train_test_split\n",
    "from sklearn.metrics import accuracy_score\n",
    "from sklearn.metrics import roc_curve, roc_auc_score\n",
    "from sklearn.model_selection import KFold\n",
    "from sklearn.model_selection import cross_val_score\n",
    "from sklearn.model_selection import GridSearchCV, StratifiedKFold\n",
    "from sklearn import preprocessing\n",
    "from sklearn.metrics import log_loss"
   ]
  },
  {
   "cell_type": "code",
   "execution_count": 39,
   "id": "7cb07057",
   "metadata": {},
   "outputs": [],
   "source": [
    "heart = pd.read_csv(\"C:\\Aalesh and Mandar\\Datasets\\Cases\\Heart Attack\\heart.csv\")"
   ]
  },
  {
   "cell_type": "code",
   "execution_count": 40,
   "id": "6410807c",
   "metadata": {},
   "outputs": [
    {
     "data": {
      "text/html": [
       "<div>\n",
       "<style scoped>\n",
       "    .dataframe tbody tr th:only-of-type {\n",
       "        vertical-align: middle;\n",
       "    }\n",
       "\n",
       "    .dataframe tbody tr th {\n",
       "        vertical-align: top;\n",
       "    }\n",
       "\n",
       "    .dataframe thead th {\n",
       "        text-align: right;\n",
       "    }\n",
       "</style>\n",
       "<table border=\"1\" class=\"dataframe\">\n",
       "  <thead>\n",
       "    <tr style=\"text-align: right;\">\n",
       "      <th></th>\n",
       "      <th>age</th>\n",
       "      <th>sex</th>\n",
       "      <th>cp</th>\n",
       "      <th>trtbps</th>\n",
       "      <th>chol</th>\n",
       "      <th>fbs</th>\n",
       "      <th>restecg</th>\n",
       "      <th>thalachh</th>\n",
       "      <th>exng</th>\n",
       "      <th>oldpeak</th>\n",
       "      <th>slp</th>\n",
       "      <th>caa</th>\n",
       "      <th>thall</th>\n",
       "      <th>output</th>\n",
       "    </tr>\n",
       "  </thead>\n",
       "  <tbody>\n",
       "    <tr>\n",
       "      <th>0</th>\n",
       "      <td>63</td>\n",
       "      <td>1</td>\n",
       "      <td>3</td>\n",
       "      <td>145</td>\n",
       "      <td>233</td>\n",
       "      <td>1</td>\n",
       "      <td>0</td>\n",
       "      <td>150</td>\n",
       "      <td>0</td>\n",
       "      <td>2.3</td>\n",
       "      <td>0</td>\n",
       "      <td>0</td>\n",
       "      <td>1</td>\n",
       "      <td>1</td>\n",
       "    </tr>\n",
       "    <tr>\n",
       "      <th>1</th>\n",
       "      <td>37</td>\n",
       "      <td>1</td>\n",
       "      <td>2</td>\n",
       "      <td>130</td>\n",
       "      <td>250</td>\n",
       "      <td>0</td>\n",
       "      <td>1</td>\n",
       "      <td>187</td>\n",
       "      <td>0</td>\n",
       "      <td>3.5</td>\n",
       "      <td>0</td>\n",
       "      <td>0</td>\n",
       "      <td>2</td>\n",
       "      <td>1</td>\n",
       "    </tr>\n",
       "    <tr>\n",
       "      <th>2</th>\n",
       "      <td>41</td>\n",
       "      <td>0</td>\n",
       "      <td>1</td>\n",
       "      <td>130</td>\n",
       "      <td>204</td>\n",
       "      <td>0</td>\n",
       "      <td>0</td>\n",
       "      <td>172</td>\n",
       "      <td>0</td>\n",
       "      <td>1.4</td>\n",
       "      <td>2</td>\n",
       "      <td>0</td>\n",
       "      <td>2</td>\n",
       "      <td>1</td>\n",
       "    </tr>\n",
       "    <tr>\n",
       "      <th>3</th>\n",
       "      <td>56</td>\n",
       "      <td>1</td>\n",
       "      <td>1</td>\n",
       "      <td>120</td>\n",
       "      <td>236</td>\n",
       "      <td>0</td>\n",
       "      <td>1</td>\n",
       "      <td>178</td>\n",
       "      <td>0</td>\n",
       "      <td>0.8</td>\n",
       "      <td>2</td>\n",
       "      <td>0</td>\n",
       "      <td>2</td>\n",
       "      <td>1</td>\n",
       "    </tr>\n",
       "    <tr>\n",
       "      <th>4</th>\n",
       "      <td>57</td>\n",
       "      <td>0</td>\n",
       "      <td>0</td>\n",
       "      <td>120</td>\n",
       "      <td>354</td>\n",
       "      <td>0</td>\n",
       "      <td>1</td>\n",
       "      <td>163</td>\n",
       "      <td>1</td>\n",
       "      <td>0.6</td>\n",
       "      <td>2</td>\n",
       "      <td>0</td>\n",
       "      <td>2</td>\n",
       "      <td>1</td>\n",
       "    </tr>\n",
       "  </tbody>\n",
       "</table>\n",
       "</div>"
      ],
      "text/plain": [
       "   age  sex  cp  trtbps  chol  fbs  restecg  thalachh  exng  oldpeak  slp  \\\n",
       "0   63    1   3     145   233    1        0       150     0      2.3    0   \n",
       "1   37    1   2     130   250    0        1       187     0      3.5    0   \n",
       "2   41    0   1     130   204    0        0       172     0      1.4    2   \n",
       "3   56    1   1     120   236    0        1       178     0      0.8    2   \n",
       "4   57    0   0     120   354    0        1       163     1      0.6    2   \n",
       "\n",
       "   caa  thall  output  \n",
       "0    0      1       1  \n",
       "1    0      2       1  \n",
       "2    0      2       1  \n",
       "3    0      2       1  \n",
       "4    0      2       1  "
      ]
     },
     "execution_count": 40,
     "metadata": {},
     "output_type": "execute_result"
    }
   ],
   "source": [
    "heart.head()"
   ]
  },
  {
   "cell_type": "code",
   "execution_count": 41,
   "id": "da05664b",
   "metadata": {},
   "outputs": [],
   "source": [
    "x = Vehicle.drop(\"output\", axis=1)\n",
    "y = Vehicle[\"output\"]"
   ]
  },
  {
   "cell_type": "code",
   "execution_count": 42,
   "id": "a7cbc16c",
   "metadata": {},
   "outputs": [],
   "source": [
    "x_train, x_test, y_train, y_test = train_test_split(x, y, random_state = 2022, test_size = 0.3)"
   ]
  },
  {
   "cell_type": "code",
   "execution_count": 43,
   "id": "21091ef3",
   "metadata": {},
   "outputs": [],
   "source": [
    "dtc = DecisionTreeClassifier( random_state = 2022, max_depth = 4)\n",
    "dtc.fit(x_train, y_train)\n",
    "y_pred = dtc.predict(x_test)\n",
    "y_pred_prob = dtc.predict_proba(x_test)[:,1]"
   ]
  },
  {
   "cell_type": "markdown",
   "id": "95e906d4",
   "metadata": {},
   "source": [
    "plt.figure(figsize=(40,20))\n",
    "plot_tree(dtc, feature_names = x.columns, class_names=[\"0\",\"1\"], fontsize=14)\n",
    "plt.show()"
   ]
  },
  {
   "cell_type": "code",
   "execution_count": 44,
   "id": "75c0fe40",
   "metadata": {},
   "outputs": [
    {
     "name": "stdout",
     "output_type": "stream",
     "text": [
      "0.7582417582417582\n",
      "0.7790697674418605\n"
     ]
    }
   ],
   "source": [
    "print(accuracy_score(y_test, y_pred))\n",
    "print(roc_auc_score(y_test, y_pred_prob))"
   ]
  },
  {
   "cell_type": "code",
   "execution_count": 45,
   "id": "4686eae1",
   "metadata": {},
   "outputs": [
    {
     "name": "stdout",
     "output_type": "stream",
     "text": [
      "Fitting 5 folds for each of 15 candidates, totalling 75 fits\n",
      "[CV 1/5] END ....max_depth=2, min_samples_split=1;, score=nan total time=   0.0s\n",
      "[CV 2/5] END ....max_depth=2, min_samples_split=1;, score=nan total time=   0.0s\n",
      "[CV 3/5] END ....max_depth=2, min_samples_split=1;, score=nan total time=   0.0s\n",
      "[CV 4/5] END ....max_depth=2, min_samples_split=1;, score=nan total time=   0.0s\n",
      "[CV 5/5] END ....max_depth=2, min_samples_split=1;, score=nan total time=   0.0s\n",
      "[CV 1/5] END ..max_depth=2, min_samples_split=5;, score=0.707 total time=   0.0s\n",
      "[CV 2/5] END ..max_depth=2, min_samples_split=5;, score=0.799 total time=   0.0s\n",
      "[CV 3/5] END ..max_depth=2, min_samples_split=5;, score=0.796 total time=   0.0s\n",
      "[CV 4/5] END ..max_depth=2, min_samples_split=5;, score=0.916 total time=   0.0s\n",
      "[CV 5/5] END ..max_depth=2, min_samples_split=5;, score=0.788 total time=   0.0s\n",
      "[CV 1/5] END .max_depth=2, min_samples_split=10;, score=0.707 total time=   0.0s\n",
      "[CV 2/5] END .max_depth=2, min_samples_split=10;, score=0.799 total time=   0.0s\n",
      "[CV 3/5] END .max_depth=2, min_samples_split=10;, score=0.796 total time=   0.0s\n",
      "[CV 4/5] END .max_depth=2, min_samples_split=10;, score=0.916 total time=   0.0s\n",
      "[CV 5/5] END .max_depth=2, min_samples_split=10;, score=0.788 total time=   0.0s\n",
      "[CV 1/5] END ....max_depth=3, min_samples_split=1;, score=nan total time=   0.0s\n",
      "[CV 2/5] END ....max_depth=3, min_samples_split=1;, score=nan total time=   0.0s\n",
      "[CV 3/5] END ....max_depth=3, min_samples_split=1;, score=nan total time=   0.0s\n",
      "[CV 4/5] END ....max_depth=3, min_samples_split=1;, score=nan total time=   0.0s\n",
      "[CV 5/5] END ....max_depth=3, min_samples_split=1;, score=nan total time=   0.0s\n",
      "[CV 1/5] END ..max_depth=3, min_samples_split=5;, score=0.742 total time=   0.0s\n",
      "[CV 2/5] END ..max_depth=3, min_samples_split=5;, score=0.807 total time=   0.0s\n",
      "[CV 3/5] END ..max_depth=3, min_samples_split=5;, score=0.841 total time=   0.0s\n",
      "[CV 4/5] END ..max_depth=3, min_samples_split=5;, score=0.915 total time=   0.0s\n",
      "[CV 5/5] END ..max_depth=3, min_samples_split=5;, score=0.833 total time=   0.0s\n",
      "[CV 1/5] END .max_depth=3, min_samples_split=10;, score=0.742 total time=   0.0s\n",
      "[CV 2/5] END .max_depth=3, min_samples_split=10;, score=0.807 total time=   0.0s\n",
      "[CV 3/5] END .max_depth=3, min_samples_split=10;, score=0.841 total time=   0.0s\n",
      "[CV 4/5] END .max_depth=3, min_samples_split=10;, score=0.915 total time=   0.0s\n",
      "[CV 5/5] END .max_depth=3, min_samples_split=10;, score=0.833 total time=   0.0s\n",
      "[CV 1/5] END ....max_depth=4, min_samples_split=1;, score=nan total time=   0.0s\n",
      "[CV 2/5] END ....max_depth=4, min_samples_split=1;, score=nan total time=   0.0s\n",
      "[CV 3/5] END ....max_depth=4, min_samples_split=1;, score=nan total time=   0.0s\n",
      "[CV 4/5] END ....max_depth=4, min_samples_split=1;, score=nan total time=   0.0s\n",
      "[CV 5/5] END ....max_depth=4, min_samples_split=1;, score=nan total time=   0.0s\n",
      "[CV 1/5] END ..max_depth=4, min_samples_split=5;, score=0.702 total time=   0.0s\n",
      "[CV 2/5] END ..max_depth=4, min_samples_split=5;, score=0.781 total time=   0.0s\n",
      "[CV 3/5] END ..max_depth=4, min_samples_split=5;, score=0.813 total time=   0.0s\n",
      "[CV 4/5] END ..max_depth=4, min_samples_split=5;, score=0.869 total time=   0.0s\n",
      "[CV 5/5] END ..max_depth=4, min_samples_split=5;, score=0.824 total time=   0.0s\n",
      "[CV 1/5] END .max_depth=4, min_samples_split=10;, score=0.702 total time=   0.0s\n",
      "[CV 2/5] END .max_depth=4, min_samples_split=10;, score=0.782 total time=   0.0s\n",
      "[CV 3/5] END .max_depth=4, min_samples_split=10;, score=0.807 total time=   0.0s\n",
      "[CV 4/5] END .max_depth=4, min_samples_split=10;, score=0.880 total time=   0.0s\n",
      "[CV 5/5] END .max_depth=4, min_samples_split=10;, score=0.824 total time=   0.0s\n",
      "[CV 1/5] END ....max_depth=5, min_samples_split=1;, score=nan total time=   0.0s\n",
      "[CV 2/5] END ....max_depth=5, min_samples_split=1;, score=nan total time=   0.0s\n",
      "[CV 3/5] END ....max_depth=5, min_samples_split=1;, score=nan total time=   0.0s\n",
      "[CV 4/5] END ....max_depth=5, min_samples_split=1;, score=nan total time=   0.0s\n",
      "[CV 5/5] END ....max_depth=5, min_samples_split=1;, score=nan total time=   0.0s\n",
      "[CV 1/5] END ..max_depth=5, min_samples_split=5;, score=0.703 total time=   0.0s\n",
      "[CV 2/5] END ..max_depth=5, min_samples_split=5;, score=0.787 total time=   0.0s\n",
      "[CV 3/5] END ..max_depth=5, min_samples_split=5;, score=0.851 total time=   0.0s\n",
      "[CV 4/5] END ..max_depth=5, min_samples_split=5;, score=0.836 total time=   0.0s\n",
      "[CV 5/5] END ..max_depth=5, min_samples_split=5;, score=0.788 total time=   0.0s\n",
      "[CV 1/5] END .max_depth=5, min_samples_split=10;, score=0.703 total time=   0.0s\n",
      "[CV 2/5] END .max_depth=5, min_samples_split=10;, score=0.788 total time=   0.0s\n",
      "[CV 3/5] END .max_depth=5, min_samples_split=10;, score=0.847 total time=   0.0s\n",
      "[CV 4/5] END .max_depth=5, min_samples_split=10;, score=0.870 total time=   0.0s\n",
      "[CV 5/5] END .max_depth=5, min_samples_split=10;, score=0.822 total time=   0.0s\n",
      "[CV 1/5] END .max_depth=None, min_samples_split=1;, score=nan total time=   0.0s\n",
      "[CV 2/5] END .max_depth=None, min_samples_split=1;, score=nan total time=   0.0s\n",
      "[CV 3/5] END .max_depth=None, min_samples_split=1;, score=nan total time=   0.0s\n",
      "[CV 4/5] END .max_depth=None, min_samples_split=1;, score=nan total time=   0.0s\n",
      "[CV 5/5] END .max_depth=None, min_samples_split=1;, score=nan total time=   0.0s\n",
      "[CV 1/5] END max_depth=None, min_samples_split=5;, score=0.582 total time=   0.0s\n",
      "[CV 2/5] END max_depth=None, min_samples_split=5;, score=0.815 total time=   0.0s\n",
      "[CV 3/5] END max_depth=None, min_samples_split=5;, score=0.781 total time=   0.0s\n",
      "[CV 4/5] END max_depth=None, min_samples_split=5;, score=0.813 total time=   0.0s\n",
      "[CV 5/5] END max_depth=None, min_samples_split=5;, score=0.768 total time=   0.0s\n",
      "[CV 1/5] END max_depth=None, min_samples_split=10;, score=0.607 total time=   0.0s\n",
      "[CV 2/5] END max_depth=None, min_samples_split=10;, score=0.805 total time=   0.0s\n",
      "[CV 3/5] END max_depth=None, min_samples_split=10;, score=0.809 total time=   0.0s\n",
      "[CV 4/5] END max_depth=None, min_samples_split=10;, score=0.886 total time=   0.0s\n",
      "[CV 5/5] END max_depth=None, min_samples_split=10;, score=0.816 total time=   0.0s\n"
     ]
    },
    {
     "name": "stderr",
     "output_type": "stream",
     "text": [
      "C:\\Users\\admin\\anaconda3\\lib\\site-packages\\sklearn\\model_selection\\_validation.py:372: FitFailedWarning: \n",
      "25 fits failed out of a total of 75.\n",
      "The score on these train-test partitions for these parameters will be set to nan.\n",
      "If these failures are not expected, you can try to debug them by setting error_score='raise'.\n",
      "\n",
      "Below are more details about the failures:\n",
      "--------------------------------------------------------------------------------\n",
      "25 fits failed with the following error:\n",
      "Traceback (most recent call last):\n",
      "  File \"C:\\Users\\admin\\anaconda3\\lib\\site-packages\\sklearn\\model_selection\\_validation.py\", line 680, in _fit_and_score\n",
      "    estimator.fit(X_train, y_train, **fit_params)\n",
      "  File \"C:\\Users\\admin\\anaconda3\\lib\\site-packages\\sklearn\\tree\\_classes.py\", line 937, in fit\n",
      "    super().fit(\n",
      "  File \"C:\\Users\\admin\\anaconda3\\lib\\site-packages\\sklearn\\tree\\_classes.py\", line 250, in fit\n",
      "    raise ValueError(\n",
      "ValueError: min_samples_split must be an integer greater than 1 or a float in (0.0, 1.0]; got the integer 1\n",
      "\n",
      "  warnings.warn(some_fits_failed_message, FitFailedWarning)\n",
      "C:\\Users\\admin\\anaconda3\\lib\\site-packages\\sklearn\\model_selection\\_search.py:969: UserWarning: One or more of the test scores are non-finite: [       nan 0.80135081 0.80135081        nan 0.82774571 0.82774571\n",
      "        nan 0.79791566 0.79918631        nan 0.79298541 0.80613276\n",
      "        nan 0.75198814 0.78466811]\n",
      "  warnings.warn(\n"
     ]
    },
    {
     "data": {
      "text/plain": [
       "GridSearchCV(cv=StratifiedKFold(n_splits=5, random_state=2022, shuffle=True),\n",
       "             estimator=DecisionTreeClassifier(random_state=2022),\n",
       "             param_grid={'max_depth': [2, 3, 4, 5, None],\n",
       "                         'min_samples_split': [1, 5, 10]},\n",
       "             scoring='roc_auc', verbose=3)"
      ]
     },
     "execution_count": 45,
     "metadata": {},
     "output_type": "execute_result"
    }
   ],
   "source": [
    "kfold = StratifiedKFold(n_splits = 5, shuffle = True, random_state = 2022)\n",
    "dtc = DecisionTreeClassifier(random_state = 2022)\n",
    "params = {\"max_depth\" : [2,3,4,5,None],\n",
    "          \"min_samples_split\" : [2,5,10],\n",
    "          \"min_samples_split\" : [1,5,10]}\n",
    "gcv = GridSearchCV(dtc, param_grid = params, verbose = 3, scoring = \"roc_auc\", cv = kfold)\n",
    "gcv.fit(x, y)"
   ]
  },
  {
   "cell_type": "code",
   "execution_count": 46,
   "id": "549e0fd6",
   "metadata": {},
   "outputs": [
    {
     "name": "stdout",
     "output_type": "stream",
     "text": [
      "{'max_depth': 3, 'min_samples_split': 5}\n",
      "0.8277457110790444\n"
     ]
    }
   ],
   "source": [
    "print(gcv.best_params_)\n",
    "print(gcv.best_score_)\n",
    "best_model = gcv.best_estimator_"
   ]
  },
  {
   "cell_type": "code",
   "execution_count": 47,
   "id": "85d6498f",
   "metadata": {},
   "outputs": [
    {
     "name": "stdout",
     "output_type": "stream",
     "text": [
      "[0.04392225 0.         0.49985321 0.01505751 0.         0.\n",
      " 0.         0.04297948 0.         0.         0.         0.18657214\n",
      " 0.21161541]\n"
     ]
    },
    {
     "data": {
      "image/png": "[encoded data removed]",
      "text/plain": [
       "<Figure size 640x480 with 1 Axes>"
      ]
     },
     "metadata": {},
     "output_type": "display_data"
    }
   ],
   "source": [
    "print(best_model.feature_importances_)\n",
    "imps = best_model.feature_importances_\n",
    "plt.barh(x.columns, imps)\n",
    "plt.show()"
   ]
  },
  {
   "cell_type": "code",
   "execution_count": null,
   "id": "98453553",
   "metadata": {},
   "outputs": [],
   "source": []
  },
  {
   "cell_type": "code",
   "execution_count": null,
   "id": "9205f15f",
   "metadata": {},
   "outputs": [],
   "source": []
  },
  {
   "cell_type": "code",
   "execution_count": null,
   "id": "a661d714",
   "metadata": {},
   "outputs": [],
   "source": []
  }
 ],
 "metadata": {
  "kernelspec": {
   "display_name": "Python 3 (ipykernel)",
   "language": "python",
   "name": "python3"
  },
  "language_info": {
   "codemirror_mode": {
    "name": "ipython",
    "version": 3
   },
   "file_extension": ".py",
   "mimetype": "text/x-python",
   "name": "python",
   "nbconvert_exporter": "python",
   "pygments_lexer": "ipython3",
   "version": "3.9.13"
  }
 },
 "nbformat": 4,
 "nbformat_minor": 5
}
