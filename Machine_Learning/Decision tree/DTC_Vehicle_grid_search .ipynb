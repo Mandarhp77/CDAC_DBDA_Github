{
 "cells": [
  {
   "cell_type": "code",
   "execution_count": 42,
   "id": "93582eb7",
   "metadata": {},
   "outputs": [],
   "source": [
    "import pandas as pd\n",
    "import numpy as np\n",
    "import seaborn as sns\n",
    "import matplotlib.pyplot as plt\n",
    "from sklearn.tree import DecisionTreeClassifier, plot_tree\n",
    "from sklearn.model_selection import train_test_split\n",
    "from sklearn.metrics import accuracy_score\n",
    "from sklearn.metrics import roc_curve, roc_auc_score\n",
    "from sklearn.model_selection import KFold\n",
    "from sklearn.model_selection import cross_val_score\n",
    "from sklearn.model_selection import GridSearchCV, StratifiedKFold\n",
    "from sklearn import preprocessing\n",
    "from sklearn.metrics import log_loss"
   ]
  },
  {
   "cell_type": "code",
   "execution_count": 43,
   "id": "7cb07057",
   "metadata": {},
   "outputs": [],
   "source": [
    "Vehicle = pd.read_csv(\"C:\\Aalesh and Mandar\\Datasets\\Cases\\Vehicle Silhouettes\\Vehicle.csv\")"
   ]
  },
  {
   "cell_type": "code",
   "execution_count": 44,
   "id": "6410807c",
   "metadata": {},
   "outputs": [
    {
     "data": {
      "text/html": [
       "<div>\n",
       "<style scoped>\n",
       "    .dataframe tbody tr th:only-of-type {\n",
       "        vertical-align: middle;\n",
       "    }\n",
       "\n",
       "    .dataframe tbody tr th {\n",
       "        vertical-align: top;\n",
       "    }\n",
       "\n",
       "    .dataframe thead th {\n",
       "        text-align: right;\n",
       "    }\n",
       "</style>\n",
       "<table border=\"1\" class=\"dataframe\">\n",
       "  <thead>\n",
       "    <tr style=\"text-align: right;\">\n",
       "      <th></th>\n",
       "      <th>Comp</th>\n",
       "      <th>Circ</th>\n",
       "      <th>D.Circ</th>\n",
       "      <th>Rad.Ra</th>\n",
       "      <th>Pr.Axis.Ra</th>\n",
       "      <th>Max.L.Ra</th>\n",
       "      <th>Scat.Ra</th>\n",
       "      <th>Elong</th>\n",
       "      <th>Pr.Axis.Rect</th>\n",
       "      <th>Max.L.Rect</th>\n",
       "      <th>Sc.Var.Maxis</th>\n",
       "      <th>Sc.Var.maxis</th>\n",
       "      <th>Ra.Gyr</th>\n",
       "      <th>Skew.Maxis</th>\n",
       "      <th>Skew.maxis</th>\n",
       "      <th>Kurt.maxis</th>\n",
       "      <th>Kurt.Maxis</th>\n",
       "      <th>Holl.Ra</th>\n",
       "      <th>Class</th>\n",
       "    </tr>\n",
       "  </thead>\n",
       "  <tbody>\n",
       "    <tr>\n",
       "      <th>0</th>\n",
       "      <td>95</td>\n",
       "      <td>48</td>\n",
       "      <td>83</td>\n",
       "      <td>178</td>\n",
       "      <td>72</td>\n",
       "      <td>10</td>\n",
       "      <td>162</td>\n",
       "      <td>42</td>\n",
       "      <td>20</td>\n",
       "      <td>159</td>\n",
       "      <td>176</td>\n",
       "      <td>379</td>\n",
       "      <td>184</td>\n",
       "      <td>70</td>\n",
       "      <td>6</td>\n",
       "      <td>16</td>\n",
       "      <td>187</td>\n",
       "      <td>197</td>\n",
       "      <td>van</td>\n",
       "    </tr>\n",
       "    <tr>\n",
       "      <th>1</th>\n",
       "      <td>91</td>\n",
       "      <td>41</td>\n",
       "      <td>84</td>\n",
       "      <td>141</td>\n",
       "      <td>57</td>\n",
       "      <td>9</td>\n",
       "      <td>149</td>\n",
       "      <td>45</td>\n",
       "      <td>19</td>\n",
       "      <td>143</td>\n",
       "      <td>170</td>\n",
       "      <td>330</td>\n",
       "      <td>158</td>\n",
       "      <td>72</td>\n",
       "      <td>9</td>\n",
       "      <td>14</td>\n",
       "      <td>189</td>\n",
       "      <td>199</td>\n",
       "      <td>van</td>\n",
       "    </tr>\n",
       "    <tr>\n",
       "      <th>2</th>\n",
       "      <td>104</td>\n",
       "      <td>50</td>\n",
       "      <td>106</td>\n",
       "      <td>209</td>\n",
       "      <td>66</td>\n",
       "      <td>10</td>\n",
       "      <td>207</td>\n",
       "      <td>32</td>\n",
       "      <td>23</td>\n",
       "      <td>158</td>\n",
       "      <td>223</td>\n",
       "      <td>635</td>\n",
       "      <td>220</td>\n",
       "      <td>73</td>\n",
       "      <td>14</td>\n",
       "      <td>9</td>\n",
       "      <td>188</td>\n",
       "      <td>196</td>\n",
       "      <td>saab</td>\n",
       "    </tr>\n",
       "    <tr>\n",
       "      <th>3</th>\n",
       "      <td>93</td>\n",
       "      <td>41</td>\n",
       "      <td>82</td>\n",
       "      <td>159</td>\n",
       "      <td>63</td>\n",
       "      <td>9</td>\n",
       "      <td>144</td>\n",
       "      <td>46</td>\n",
       "      <td>19</td>\n",
       "      <td>143</td>\n",
       "      <td>160</td>\n",
       "      <td>309</td>\n",
       "      <td>127</td>\n",
       "      <td>63</td>\n",
       "      <td>6</td>\n",
       "      <td>10</td>\n",
       "      <td>199</td>\n",
       "      <td>207</td>\n",
       "      <td>van</td>\n",
       "    </tr>\n",
       "    <tr>\n",
       "      <th>4</th>\n",
       "      <td>85</td>\n",
       "      <td>44</td>\n",
       "      <td>70</td>\n",
       "      <td>205</td>\n",
       "      <td>103</td>\n",
       "      <td>52</td>\n",
       "      <td>149</td>\n",
       "      <td>45</td>\n",
       "      <td>19</td>\n",
       "      <td>144</td>\n",
       "      <td>241</td>\n",
       "      <td>325</td>\n",
       "      <td>188</td>\n",
       "      <td>127</td>\n",
       "      <td>9</td>\n",
       "      <td>11</td>\n",
       "      <td>180</td>\n",
       "      <td>183</td>\n",
       "      <td>bus</td>\n",
       "    </tr>\n",
       "  </tbody>\n",
       "</table>\n",
       "</div>"
      ],
      "text/plain": [
       "   Comp  Circ  D.Circ  Rad.Ra  Pr.Axis.Ra  Max.L.Ra  Scat.Ra  Elong  \\\n",
       "0    95    48      83     178          72        10      162     42   \n",
       "1    91    41      84     141          57         9      149     45   \n",
       "2   104    50     106     209          66        10      207     32   \n",
       "3    93    41      82     159          63         9      144     46   \n",
       "4    85    44      70     205         103        52      149     45   \n",
       "\n",
       "   Pr.Axis.Rect  Max.L.Rect  Sc.Var.Maxis  Sc.Var.maxis  Ra.Gyr  Skew.Maxis  \\\n",
       "0            20         159           176           379     184          70   \n",
       "1            19         143           170           330     158          72   \n",
       "2            23         158           223           635     220          73   \n",
       "3            19         143           160           309     127          63   \n",
       "4            19         144           241           325     188         127   \n",
       "\n",
       "   Skew.maxis  Kurt.maxis  Kurt.Maxis  Holl.Ra Class  \n",
       "0           6          16         187      197   van  \n",
       "1           9          14         189      199   van  \n",
       "2          14           9         188      196  saab  \n",
       "3           6          10         199      207   van  \n",
       "4           9          11         180      183   bus  "
      ]
     },
     "execution_count": 44,
     "metadata": {},
     "output_type": "execute_result"
    }
   ],
   "source": [
    "Vehicle.head()"
   ]
  },
  {
   "cell_type": "code",
   "execution_count": 45,
   "id": "da05664b",
   "metadata": {},
   "outputs": [],
   "source": [
    "x = Vehicle.drop(\"Class\", axis=1)\n",
    "y = Vehicle[\"Class\"]"
   ]
  },
  {
   "cell_type": "code",
   "execution_count": 46,
   "id": "286554c0",
   "metadata": {},
   "outputs": [
    {
     "name": "stdout",
     "output_type": "stream",
     "text": [
      "['bus' 'opel' 'saab' 'van']\n"
     ]
    }
   ],
   "source": [
    "labels = preprocessing.LabelEncoder()\n",
    "le_y = labels.fit_transform(y)\n",
    "print(lebals.classes_)"
   ]
  },
  {
   "cell_type": "code",
   "execution_count": 47,
   "id": "a7cbc16c",
   "metadata": {},
   "outputs": [],
   "source": [
    "x_train, x_test, y_train, y_test = train_test_split(x, le_y, random_state = 2022, test_size = 0.3)"
   ]
  },
  {
   "cell_type": "code",
   "execution_count": 48,
   "id": "21091ef3",
   "metadata": {},
   "outputs": [],
   "source": [
    "dtc = DecisionTreeClassifier( random_state = 2022, max_depth = 4)\n",
    "dtc.fit(x_train, y_train)\n",
    "y_pred = dtc.predict(x_test)\n",
    "y_pred_prob = dtc.predict_proba(x_test)[:,1]"
   ]
  },
  {
   "cell_type": "markdown",
   "id": "95e906d4",
   "metadata": {},
   "source": [
    "plt.figure(figsize=(40,20))\n",
    "plot_tree(dtc, feature_names = x.columns, class_names=[\"0\",\"1\"], fontsize=14)\n",
    "plt.show()"
   ]
  },
  {
   "cell_type": "code",
   "execution_count": 49,
   "id": "75c0fe40",
   "metadata": {},
   "outputs": [
    {
     "name": "stdout",
     "output_type": "stream",
     "text": [
      "0.6811023622047244\n"
     ]
    }
   ],
   "source": [
    "print(accuracy_score(y_test, y_pred))\n",
    "#print(log_loss(y_test, y_pred_prob))"
   ]
  },
  {
   "cell_type": "code",
   "execution_count": 50,
   "id": "4686eae1",
   "metadata": {},
   "outputs": [
    {
     "name": "stdout",
     "output_type": "stream",
     "text": [
      "Fitting 5 folds for each of 15 candidates, totalling 75 fits\n",
      "[CV 1/5] END ....max_depth=2, min_samples_split=1;, score=nan total time=   0.0s\n",
      "[CV 2/5] END ....max_depth=2, min_samples_split=1;, score=nan total time=   0.0s\n",
      "[CV 3/5] END ....max_depth=2, min_samples_split=1;, score=nan total time=   0.0s\n",
      "[CV 4/5] END ....max_depth=2, min_samples_split=1;, score=nan total time=   0.0s\n",
      "[CV 5/5] END ....max_depth=2, min_samples_split=1;, score=nan total time=   0.0s\n",
      "[CV 1/5] END .max_depth=2, min_samples_split=5;, score=-1.050 total time=   0.0s\n",
      "[CV 2/5] END .max_depth=2, min_samples_split=5;, score=-1.008 total time=   0.0s\n",
      "[CV 3/5] END .max_depth=2, min_samples_split=5;, score=-0.922 total time=   0.0s\n",
      "[CV 4/5] END .max_depth=2, min_samples_split=5;, score=-0.895 total time=   0.0s\n",
      "[CV 5/5] END .max_depth=2, min_samples_split=5;, score=-0.943 total time=   0.0s\n",
      "[CV 1/5] END max_depth=2, min_samples_split=10;, score=-1.050 total time=   0.0s\n",
      "[CV 2/5] END max_depth=2, min_samples_split=10;, score=-1.008 total time=   0.0s\n",
      "[CV 3/5] END max_depth=2, min_samples_split=10;, score=-0.922 total time=   0.0s\n",
      "[CV 4/5] END max_depth=2, min_samples_split=10;, score=-0.895 total time=   0.0s\n",
      "[CV 5/5] END max_depth=2, min_samples_split=10;, score=-0.943 total time=   0.0s\n",
      "[CV 1/5] END ....max_depth=3, min_samples_split=1;, score=nan total time=   0.0s\n",
      "[CV 2/5] END ....max_depth=3, min_samples_split=1;, score=nan total time=   0.0s\n",
      "[CV 3/5] END ....max_depth=3, min_samples_split=1;, score=nan total time=   0.0s\n",
      "[CV 4/5] END ....max_depth=3, min_samples_split=1;, score=nan total time=   0.0s\n",
      "[CV 5/5] END ....max_depth=3, min_samples_split=1;, score=nan total time=   0.0s\n",
      "[CV 1/5] END .max_depth=3, min_samples_split=5;, score=-0.986 total time=   0.0s\n",
      "[CV 2/5] END .max_depth=3, min_samples_split=5;, score=-0.844 total time=   0.0s\n",
      "[CV 3/5] END .max_depth=3, min_samples_split=5;, score=-0.957 total time=   0.0s\n",
      "[CV 4/5] END .max_depth=3, min_samples_split=5;, score=-1.151 total time=   0.0s\n",
      "[CV 5/5] END .max_depth=3, min_samples_split=5;, score=-0.925 total time=   0.0s\n",
      "[CV 1/5] END max_depth=3, min_samples_split=10;, score=-0.986 total time=   0.0s\n",
      "[CV 2/5] END max_depth=3, min_samples_split=10;, score=-0.844 total time=   0.0s\n",
      "[CV 3/5] END max_depth=3, min_samples_split=10;, score=-0.957 total time=   0.0s\n",
      "[CV 4/5] END max_depth=3, min_samples_split=10;, score=-1.151 total time=   0.0s\n",
      "[CV 5/5] END max_depth=3, min_samples_split=10;, score=-0.925 total time=   0.0s\n",
      "[CV 1/5] END ....max_depth=4, min_samples_split=1;, score=nan total time=   0.0s\n",
      "[CV 2/5] END ....max_depth=4, min_samples_split=1;, score=nan total time=   0.0s\n",
      "[CV 3/5] END ....max_depth=4, min_samples_split=1;, score=nan total time=   0.0s\n",
      "[CV 4/5] END ....max_depth=4, min_samples_split=1;, score=nan total time=   0.0s\n",
      "[CV 5/5] END ....max_depth=4, min_samples_split=1;, score=nan total time=   0.0s\n",
      "[CV 1/5] END .max_depth=4, min_samples_split=5;, score=-1.296 total time=   0.0s\n",
      "[CV 2/5] END .max_depth=4, min_samples_split=5;, score=-0.951 total time=   0.0s\n",
      "[CV 3/5] END .max_depth=4, min_samples_split=5;, score=-1.173 total time=   0.0s\n",
      "[CV 4/5] END .max_depth=4, min_samples_split=5;, score=-1.261 total time=   0.0s\n",
      "[CV 5/5] END .max_depth=4, min_samples_split=5;, score=-0.841 total time=   0.0s\n",
      "[CV 1/5] END max_depth=4, min_samples_split=10;, score=-1.296 total time=   0.0s\n",
      "[CV 2/5] END max_depth=4, min_samples_split=10;, score=-0.951 total time=   0.0s\n",
      "[CV 3/5] END max_depth=4, min_samples_split=10;, score=-1.173 total time=   0.0s\n",
      "[CV 4/5] END max_depth=4, min_samples_split=10;, score=-1.261 total time=   0.0s\n",
      "[CV 5/5] END max_depth=4, min_samples_split=10;, score=-0.841 total time=   0.0s\n",
      "[CV 1/5] END ....max_depth=5, min_samples_split=1;, score=nan total time=   0.0s\n",
      "[CV 2/5] END ....max_depth=5, min_samples_split=1;, score=nan total time=   0.0s\n",
      "[CV 3/5] END ....max_depth=5, min_samples_split=1;, score=nan total time=   0.0s\n",
      "[CV 4/5] END ....max_depth=5, min_samples_split=1;, score=nan total time=   0.0s\n",
      "[CV 5/5] END ....max_depth=5, min_samples_split=1;, score=nan total time=   0.0s\n",
      "[CV 1/5] END .max_depth=5, min_samples_split=5;, score=-2.587 total time=   0.0s\n",
      "[CV 2/5] END .max_depth=5, min_samples_split=5;, score=-1.676 total time=   0.0s\n",
      "[CV 3/5] END .max_depth=5, min_samples_split=5;, score=-1.922 total time=   0.0s\n",
      "[CV 4/5] END .max_depth=5, min_samples_split=5;, score=-1.472 total time=   0.0s\n",
      "[CV 5/5] END .max_depth=5, min_samples_split=5;, score=-1.006 total time=   0.0s\n",
      "[CV 1/5] END max_depth=5, min_samples_split=10;, score=-2.587 total time=   0.0s\n",
      "[CV 2/5] END max_depth=5, min_samples_split=10;, score=-1.676 total time=   0.0s\n",
      "[CV 3/5] END max_depth=5, min_samples_split=10;, score=-2.330 total time=   0.0s\n",
      "[CV 4/5] END max_depth=5, min_samples_split=10;, score=-1.472 total time=   0.0s\n",
      "[CV 5/5] END max_depth=5, min_samples_split=10;, score=-1.619 total time=   0.0s\n",
      "[CV 1/5] END .max_depth=None, min_samples_split=1;, score=nan total time=   0.0s\n",
      "[CV 2/5] END .max_depth=None, min_samples_split=1;, score=nan total time=   0.0s\n",
      "[CV 3/5] END .max_depth=None, min_samples_split=1;, score=nan total time=   0.0s\n",
      "[CV 4/5] END .max_depth=None, min_samples_split=1;, score=nan total time=   0.0s\n",
      "[CV 5/5] END .max_depth=None, min_samples_split=1;, score=nan total time=   0.0s\n",
      "[CV 1/5] END max_depth=None, min_samples_split=5;, score=-9.792 total time=   0.0s\n",
      "[CV 2/5] END max_depth=None, min_samples_split=5;, score=-9.435 total time=   0.0s\n",
      "[CV 3/5] END max_depth=None, min_samples_split=5;, score=-10.062 total time=   0.0s\n",
      "[CV 4/5] END max_depth=None, min_samples_split=5;, score=-10.664 total time=   0.0s\n",
      "[CV 5/5] END max_depth=None, min_samples_split=5;, score=-8.637 total time=   0.0s\n",
      "[CV 1/5] END max_depth=None, min_samples_split=10;, score=-6.952 total time=   0.0s\n",
      "[CV 2/5] END max_depth=None, min_samples_split=10;, score=-5.341 total time=   0.0s\n",
      "[CV 3/5] END max_depth=None, min_samples_split=10;, score=-7.750 total time=   0.0s\n",
      "[CV 4/5] END max_depth=None, min_samples_split=10;, score=-8.148 total time=   0.0s\n",
      "[CV 5/5] END max_depth=None, min_samples_split=10;, score=-6.323 total time=   0.0s\n"
     ]
    },
    {
     "name": "stderr",
     "output_type": "stream",
     "text": [
      "C:\\Users\\admin\\anaconda3\\lib\\site-packages\\sklearn\\model_selection\\_validation.py:372: FitFailedWarning: \n",
      "25 fits failed out of a total of 75.\n",
      "The score on these train-test partitions for these parameters will be set to nan.\n",
      "If these failures are not expected, you can try to debug them by setting error_score='raise'.\n",
      "\n",
      "Below are more details about the failures:\n",
      "--------------------------------------------------------------------------------\n",
      "25 fits failed with the following error:\n",
      "Traceback (most recent call last):\n",
      "  File \"C:\\Users\\admin\\anaconda3\\lib\\site-packages\\sklearn\\model_selection\\_validation.py\", line 680, in _fit_and_score\n",
      "    estimator.fit(X_train, y_train, **fit_params)\n",
      "  File \"C:\\Users\\admin\\anaconda3\\lib\\site-packages\\sklearn\\tree\\_classes.py\", line 937, in fit\n",
      "    super().fit(\n",
      "  File \"C:\\Users\\admin\\anaconda3\\lib\\site-packages\\sklearn\\tree\\_classes.py\", line 250, in fit\n",
      "    raise ValueError(\n",
      "ValueError: min_samples_split must be an integer greater than 1 or a float in (0.0, 1.0]; got the integer 1\n",
      "\n",
      "  warnings.warn(some_fits_failed_message, FitFailedWarning)\n",
      "C:\\Users\\admin\\anaconda3\\lib\\site-packages\\sklearn\\model_selection\\_search.py:969: UserWarning: One or more of the test scores are non-finite: [        nan -0.96346261 -0.96346261         nan -0.97276671 -0.97276671\n",
      "         nan -1.10429504 -1.10429504         nan -1.7323655  -1.93670959\n",
      "         nan -9.71828995 -6.90290138]\n",
      "  warnings.warn(\n"
     ]
    },
    {
     "data": {
      "text/plain": [
       "GridSearchCV(cv=StratifiedKFold(n_splits=5, random_state=2022, shuffle=True),\n",
       "             estimator=DecisionTreeClassifier(random_state=2022),\n",
       "             param_grid={'max_depth': [2, 3, 4, 5, None],\n",
       "                         'min_samples_split': [1, 5, 10]},\n",
       "             scoring='neg_log_loss', verbose=3)"
      ]
     },
     "execution_count": 50,
     "metadata": {},
     "output_type": "execute_result"
    }
   ],
   "source": [
    "kfold = StratifiedKFold(n_splits = 5, shuffle = True, random_state = 2022)\n",
    "dtc = DecisionTreeClassifier(random_state = 2022)\n",
    "params = {\"max_depth\" : [2,3,4,5,None],\n",
    "          \"min_samples_split\" : [2,5,10],\n",
    "          \"min_samples_split\" : [1,5,10]}\n",
    "gcv = GridSearchCV(dtc, param_grid = params, verbose = 3, scoring = \"neg_log_loss\", cv = kfold)\n",
    "gcv.fit(x, le_y)"
   ]
  },
  {
   "cell_type": "code",
   "execution_count": 54,
   "id": "549e0fd6",
   "metadata": {},
   "outputs": [
    {
     "name": "stdout",
     "output_type": "stream",
     "text": [
      "{'max_depth': 2, 'min_samples_split': 5}\n",
      "-0.9634626135556952\n"
     ]
    }
   ],
   "source": [
    "print(gcv.best_params_)\n",
    "print(gcv.best_score_)\n",
    "best_model = gcv.best_estimator_"
   ]
  },
  {
   "cell_type": "code",
   "execution_count": 57,
   "id": "85d6498f",
   "metadata": {},
   "outputs": [
    {
     "name": "stdout",
     "output_type": "stream",
     "text": [
      "[0.         0.         0.         0.         0.         0.66062789\n",
      " 0.         0.33937211 0.         0.         0.         0.\n",
      " 0.         0.         0.         0.         0.         0.        ]\n"
     ]
    },
    {
     "data": {
      "image/png": "[encoded data removed]",
      "text/plain": [
       "<Figure size 640x480 with 1 Axes>"
      ]
     },
     "metadata": {},
     "output_type": "display_data"
    }
   ],
   "source": [
    "print(best_model.feature_importances_)\n",
    "imps = best_model.feature_importances_\n",
    "plt.barh(x.columns, imps)\n",
    "plt.show()"
   ]
  },
  {
   "cell_type": "code",
   "execution_count": null,
   "id": "98453553",
   "metadata": {},
   "outputs": [],
   "source": []
  }
 ],
 "metadata": {
  "kernelspec": {
   "display_name": "Python 3 (ipykernel)",
   "language": "python",
   "name": "python3"
  },
  "language_info": {
   "codemirror_mode": {
    "name": "ipython",
    "version": 3
   },
   "file_extension": ".py",
   "mimetype": "text/x-python",
   "name": "python",
   "nbconvert_exporter": "python",
   "pygments_lexer": "ipython3",
   "version": "3.9.13"
  }
 },
 "nbformat": 4,
 "nbformat_minor": 5
}
