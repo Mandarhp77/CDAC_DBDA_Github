{
 "cells": [
  {
   "cell_type": "code",
   "execution_count": 46,
   "id": "f78fa2a9",
   "metadata": {},
   "outputs": [],
   "source": [
    "import pandas as pd\n",
    "import numpy as np\n",
    "from sklearn.linear_model import LogisticRegression\n",
    "from sklearn.model_selection import train_test_split\n",
    "from sklearn.metrics import accuracy_score, confusion_matrix, classification_report\n",
    "from sklearn.metrics import roc_curve, roc_auc_score\n",
    "from sklearn.model_selection import GridSearchCV, StratifiedKFold\n",
    "from sklearn.pipeline import Pipeline\n",
    "from sklearn.preprocessing import StandardScaler"
   ]
  },
  {
   "cell_type": "code",
   "execution_count": 47,
   "id": "8ae5c54e",
   "metadata": {},
   "outputs": [],
   "source": [
    "hr = pd.read_csv(\"C:\\Aalesh and Mandar\\Datasets\\Cases\\human-resources-analytics\\HR.csv\")"
   ]
  },
  {
   "cell_type": "code",
   "execution_count": 48,
   "id": "bf229be2",
   "metadata": {},
   "outputs": [
    {
     "data": {
      "text/html": [
       "<div>\n",
       "<style scoped>\n",
       "    .dataframe tbody tr th:only-of-type {\n",
       "        vertical-align: middle;\n",
       "    }\n",
       "\n",
       "    .dataframe tbody tr th {\n",
       "        vertical-align: top;\n",
       "    }\n",
       "\n",
       "    .dataframe thead th {\n",
       "        text-align: right;\n",
       "    }\n",
       "</style>\n",
       "<table border=\"1\" class=\"dataframe\">\n",
       "  <thead>\n",
       "    <tr style=\"text-align: right;\">\n",
       "      <th></th>\n",
       "      <th>satisfaction_level</th>\n",
       "      <th>last_evaluation</th>\n",
       "      <th>number_project</th>\n",
       "      <th>average_montly_hours</th>\n",
       "      <th>time_spend_company</th>\n",
       "      <th>Work_accident</th>\n",
       "      <th>left</th>\n",
       "      <th>promotion_last_5years</th>\n",
       "      <th>Department</th>\n",
       "      <th>salary</th>\n",
       "    </tr>\n",
       "  </thead>\n",
       "  <tbody>\n",
       "    <tr>\n",
       "      <th>0</th>\n",
       "      <td>0.38</td>\n",
       "      <td>0.53</td>\n",
       "      <td>2</td>\n",
       "      <td>157</td>\n",
       "      <td>3</td>\n",
       "      <td>0</td>\n",
       "      <td>1</td>\n",
       "      <td>0</td>\n",
       "      <td>sales</td>\n",
       "      <td>low</td>\n",
       "    </tr>\n",
       "    <tr>\n",
       "      <th>1</th>\n",
       "      <td>0.80</td>\n",
       "      <td>0.86</td>\n",
       "      <td>5</td>\n",
       "      <td>262</td>\n",
       "      <td>6</td>\n",
       "      <td>0</td>\n",
       "      <td>1</td>\n",
       "      <td>0</td>\n",
       "      <td>sales</td>\n",
       "      <td>medium</td>\n",
       "    </tr>\n",
       "    <tr>\n",
       "      <th>2</th>\n",
       "      <td>0.11</td>\n",
       "      <td>0.88</td>\n",
       "      <td>7</td>\n",
       "      <td>272</td>\n",
       "      <td>4</td>\n",
       "      <td>0</td>\n",
       "      <td>1</td>\n",
       "      <td>0</td>\n",
       "      <td>sales</td>\n",
       "      <td>medium</td>\n",
       "    </tr>\n",
       "    <tr>\n",
       "      <th>3</th>\n",
       "      <td>0.72</td>\n",
       "      <td>0.87</td>\n",
       "      <td>5</td>\n",
       "      <td>223</td>\n",
       "      <td>5</td>\n",
       "      <td>0</td>\n",
       "      <td>1</td>\n",
       "      <td>0</td>\n",
       "      <td>sales</td>\n",
       "      <td>low</td>\n",
       "    </tr>\n",
       "    <tr>\n",
       "      <th>4</th>\n",
       "      <td>0.37</td>\n",
       "      <td>0.52</td>\n",
       "      <td>2</td>\n",
       "      <td>159</td>\n",
       "      <td>3</td>\n",
       "      <td>0</td>\n",
       "      <td>1</td>\n",
       "      <td>0</td>\n",
       "      <td>sales</td>\n",
       "      <td>low</td>\n",
       "    </tr>\n",
       "  </tbody>\n",
       "</table>\n",
       "</div>"
      ],
      "text/plain": [
       "   satisfaction_level  last_evaluation  number_project  average_montly_hours  \\\n",
       "0                0.38             0.53               2                   157   \n",
       "1                0.80             0.86               5                   262   \n",
       "2                0.11             0.88               7                   272   \n",
       "3                0.72             0.87               5                   223   \n",
       "4                0.37             0.52               2                   159   \n",
       "\n",
       "   time_spend_company  Work_accident  left  promotion_last_5years Department  \\\n",
       "0                   3              0     1                      0      sales   \n",
       "1                   6              0     1                      0      sales   \n",
       "2                   4              0     1                      0      sales   \n",
       "3                   5              0     1                      0      sales   \n",
       "4                   3              0     1                      0      sales   \n",
       "\n",
       "   salary  \n",
       "0     low  \n",
       "1  medium  \n",
       "2  medium  \n",
       "3     low  \n",
       "4     low  "
      ]
     },
     "execution_count": 48,
     "metadata": {},
     "output_type": "execute_result"
    }
   ],
   "source": [
    "hr.head()"
   ]
  },
  {
   "cell_type": "code",
   "execution_count": 49,
   "id": "e5735fab",
   "metadata": {},
   "outputs": [
    {
     "data": {
      "text/plain": [
       "satisfaction_level       0\n",
       "last_evaluation          0\n",
       "number_project           0\n",
       "average_montly_hours     0\n",
       "time_spend_company       0\n",
       "Work_accident            0\n",
       "left                     0\n",
       "promotion_last_5years    0\n",
       "Department               0\n",
       "salary                   0\n",
       "dtype: int64"
      ]
     },
     "execution_count": 49,
     "metadata": {},
     "output_type": "execute_result"
    }
   ],
   "source": [
    "hr.isnull().sum()"
   ]
  },
  {
   "cell_type": "code",
   "execution_count": 50,
   "id": "79cb5c9a",
   "metadata": {},
   "outputs": [],
   "source": [
    "hr1 = pd.get_dummies(hr, drop_first = True)"
   ]
  },
  {
   "cell_type": "code",
   "execution_count": 51,
   "id": "10d56462",
   "metadata": {},
   "outputs": [],
   "source": [
    "x = hr1.drop(\"left\", axis=1)\n",
    "y = hr1[\"left\"]"
   ]
  },
  {
   "cell_type": "code",
   "execution_count": 52,
   "id": "210db27a",
   "metadata": {},
   "outputs": [],
   "source": [
    "x_train, x_test, y_train, y_test = train_test_split(x, y, stratify=y, random_state = 2022, test_size = 0.3)"
   ]
  },
  {
   "cell_type": "code",
   "execution_count": 53,
   "id": "d1e9546b",
   "metadata": {
    "scrolled": true
   },
   "outputs": [
    {
     "name": "stderr",
     "output_type": "stream",
     "text": [
      "C:\\Users\\admin\\anaconda3\\lib\\site-packages\\sklearn\\linear_model\\_logistic.py:814: ConvergenceWarning: lbfgs failed to converge (status=1):\n",
      "STOP: TOTAL NO. of ITERATIONS REACHED LIMIT.\n",
      "\n",
      "Increase the number of iterations (max_iter) or scale the data as shown in:\n",
      "    https://scikit-learn.org/stable/modules/preprocessing.html\n",
      "Please also refer to the documentation for alternative solver options:\n",
      "    https://scikit-learn.org/stable/modules/linear_model.html#logistic-regression\n",
      "  n_iter_i = _check_optimize_result(\n"
     ]
    },
    {
     "data": {
      "text/plain": [
       "LogisticRegression()"
      ]
     },
     "execution_count": 53,
     "metadata": {},
     "output_type": "execute_result"
    }
   ],
   "source": [
    "lr = LogisticRegression()\n",
    "lr.fit(x_train, y_train)"
   ]
  },
  {
   "cell_type": "code",
   "execution_count": 54,
   "id": "9cf1b06f",
   "metadata": {},
   "outputs": [],
   "source": [
    "y_pred = lr.predict(x_test)\n",
    "y_pred_prob = lr.predict_proba(x_test)[:,1]"
   ]
  },
  {
   "cell_type": "code",
   "execution_count": 55,
   "id": "262dacdd",
   "metadata": {
    "scrolled": true
   },
   "outputs": [
    {
     "data": {
      "text/plain": [
       "array([0.42987887, 0.04225011, 0.40159328, ..., 0.50610008, 0.26254632,\n",
       "       0.54532349])"
      ]
     },
     "execution_count": 55,
     "metadata": {},
     "output_type": "execute_result"
    }
   ],
   "source": [
    "y_pred_prob"
   ]
  },
  {
   "cell_type": "code",
   "execution_count": 56,
   "id": "dbf7de43",
   "metadata": {},
   "outputs": [
    {
     "name": "stdout",
     "output_type": "stream",
     "text": [
      "0.7871111111111111\n",
      "0.8124899420252207\n"
     ]
    }
   ],
   "source": [
    "print(accuracy_score(y_test, y_pred))\n",
    "print(roc_auc_score(y_test, y_pred_prob))"
   ]
  },
  {
   "cell_type": "code",
   "execution_count": 62,
   "id": "09631935",
   "metadata": {},
   "outputs": [],
   "source": [
    "scaler = StandardScaler()"
   ]
  },
  {
   "cell_type": "code",
   "execution_count": 63,
   "id": "3737ab45",
   "metadata": {},
   "outputs": [
    {
     "name": "stdout",
     "output_type": "stream",
     "text": [
      "{'memory': None, 'steps': [('STD', StandardScaler()), ('LR', LogisticRegression(random_state=100, solver='saga'))], 'verbose': False, 'STD': StandardScaler(), 'LR': LogisticRegression(random_state=100, solver='saga'), 'STD__copy': True, 'STD__with_mean': True, 'STD__with_std': True, 'LR__C': 1.0, 'LR__class_weight': None, 'LR__dual': False, 'LR__fit_intercept': True, 'LR__intercept_scaling': 1, 'LR__l1_ratio': None, 'LR__max_iter': 100, 'LR__multi_class': 'auto', 'LR__n_jobs': None, 'LR__penalty': 'l2', 'LR__random_state': 100, 'LR__solver': 'saga', 'LR__tol': 0.0001, 'LR__verbose': 0, 'LR__warm_start': False}\n"
     ]
    }
   ],
   "source": [
    "kfold = StratifiedKFold(n_splits = 5, shuffle = True, random_state = 2022)\n",
    "lr = LogisticRegression(solver = \"saga\", random_state = 100)\n",
    "\n",
    "pipe = Pipeline([(\"STD\", scaler),(\"LR\",lr)])\n",
    "print(pipe.get_params())\n",
    "\n",
    "params = {\"LR__penalty\": [\"l1\", \"l2\", \"elasticnet\", None],\n",
    "          \"LR__C\" : np.linspace(0.001, 4, 5),\n",
    "          \"LR__l1_ratio\" : np.linspace(0.001, 1, 5)}"
   ]
  },
  {
   "cell_type": "code",
   "execution_count": 64,
   "id": "33123329",
   "metadata": {},
   "outputs": [
    {
     "name": "stdout",
     "output_type": "stream",
     "text": [
      "Fitting 5 folds for each of 100 candidates, totalling 500 fits\n",
      "[CV 1/5] END LR__C=0.001, LR__l1_ratio=0.001, LR__penalty=l1;, score=0.754 total time=   0.1s\n"
     ]
    },
    {
     "name": "stderr",
     "output_type": "stream",
     "text": [
      "C:\\Users\\admin\\anaconda3\\lib\\site-packages\\sklearn\\linear_model\\_logistic.py:1476: UserWarning: l1_ratio parameter is only used when penalty is 'elasticnet'. Got (penalty=l1)\n",
      "  warnings.warn(\n",
      "C:\\Users\\admin\\anaconda3\\lib\\site-packages\\sklearn\\linear_model\\_logistic.py:1476: UserWarning: l1_ratio parameter is only used when penalty is 'elasticnet'. Got (penalty=l1)\n",
      "  warnings.warn(\n"
     ]
    },
    {
     "name": "stdout",
     "output_type": "stream",
     "text": [
      "[CV 2/5] END LR__C=0.001, LR__l1_ratio=0.001, LR__penalty=l1;, score=0.764 total time=   0.0s\n",
      "[CV 3/5] END LR__C=0.001, LR__l1_ratio=0.001, LR__penalty=l1;, score=0.734 total time=   0.0s\n",
      "[CV 4/5] END LR__C=0.001, LR__l1_ratio=0.001, LR__penalty=l1;, score=0.736 total time=   0.0s\n"
     ]
    },
    {
     "name": "stderr",
     "output_type": "stream",
     "text": [
      "C:\\Users\\admin\\anaconda3\\lib\\site-packages\\sklearn\\linear_model\\_logistic.py:1476: UserWarning: l1_ratio parameter is only used when penalty is 'elasticnet'. Got (penalty=l1)\n",
      "  warnings.warn(\n",
      "C:\\Users\\admin\\anaconda3\\lib\\site-packages\\sklearn\\linear_model\\_logistic.py:1476: UserWarning: l1_ratio parameter is only used when penalty is 'elasticnet'. Got (penalty=l1)\n",
      "  warnings.warn(\n",
      "C:\\Users\\admin\\anaconda3\\lib\\site-packages\\sklearn\\linear_model\\_logistic.py:1476: UserWarning: l1_ratio parameter is only used when penalty is 'elasticnet'. Got (penalty=l1)\n",
      "  warnings.warn(\n"
     ]
    },
    {
     "name": "stdout",
     "output_type": "stream",
     "text": [
      "[CV 5/5] END LR__C=0.001, LR__l1_ratio=0.001, LR__penalty=l1;, score=0.752 total time=   0.0s\n",
      "[CV 1/5] END LR__C=0.001, LR__l1_ratio=0.001, LR__penalty=l2;, score=0.817 total time=   0.0s\n",
      "[CV 2/5] END LR__C=0.001, LR__l1_ratio=0.001, LR__penalty=l2;, score=0.814 total time=   0.0s\n"
     ]
    },
    {
     "name": "stderr",
     "output_type": "stream",
     "text": [
      "C:\\Users\\admin\\anaconda3\\lib\\site-packages\\sklearn\\linear_model\\_logistic.py:1476: UserWarning: l1_ratio parameter is only used when penalty is 'elasticnet'. Got (penalty=l2)\n",
      "  warnings.warn(\n",
      "C:\\Users\\admin\\anaconda3\\lib\\site-packages\\sklearn\\linear_model\\_logistic.py:1476: UserWarning: l1_ratio parameter is only used when penalty is 'elasticnet'. Got (penalty=l2)\n",
      "  warnings.warn(\n",
      "C:\\Users\\admin\\anaconda3\\lib\\site-packages\\sklearn\\linear_model\\_logistic.py:1476: UserWarning: l1_ratio parameter is only used when penalty is 'elasticnet'. Got (penalty=l2)\n",
      "  warnings.warn(\n"
     ]
    },
    {
     "name": "stdout",
     "output_type": "stream",
     "text": [
      "[CV 3/5] END LR__C=0.001, LR__l1_ratio=0.001, LR__penalty=l2;, score=0.809 total time=   0.0s\n",
      "[CV 4/5] END LR__C=0.001, LR__l1_ratio=0.001, LR__penalty=l2;, score=0.801 total time=   0.0s\n",
      "[CV 5/5] END LR__C=0.001, LR__l1_ratio=0.001, LR__penalty=l2;, score=0.814 total time=   0.0s\n"
     ]
    },
    {
     "name": "stderr",
     "output_type": "stream",
     "text": [
      "C:\\Users\\admin\\anaconda3\\lib\\site-packages\\sklearn\\linear_model\\_logistic.py:1476: UserWarning: l1_ratio parameter is only used when penalty is 'elasticnet'. Got (penalty=l2)\n",
      "  warnings.warn(\n",
      "C:\\Users\\admin\\anaconda3\\lib\\site-packages\\sklearn\\linear_model\\_logistic.py:1476: UserWarning: l1_ratio parameter is only used when penalty is 'elasticnet'. Got (penalty=l2)\n",
      "  warnings.warn(\n"
     ]
    },
    {
     "name": "stdout",
     "output_type": "stream",
     "text": [
      "[CV 1/5] END LR__C=0.001, LR__l1_ratio=0.001, LR__penalty=elasticnet;, score=0.817 total time=   0.0s\n",
      "[CV 2/5] END LR__C=0.001, LR__l1_ratio=0.001, LR__penalty=elasticnet;, score=0.814 total time=   0.0s\n",
      "[CV 3/5] END LR__C=0.001, LR__l1_ratio=0.001, LR__penalty=elasticnet;, score=0.809 total time=   0.0s\n",
      "[CV 4/5] END LR__C=0.001, LR__l1_ratio=0.001, LR__penalty=elasticnet;, score=0.801 total time=   0.0s\n",
      "[CV 5/5] END LR__C=0.001, LR__l1_ratio=0.001, LR__penalty=elasticnet;, score=0.814 total time=   0.0s\n",
      "[CV 1/5] END LR__C=0.001, LR__l1_ratio=0.001, LR__penalty=None;, score=nan total time=   0.0s\n",
      "[CV 2/5] END LR__C=0.001, LR__l1_ratio=0.001, LR__penalty=None;, score=nan total time=   0.0s\n",
      "[CV 3/5] END LR__C=0.001, LR__l1_ratio=0.001, LR__penalty=None;, score=nan total time=   0.0s\n",
      "[CV 4/5] END LR__C=0.001, LR__l1_ratio=0.001, LR__penalty=None;, score=nan total time=   0.0s\n",
      "[CV 5/5] END LR__C=0.001, LR__l1_ratio=0.001, LR__penalty=None;, score=nan total time=   0.0s\n",
      "[CV 1/5] END LR__C=0.001, LR__l1_ratio=0.25075, LR__penalty=l1;, score=0.754 total time=   0.0s\n",
      "[CV 2/5] END LR__C=0.001, LR__l1_ratio=0.25075, LR__penalty=l1;, score=0.764 total time=   0.0s\n"
     ]
    },
    {
     "name": "stderr",
     "output_type": "stream",
     "text": [
      "C:\\Users\\admin\\anaconda3\\lib\\site-packages\\sklearn\\linear_model\\_logistic.py:1476: UserWarning: l1_ratio parameter is only used when penalty is 'elasticnet'. Got (penalty=l1)\n",
      "  warnings.warn(\n",
      "C:\\Users\\admin\\anaconda3\\lib\\site-packages\\sklearn\\linear_model\\_logistic.py:1476: UserWarning: l1_ratio parameter is only used when penalty is 'elasticnet'. Got (penalty=l1)\n",
      "  warnings.warn(\n",
      "C:\\Users\\admin\\anaconda3\\lib\\site-packages\\sklearn\\linear_model\\_logistic.py:1476: UserWarning: l1_ratio parameter is only used when penalty is 'elasticnet'. Got (penalty=l1)\n",
      "  warnings.warn(\n"
     ]
    },
    {
     "name": "stdout",
     "output_type": "stream",
     "text": [
      "[CV 3/5] END LR__C=0.001, LR__l1_ratio=0.25075, LR__penalty=l1;, score=0.734 total time=   0.0s\n",
      "[CV 4/5] END LR__C=0.001, LR__l1_ratio=0.25075, LR__penalty=l1;, score=0.736 total time=   0.0s\n",
      "[CV 5/5] END LR__C=0.001, LR__l1_ratio=0.25075, LR__penalty=l1;, score=0.752 total time=   0.0s\n"
     ]
    },
    {
     "name": "stderr",
     "output_type": "stream",
     "text": [
      "C:\\Users\\admin\\anaconda3\\lib\\site-packages\\sklearn\\linear_model\\_logistic.py:1476: UserWarning: l1_ratio parameter is only used when penalty is 'elasticnet'. Got (penalty=l1)\n",
      "  warnings.warn(\n",
      "C:\\Users\\admin\\anaconda3\\lib\\site-packages\\sklearn\\linear_model\\_logistic.py:1476: UserWarning: l1_ratio parameter is only used when penalty is 'elasticnet'. Got (penalty=l1)\n",
      "  warnings.warn(\n",
      "C:\\Users\\admin\\anaconda3\\lib\\site-packages\\sklearn\\linear_model\\_logistic.py:1476: UserWarning: l1_ratio parameter is only used when penalty is 'elasticnet'. Got (penalty=l2)\n",
      "  warnings.warn(\n"
     ]
    },
    {
     "name": "stdout",
     "output_type": "stream",
     "text": [
      "[CV 1/5] END LR__C=0.001, LR__l1_ratio=0.25075, LR__penalty=l2;, score=0.817 total time=   0.0s\n",
      "[CV 2/5] END LR__C=0.001, LR__l1_ratio=0.25075, LR__penalty=l2;, score=0.814 total time=   0.0s\n",
      "[CV 3/5] END LR__C=0.001, LR__l1_ratio=0.25075, LR__penalty=l2;, score=0.809 total time=   0.0s\n"
     ]
    },
    {
     "name": "stderr",
     "output_type": "stream",
     "text": [
      "C:\\Users\\admin\\anaconda3\\lib\\site-packages\\sklearn\\linear_model\\_logistic.py:1476: UserWarning: l1_ratio parameter is only used when penalty is 'elasticnet'. Got (penalty=l2)\n",
      "  warnings.warn(\n",
      "C:\\Users\\admin\\anaconda3\\lib\\site-packages\\sklearn\\linear_model\\_logistic.py:1476: UserWarning: l1_ratio parameter is only used when penalty is 'elasticnet'. Got (penalty=l2)\n",
      "  warnings.warn(\n",
      "C:\\Users\\admin\\anaconda3\\lib\\site-packages\\sklearn\\linear_model\\_logistic.py:1476: UserWarning: l1_ratio parameter is only used when penalty is 'elasticnet'. Got (penalty=l2)\n",
      "  warnings.warn(\n"
     ]
    },
    {
     "name": "stdout",
     "output_type": "stream",
     "text": [
      "[CV 4/5] END LR__C=0.001, LR__l1_ratio=0.25075, LR__penalty=l2;, score=0.801 total time=   0.0s\n",
      "[CV 5/5] END LR__C=0.001, LR__l1_ratio=0.25075, LR__penalty=l2;, score=0.814 total time=   0.0s\n",
      "[CV 1/5] END LR__C=0.001, LR__l1_ratio=0.25075, LR__penalty=elasticnet;, score=0.796 total time=   0.0s\n"
     ]
    },
    {
     "name": "stderr",
     "output_type": "stream",
     "text": [
      "C:\\Users\\admin\\anaconda3\\lib\\site-packages\\sklearn\\linear_model\\_logistic.py:1476: UserWarning: l1_ratio parameter is only used when penalty is 'elasticnet'. Got (penalty=l2)\n",
      "  warnings.warn(\n"
     ]
    },
    {
     "name": "stdout",
     "output_type": "stream",
     "text": [
      "[CV 2/5] END LR__C=0.001, LR__l1_ratio=0.25075, LR__penalty=elasticnet;, score=0.799 total time=   0.0s\n",
      "[CV 3/5] END LR__C=0.001, LR__l1_ratio=0.25075, LR__penalty=elasticnet;, score=0.780 total time=   0.0s\n",
      "[CV 4/5] END LR__C=0.001, LR__l1_ratio=0.25075, LR__penalty=elasticnet;, score=0.783 total time=   0.0s\n",
      "[CV 5/5] END LR__C=0.001, LR__l1_ratio=0.25075, LR__penalty=elasticnet;, score=0.791 total time=   0.0s\n",
      "[CV 1/5] END LR__C=0.001, LR__l1_ratio=0.25075, LR__penalty=None;, score=nan total time=   0.0s\n",
      "[CV 2/5] END LR__C=0.001, LR__l1_ratio=0.25075, LR__penalty=None;, score=nan total time=   0.0s\n",
      "[CV 3/5] END LR__C=0.001, LR__l1_ratio=0.25075, LR__penalty=None;, score=nan total time=   0.0s\n",
      "[CV 4/5] END LR__C=0.001, LR__l1_ratio=0.25075, LR__penalty=None;, score=nan total time=   0.0s\n",
      "[CV 5/5] END LR__C=0.001, LR__l1_ratio=0.25075, LR__penalty=None;, score=nan total time=   0.0s\n",
      "[CV 1/5] END LR__C=0.001, LR__l1_ratio=0.5005, LR__penalty=l1;, score=0.754 total time=   0.0s\n"
     ]
    },
    {
     "name": "stderr",
     "output_type": "stream",
     "text": [
      "C:\\Users\\admin\\anaconda3\\lib\\site-packages\\sklearn\\linear_model\\_logistic.py:1476: UserWarning: l1_ratio parameter is only used when penalty is 'elasticnet'. Got (penalty=l1)\n",
      "  warnings.warn(\n",
      "C:\\Users\\admin\\anaconda3\\lib\\site-packages\\sklearn\\linear_model\\_logistic.py:1476: UserWarning: l1_ratio parameter is only used when penalty is 'elasticnet'. Got (penalty=l1)\n",
      "  warnings.warn(\n",
      "C:\\Users\\admin\\anaconda3\\lib\\site-packages\\sklearn\\linear_model\\_logistic.py:1476: UserWarning: l1_ratio parameter is only used when penalty is 'elasticnet'. Got (penalty=l1)\n",
      "  warnings.warn(\n"
     ]
    },
    {
     "name": "stdout",
     "output_type": "stream",
     "text": [
      "[CV 2/5] END LR__C=0.001, LR__l1_ratio=0.5005, LR__penalty=l1;, score=0.764 total time=   0.0s\n",
      "[CV 3/5] END LR__C=0.001, LR__l1_ratio=0.5005, LR__penalty=l1;, score=0.734 total time=   0.0s\n",
      "[CV 4/5] END LR__C=0.001, LR__l1_ratio=0.5005, LR__penalty=l1;, score=0.736 total time=   0.0s\n"
     ]
    },
    {
     "name": "stderr",
     "output_type": "stream",
     "text": [
      "C:\\Users\\admin\\anaconda3\\lib\\site-packages\\sklearn\\linear_model\\_logistic.py:1476: UserWarning: l1_ratio parameter is only used when penalty is 'elasticnet'. Got (penalty=l1)\n",
      "  warnings.warn(\n",
      "C:\\Users\\admin\\anaconda3\\lib\\site-packages\\sklearn\\linear_model\\_logistic.py:1476: UserWarning: l1_ratio parameter is only used when penalty is 'elasticnet'. Got (penalty=l1)\n",
      "  warnings.warn(\n",
      "C:\\Users\\admin\\anaconda3\\lib\\site-packages\\sklearn\\linear_model\\_logistic.py:1476: UserWarning: l1_ratio parameter is only used when penalty is 'elasticnet'. Got (penalty=l2)\n",
      "  warnings.warn(\n"
     ]
    },
    {
     "name": "stdout",
     "output_type": "stream",
     "text": [
      "[CV 5/5] END LR__C=0.001, LR__l1_ratio=0.5005, LR__penalty=l1;, score=0.752 total time=   0.0s\n",
      "[CV 1/5] END LR__C=0.001, LR__l1_ratio=0.5005, LR__penalty=l2;, score=0.817 total time=   0.0s\n",
      "[CV 2/5] END LR__C=0.001, LR__l1_ratio=0.5005, LR__penalty=l2;, score=0.814 total time=   0.0s\n"
     ]
    },
    {
     "name": "stderr",
     "output_type": "stream",
     "text": [
      "C:\\Users\\admin\\anaconda3\\lib\\site-packages\\sklearn\\linear_model\\_logistic.py:1476: UserWarning: l1_ratio parameter is only used when penalty is 'elasticnet'. Got (penalty=l2)\n",
      "  warnings.warn(\n",
      "C:\\Users\\admin\\anaconda3\\lib\\site-packages\\sklearn\\linear_model\\_logistic.py:1476: UserWarning: l1_ratio parameter is only used when penalty is 'elasticnet'. Got (penalty=l2)\n",
      "  warnings.warn(\n",
      "C:\\Users\\admin\\anaconda3\\lib\\site-packages\\sklearn\\linear_model\\_logistic.py:1476: UserWarning: l1_ratio parameter is only used when penalty is 'elasticnet'. Got (penalty=l2)\n",
      "  warnings.warn(\n"
     ]
    },
    {
     "name": "stdout",
     "output_type": "stream",
     "text": [
      "[CV 3/5] END LR__C=0.001, LR__l1_ratio=0.5005, LR__penalty=l2;, score=0.809 total time=   0.0s\n",
      "[CV 4/5] END LR__C=0.001, LR__l1_ratio=0.5005, LR__penalty=l2;, score=0.801 total time=   0.0s\n",
      "[CV 5/5] END LR__C=0.001, LR__l1_ratio=0.5005, LR__penalty=l2;, score=0.814 total time=   0.0s\n"
     ]
    },
    {
     "name": "stderr",
     "output_type": "stream",
     "text": [
      "C:\\Users\\admin\\anaconda3\\lib\\site-packages\\sklearn\\linear_model\\_logistic.py:1476: UserWarning: l1_ratio parameter is only used when penalty is 'elasticnet'. Got (penalty=l2)\n",
      "  warnings.warn(\n"
     ]
    },
    {
     "name": "stdout",
     "output_type": "stream",
     "text": [
      "[CV 1/5] END LR__C=0.001, LR__l1_ratio=0.5005, LR__penalty=elasticnet;, score=0.775 total time=   0.0s\n",
      "[CV 2/5] END LR__C=0.001, LR__l1_ratio=0.5005, LR__penalty=elasticnet;, score=0.783 total time=   0.0s\n",
      "[CV 3/5] END LR__C=0.001, LR__l1_ratio=0.5005, LR__penalty=elasticnet;, score=0.753 total time=   0.0s\n",
      "[CV 4/5] END LR__C=0.001, LR__l1_ratio=0.5005, LR__penalty=elasticnet;, score=0.758 total time=   0.0s\n",
      "[CV 5/5] END LR__C=0.001, LR__l1_ratio=0.5005, LR__penalty=elasticnet;, score=0.771 total time=   0.0s\n",
      "[CV 1/5] END LR__C=0.001, LR__l1_ratio=0.5005, LR__penalty=None;, score=nan total time=   0.0s\n",
      "[CV 2/5] END LR__C=0.001, LR__l1_ratio=0.5005, LR__penalty=None;, score=nan total time=   0.0s\n",
      "[CV 3/5] END LR__C=0.001, LR__l1_ratio=0.5005, LR__penalty=None;, score=nan total time=   0.0s\n",
      "[CV 4/5] END LR__C=0.001, LR__l1_ratio=0.5005, LR__penalty=None;, score=nan total time=   0.0s\n",
      "[CV 5/5] END LR__C=0.001, LR__l1_ratio=0.5005, LR__penalty=None;, score=nan total time=   0.0s\n"
     ]
    },
    {
     "name": "stderr",
     "output_type": "stream",
     "text": [
      "C:\\Users\\admin\\anaconda3\\lib\\site-packages\\sklearn\\linear_model\\_logistic.py:1476: UserWarning: l1_ratio parameter is only used when penalty is 'elasticnet'. Got (penalty=l1)\n",
      "  warnings.warn(\n",
      "C:\\Users\\admin\\anaconda3\\lib\\site-packages\\sklearn\\linear_model\\_logistic.py:1476: UserWarning: l1_ratio parameter is only used when penalty is 'elasticnet'. Got (penalty=l1)\n",
      "  warnings.warn(\n",
      "C:\\Users\\admin\\anaconda3\\lib\\site-packages\\sklearn\\linear_model\\_logistic.py:1476: UserWarning: l1_ratio parameter is only used when penalty is 'elasticnet'. Got (penalty=l1)\n",
      "  warnings.warn(\n"
     ]
    },
    {
     "name": "stdout",
     "output_type": "stream",
     "text": [
      "[CV 1/5] END LR__C=0.001, LR__l1_ratio=0.75025, LR__penalty=l1;, score=0.754 total time=   0.0s\n",
      "[CV 2/5] END LR__C=0.001, LR__l1_ratio=0.75025, LR__penalty=l1;, score=0.764 total time=   0.0s\n",
      "[CV 3/5] END LR__C=0.001, LR__l1_ratio=0.75025, LR__penalty=l1;, score=0.734 total time=   0.0s\n"
     ]
    },
    {
     "name": "stderr",
     "output_type": "stream",
     "text": [
      "C:\\Users\\admin\\anaconda3\\lib\\site-packages\\sklearn\\linear_model\\_logistic.py:1476: UserWarning: l1_ratio parameter is only used when penalty is 'elasticnet'. Got (penalty=l1)\n",
      "  warnings.warn(\n",
      "C:\\Users\\admin\\anaconda3\\lib\\site-packages\\sklearn\\linear_model\\_logistic.py:1476: UserWarning: l1_ratio parameter is only used when penalty is 'elasticnet'. Got (penalty=l1)\n",
      "  warnings.warn(\n",
      "C:\\Users\\admin\\anaconda3\\lib\\site-packages\\sklearn\\linear_model\\_logistic.py:1476: UserWarning: l1_ratio parameter is only used when penalty is 'elasticnet'. Got (penalty=l2)\n",
      "  warnings.warn(\n"
     ]
    },
    {
     "name": "stdout",
     "output_type": "stream",
     "text": [
      "[CV 4/5] END LR__C=0.001, LR__l1_ratio=0.75025, LR__penalty=l1;, score=0.736 total time=   0.0s\n",
      "[CV 5/5] END LR__C=0.001, LR__l1_ratio=0.75025, LR__penalty=l1;, score=0.752 total time=   0.0s\n",
      "[CV 1/5] END LR__C=0.001, LR__l1_ratio=0.75025, LR__penalty=l2;, score=0.817 total time=   0.0s\n"
     ]
    },
    {
     "name": "stderr",
     "output_type": "stream",
     "text": [
      "C:\\Users\\admin\\anaconda3\\lib\\site-packages\\sklearn\\linear_model\\_logistic.py:1476: UserWarning: l1_ratio parameter is only used when penalty is 'elasticnet'. Got (penalty=l2)\n",
      "  warnings.warn(\n",
      "C:\\Users\\admin\\anaconda3\\lib\\site-packages\\sklearn\\linear_model\\_logistic.py:1476: UserWarning: l1_ratio parameter is only used when penalty is 'elasticnet'. Got (penalty=l2)\n",
      "  warnings.warn(\n",
      "C:\\Users\\admin\\anaconda3\\lib\\site-packages\\sklearn\\linear_model\\_logistic.py:1476: UserWarning: l1_ratio parameter is only used when penalty is 'elasticnet'. Got (penalty=l2)\n",
      "  warnings.warn(\n"
     ]
    },
    {
     "name": "stdout",
     "output_type": "stream",
     "text": [
      "[CV 2/5] END LR__C=0.001, LR__l1_ratio=0.75025, LR__penalty=l2;, score=0.814 total time=   0.0s\n",
      "[CV 3/5] END LR__C=0.001, LR__l1_ratio=0.75025, LR__penalty=l2;, score=0.809 total time=   0.0s\n",
      "[CV 4/5] END LR__C=0.001, LR__l1_ratio=0.75025, LR__penalty=l2;, score=0.801 total time=   0.0s\n"
     ]
    },
    {
     "name": "stderr",
     "output_type": "stream",
     "text": [
      "C:\\Users\\admin\\anaconda3\\lib\\site-packages\\sklearn\\linear_model\\_logistic.py:1476: UserWarning: l1_ratio parameter is only used when penalty is 'elasticnet'. Got (penalty=l2)\n",
      "  warnings.warn(\n"
     ]
    },
    {
     "name": "stdout",
     "output_type": "stream",
     "text": [
      "[CV 5/5] END LR__C=0.001, LR__l1_ratio=0.75025, LR__penalty=l2;, score=0.814 total time=   0.0s\n",
      "[CV 1/5] END LR__C=0.001, LR__l1_ratio=0.75025, LR__penalty=elasticnet;, score=0.754 total time=   0.0s\n",
      "[CV 2/5] END LR__C=0.001, LR__l1_ratio=0.75025, LR__penalty=elasticnet;, score=0.764 total time=   0.0s\n",
      "[CV 3/5] END LR__C=0.001, LR__l1_ratio=0.75025, LR__penalty=elasticnet;, score=0.734 total time=   0.0s\n",
      "[CV 4/5] END LR__C=0.001, LR__l1_ratio=0.75025, LR__penalty=elasticnet;, score=0.736 total time=   0.0s\n",
      "[CV 5/5] END LR__C=0.001, LR__l1_ratio=0.75025, LR__penalty=elasticnet;, score=0.752 total time=   0.0s\n",
      "[CV 1/5] END LR__C=0.001, LR__l1_ratio=0.75025, LR__penalty=None;, score=nan total time=   0.0s\n",
      "[CV 2/5] END LR__C=0.001, LR__l1_ratio=0.75025, LR__penalty=None;, score=nan total time=   0.0s\n",
      "[CV 3/5] END LR__C=0.001, LR__l1_ratio=0.75025, LR__penalty=None;, score=nan total time=   0.0s\n",
      "[CV 4/5] END LR__C=0.001, LR__l1_ratio=0.75025, LR__penalty=None;, score=nan total time=   0.0s\n",
      "[CV 5/5] END LR__C=0.001, LR__l1_ratio=0.75025, LR__penalty=None;, score=nan total time=   0.0s\n",
      "[CV 1/5] END LR__C=0.001, LR__l1_ratio=1.0, LR__penalty=l1;, score=0.754 total time=   0.0s\n",
      "[CV 2/5] END LR__C=0.001, LR__l1_ratio=1.0, LR__penalty=l1;, score=0.764 total time=   0.0s\n"
     ]
    },
    {
     "name": "stderr",
     "output_type": "stream",
     "text": [
      "C:\\Users\\admin\\anaconda3\\lib\\site-packages\\sklearn\\linear_model\\_logistic.py:1476: UserWarning: l1_ratio parameter is only used when penalty is 'elasticnet'. Got (penalty=l1)\n",
      "  warnings.warn(\n",
      "C:\\Users\\admin\\anaconda3\\lib\\site-packages\\sklearn\\linear_model\\_logistic.py:1476: UserWarning: l1_ratio parameter is only used when penalty is 'elasticnet'. Got (penalty=l1)\n",
      "  warnings.warn(\n",
      "C:\\Users\\admin\\anaconda3\\lib\\site-packages\\sklearn\\linear_model\\_logistic.py:1476: UserWarning: l1_ratio parameter is only used when penalty is 'elasticnet'. Got (penalty=l1)\n",
      "  warnings.warn(\n"
     ]
    },
    {
     "name": "stdout",
     "output_type": "stream",
     "text": [
      "[CV 3/5] END LR__C=0.001, LR__l1_ratio=1.0, LR__penalty=l1;, score=0.734 total time=   0.0s\n",
      "[CV 4/5] END LR__C=0.001, LR__l1_ratio=1.0, LR__penalty=l1;, score=0.736 total time=   0.0s\n",
      "[CV 5/5] END LR__C=0.001, LR__l1_ratio=1.0, LR__penalty=l1;, score=0.752 total time=   0.0s\n"
     ]
    },
    {
     "name": "stderr",
     "output_type": "stream",
     "text": [
      "C:\\Users\\admin\\anaconda3\\lib\\site-packages\\sklearn\\linear_model\\_logistic.py:1476: UserWarning: l1_ratio parameter is only used when penalty is 'elasticnet'. Got (penalty=l1)\n",
      "  warnings.warn(\n",
      "C:\\Users\\admin\\anaconda3\\lib\\site-packages\\sklearn\\linear_model\\_logistic.py:1476: UserWarning: l1_ratio parameter is only used when penalty is 'elasticnet'. Got (penalty=l1)\n",
      "  warnings.warn(\n",
      "C:\\Users\\admin\\anaconda3\\lib\\site-packages\\sklearn\\linear_model\\_logistic.py:1476: UserWarning: l1_ratio parameter is only used when penalty is 'elasticnet'. Got (penalty=l2)\n",
      "  warnings.warn(\n"
     ]
    },
    {
     "name": "stdout",
     "output_type": "stream",
     "text": [
      "[CV 1/5] END LR__C=0.001, LR__l1_ratio=1.0, LR__penalty=l2;, score=0.817 total time=   0.0s\n",
      "[CV 2/5] END LR__C=0.001, LR__l1_ratio=1.0, LR__penalty=l2;, score=0.814 total time=   0.0s\n",
      "[CV 3/5] END LR__C=0.001, LR__l1_ratio=1.0, LR__penalty=l2;, score=0.809 total time=   0.0s\n"
     ]
    },
    {
     "name": "stderr",
     "output_type": "stream",
     "text": [
      "C:\\Users\\admin\\anaconda3\\lib\\site-packages\\sklearn\\linear_model\\_logistic.py:1476: UserWarning: l1_ratio parameter is only used when penalty is 'elasticnet'. Got (penalty=l2)\n",
      "  warnings.warn(\n",
      "C:\\Users\\admin\\anaconda3\\lib\\site-packages\\sklearn\\linear_model\\_logistic.py:1476: UserWarning: l1_ratio parameter is only used when penalty is 'elasticnet'. Got (penalty=l2)\n",
      "  warnings.warn(\n",
      "C:\\Users\\admin\\anaconda3\\lib\\site-packages\\sklearn\\linear_model\\_logistic.py:1476: UserWarning: l1_ratio parameter is only used when penalty is 'elasticnet'. Got (penalty=l2)\n",
      "  warnings.warn(\n"
     ]
    },
    {
     "name": "stdout",
     "output_type": "stream",
     "text": [
      "[CV 4/5] END LR__C=0.001, LR__l1_ratio=1.0, LR__penalty=l2;, score=0.801 total time=   0.0s\n",
      "[CV 5/5] END LR__C=0.001, LR__l1_ratio=1.0, LR__penalty=l2;, score=0.814 total time=   0.0s\n",
      "[CV 1/5] END LR__C=0.001, LR__l1_ratio=1.0, LR__penalty=elasticnet;, score=0.754 total time=   0.0s\n"
     ]
    },
    {
     "name": "stderr",
     "output_type": "stream",
     "text": [
      "C:\\Users\\admin\\anaconda3\\lib\\site-packages\\sklearn\\linear_model\\_logistic.py:1476: UserWarning: l1_ratio parameter is only used when penalty is 'elasticnet'. Got (penalty=l2)\n",
      "  warnings.warn(\n"
     ]
    },
    {
     "name": "stdout",
     "output_type": "stream",
     "text": [
      "[CV 2/5] END LR__C=0.001, LR__l1_ratio=1.0, LR__penalty=elasticnet;, score=0.764 total time=   0.0s\n",
      "[CV 3/5] END LR__C=0.001, LR__l1_ratio=1.0, LR__penalty=elasticnet;, score=0.734 total time=   0.0s\n",
      "[CV 4/5] END LR__C=0.001, LR__l1_ratio=1.0, LR__penalty=elasticnet;, score=0.736 total time=   0.0s\n",
      "[CV 5/5] END LR__C=0.001, LR__l1_ratio=1.0, LR__penalty=elasticnet;, score=0.752 total time=   0.0s\n",
      "[CV 1/5] END LR__C=0.001, LR__l1_ratio=1.0, LR__penalty=None;, score=nan total time=   0.0s\n",
      "[CV 2/5] END LR__C=0.001, LR__l1_ratio=1.0, LR__penalty=None;, score=nan total time=   0.0s\n",
      "[CV 3/5] END LR__C=0.001, LR__l1_ratio=1.0, LR__penalty=None;, score=nan total time=   0.0s\n",
      "[CV 4/5] END LR__C=0.001, LR__l1_ratio=1.0, LR__penalty=None;, score=nan total time=   0.0s\n",
      "[CV 5/5] END LR__C=0.001, LR__l1_ratio=1.0, LR__penalty=None;, score=nan total time=   0.0s\n",
      "[CV 1/5] END LR__C=1.00075, LR__l1_ratio=0.001, LR__penalty=l1;, score=0.829 total time=   0.0s\n"
     ]
    },
    {
     "name": "stderr",
     "output_type": "stream",
     "text": [
      "C:\\Users\\admin\\anaconda3\\lib\\site-packages\\sklearn\\linear_model\\_logistic.py:1476: UserWarning: l1_ratio parameter is only used when penalty is 'elasticnet'. Got (penalty=l1)\n",
      "  warnings.warn(\n",
      "C:\\Users\\admin\\anaconda3\\lib\\site-packages\\sklearn\\linear_model\\_logistic.py:1476: UserWarning: l1_ratio parameter is only used when penalty is 'elasticnet'. Got (penalty=l1)\n",
      "  warnings.warn(\n"
     ]
    },
    {
     "name": "stdout",
     "output_type": "stream",
     "text": [
      "[CV 2/5] END LR__C=1.00075, LR__l1_ratio=0.001, LR__penalty=l1;, score=0.822 total time=   0.0s\n",
      "[CV 3/5] END LR__C=1.00075, LR__l1_ratio=0.001, LR__penalty=l1;, score=0.816 total time=   0.0s\n",
      "[CV 4/5] END LR__C=1.00075, LR__l1_ratio=0.001, LR__penalty=l1;, score=0.812 total time=   0.0s\n"
     ]
    },
    {
     "name": "stderr",
     "output_type": "stream",
     "text": [
      "C:\\Users\\admin\\anaconda3\\lib\\site-packages\\sklearn\\linear_model\\_logistic.py:1476: UserWarning: l1_ratio parameter is only used when penalty is 'elasticnet'. Got (penalty=l1)\n",
      "  warnings.warn(\n",
      "C:\\Users\\admin\\anaconda3\\lib\\site-packages\\sklearn\\linear_model\\_logistic.py:1476: UserWarning: l1_ratio parameter is only used when penalty is 'elasticnet'. Got (penalty=l1)\n",
      "  warnings.warn(\n",
      "C:\\Users\\admin\\anaconda3\\lib\\site-packages\\sklearn\\linear_model\\_logistic.py:1476: UserWarning: l1_ratio parameter is only used when penalty is 'elasticnet'. Got (penalty=l1)\n",
      "  warnings.warn(\n",
      "C:\\Users\\admin\\anaconda3\\lib\\site-packages\\sklearn\\linear_model\\_logistic.py:1476: UserWarning: l1_ratio parameter is only used when penalty is 'elasticnet'. Got (penalty=l2)\n",
      "  warnings.warn(\n",
      "C:\\Users\\admin\\anaconda3\\lib\\site-packages\\sklearn\\linear_model\\_logistic.py:1476: UserWarning: l1_ratio parameter is only used when penalty is 'elasticnet'. Got (penalty=l2)\n",
      "  warnings.warn(\n"
     ]
    },
    {
     "name": "stdout",
     "output_type": "stream",
     "text": [
      "[CV 5/5] END LR__C=1.00075, LR__l1_ratio=0.001, LR__penalty=l1;, score=0.820 total time=   0.0s\n",
      "[CV 1/5] END LR__C=1.00075, LR__l1_ratio=0.001, LR__penalty=l2;, score=0.829 total time=   0.0s\n",
      "[CV 2/5] END LR__C=1.00075, LR__l1_ratio=0.001, LR__penalty=l2;, score=0.822 total time=   0.0s\n"
     ]
    },
    {
     "name": "stderr",
     "output_type": "stream",
     "text": [
      "C:\\Users\\admin\\anaconda3\\lib\\site-packages\\sklearn\\linear_model\\_logistic.py:1476: UserWarning: l1_ratio parameter is only used when penalty is 'elasticnet'. Got (penalty=l2)\n",
      "  warnings.warn(\n",
      "C:\\Users\\admin\\anaconda3\\lib\\site-packages\\sklearn\\linear_model\\_logistic.py:1476: UserWarning: l1_ratio parameter is only used when penalty is 'elasticnet'. Got (penalty=l2)\n",
      "  warnings.warn(\n",
      "C:\\Users\\admin\\anaconda3\\lib\\site-packages\\sklearn\\linear_model\\_logistic.py:1476: UserWarning: l1_ratio parameter is only used when penalty is 'elasticnet'. Got (penalty=l2)\n",
      "  warnings.warn(\n"
     ]
    },
    {
     "name": "stdout",
     "output_type": "stream",
     "text": [
      "[CV 3/5] END LR__C=1.00075, LR__l1_ratio=0.001, LR__penalty=l2;, score=0.816 total time=   0.0s\n",
      "[CV 4/5] END LR__C=1.00075, LR__l1_ratio=0.001, LR__penalty=l2;, score=0.812 total time=   0.0s\n",
      "[CV 5/5] END LR__C=1.00075, LR__l1_ratio=0.001, LR__penalty=l2;, score=0.820 total time=   0.0s\n",
      "[CV 1/5] END LR__C=1.00075, LR__l1_ratio=0.001, LR__penalty=elasticnet;, score=0.829 total time=   0.0s\n",
      "[CV 2/5] END LR__C=1.00075, LR__l1_ratio=0.001, LR__penalty=elasticnet;, score=0.822 total time=   0.0s\n",
      "[CV 3/5] END LR__C=1.00075, LR__l1_ratio=0.001, LR__penalty=elasticnet;, score=0.816 total time=   0.0s\n",
      "[CV 4/5] END LR__C=1.00075, LR__l1_ratio=0.001, LR__penalty=elasticnet;, score=0.812 total time=   0.0s\n",
      "[CV 5/5] END LR__C=1.00075, LR__l1_ratio=0.001, LR__penalty=elasticnet;, score=0.820 total time=   0.0s\n",
      "[CV 1/5] END LR__C=1.00075, LR__l1_ratio=0.001, LR__penalty=None;, score=nan total time=   0.0s\n",
      "[CV 2/5] END LR__C=1.00075, LR__l1_ratio=0.001, LR__penalty=None;, score=nan total time=   0.0s\n",
      "[CV 3/5] END LR__C=1.00075, LR__l1_ratio=0.001, LR__penalty=None;, score=nan total time=   0.0s\n",
      "[CV 4/5] END LR__C=1.00075, LR__l1_ratio=0.001, LR__penalty=None;, score=nan total time=   0.0s\n",
      "[CV 5/5] END LR__C=1.00075, LR__l1_ratio=0.001, LR__penalty=None;, score=nan total time=   0.0s\n",
      "[CV 1/5] END LR__C=1.00075, LR__l1_ratio=0.25075, LR__penalty=l1;, score=0.829 total time=   0.0s\n"
     ]
    },
    {
     "name": "stderr",
     "output_type": "stream",
     "text": [
      "C:\\Users\\admin\\anaconda3\\lib\\site-packages\\sklearn\\linear_model\\_logistic.py:1476: UserWarning: l1_ratio parameter is only used when penalty is 'elasticnet'. Got (penalty=l1)\n",
      "  warnings.warn(\n",
      "C:\\Users\\admin\\anaconda3\\lib\\site-packages\\sklearn\\linear_model\\_logistic.py:1476: UserWarning: l1_ratio parameter is only used when penalty is 'elasticnet'. Got (penalty=l1)\n",
      "  warnings.warn(\n"
     ]
    },
    {
     "name": "stdout",
     "output_type": "stream",
     "text": [
      "[CV 2/5] END LR__C=1.00075, LR__l1_ratio=0.25075, LR__penalty=l1;, score=0.822 total time=   0.0s\n",
      "[CV 3/5] END LR__C=1.00075, LR__l1_ratio=0.25075, LR__penalty=l1;, score=0.816 total time=   0.0s\n",
      "[CV 4/5] END LR__C=1.00075, LR__l1_ratio=0.25075, LR__penalty=l1;, score=0.812 total time=   0.0s\n"
     ]
    },
    {
     "name": "stderr",
     "output_type": "stream",
     "text": [
      "C:\\Users\\admin\\anaconda3\\lib\\site-packages\\sklearn\\linear_model\\_logistic.py:1476: UserWarning: l1_ratio parameter is only used when penalty is 'elasticnet'. Got (penalty=l1)\n",
      "  warnings.warn(\n",
      "C:\\Users\\admin\\anaconda3\\lib\\site-packages\\sklearn\\linear_model\\_logistic.py:1476: UserWarning: l1_ratio parameter is only used when penalty is 'elasticnet'. Got (penalty=l1)\n",
      "  warnings.warn(\n",
      "C:\\Users\\admin\\anaconda3\\lib\\site-packages\\sklearn\\linear_model\\_logistic.py:1476: UserWarning: l1_ratio parameter is only used when penalty is 'elasticnet'. Got (penalty=l1)\n",
      "  warnings.warn(\n"
     ]
    },
    {
     "name": "stdout",
     "output_type": "stream",
     "text": [
      "[CV 5/5] END LR__C=1.00075, LR__l1_ratio=0.25075, LR__penalty=l1;, score=0.820 total time=   0.0s\n",
      "[CV 1/5] END LR__C=1.00075, LR__l1_ratio=0.25075, LR__penalty=l2;, score=0.829 total time=   0.0s\n",
      "[CV 2/5] END LR__C=1.00075, LR__l1_ratio=0.25075, LR__penalty=l2;, score=0.822 total time=   0.0s\n"
     ]
    },
    {
     "name": "stderr",
     "output_type": "stream",
     "text": [
      "C:\\Users\\admin\\anaconda3\\lib\\site-packages\\sklearn\\linear_model\\_logistic.py:1476: UserWarning: l1_ratio parameter is only used when penalty is 'elasticnet'. Got (penalty=l2)\n",
      "  warnings.warn(\n",
      "C:\\Users\\admin\\anaconda3\\lib\\site-packages\\sklearn\\linear_model\\_logistic.py:1476: UserWarning: l1_ratio parameter is only used when penalty is 'elasticnet'. Got (penalty=l2)\n",
      "  warnings.warn(\n",
      "C:\\Users\\admin\\anaconda3\\lib\\site-packages\\sklearn\\linear_model\\_logistic.py:1476: UserWarning: l1_ratio parameter is only used when penalty is 'elasticnet'. Got (penalty=l2)\n",
      "  warnings.warn(\n"
     ]
    },
    {
     "name": "stdout",
     "output_type": "stream",
     "text": [
      "[CV 3/5] END LR__C=1.00075, LR__l1_ratio=0.25075, LR__penalty=l2;, score=0.816 total time=   0.0s\n",
      "[CV 4/5] END LR__C=1.00075, LR__l1_ratio=0.25075, LR__penalty=l2;, score=0.812 total time=   0.0s\n",
      "[CV 5/5] END LR__C=1.00075, LR__l1_ratio=0.25075, LR__penalty=l2;, score=0.820 total time=   0.0s\n"
     ]
    },
    {
     "name": "stderr",
     "output_type": "stream",
     "text": [
      "C:\\Users\\admin\\anaconda3\\lib\\site-packages\\sklearn\\linear_model\\_logistic.py:1476: UserWarning: l1_ratio parameter is only used when penalty is 'elasticnet'. Got (penalty=l2)\n",
      "  warnings.warn(\n",
      "C:\\Users\\admin\\anaconda3\\lib\\site-packages\\sklearn\\linear_model\\_logistic.py:1476: UserWarning: l1_ratio parameter is only used when penalty is 'elasticnet'. Got (penalty=l2)\n",
      "  warnings.warn(\n"
     ]
    },
    {
     "name": "stdout",
     "output_type": "stream",
     "text": [
      "[CV 1/5] END LR__C=1.00075, LR__l1_ratio=0.25075, LR__penalty=elasticnet;, score=0.829 total time=   0.0s\n",
      "[CV 2/5] END LR__C=1.00075, LR__l1_ratio=0.25075, LR__penalty=elasticnet;, score=0.822 total time=   0.0s\n",
      "[CV 3/5] END LR__C=1.00075, LR__l1_ratio=0.25075, LR__penalty=elasticnet;, score=0.816 total time=   0.0s\n",
      "[CV 4/5] END LR__C=1.00075, LR__l1_ratio=0.25075, LR__penalty=elasticnet;, score=0.812 total time=   0.0s\n",
      "[CV 5/5] END LR__C=1.00075, LR__l1_ratio=0.25075, LR__penalty=elasticnet;, score=0.820 total time=   0.0s\n",
      "[CV 1/5] END LR__C=1.00075, LR__l1_ratio=0.25075, LR__penalty=None;, score=nan total time=   0.0s\n",
      "[CV 2/5] END LR__C=1.00075, LR__l1_ratio=0.25075, LR__penalty=None;, score=nan total time=   0.0s\n",
      "[CV 3/5] END LR__C=1.00075, LR__l1_ratio=0.25075, LR__penalty=None;, score=nan total time=   0.0s\n",
      "[CV 4/5] END LR__C=1.00075, LR__l1_ratio=0.25075, LR__penalty=None;, score=nan total time=   0.0s\n",
      "[CV 5/5] END LR__C=1.00075, LR__l1_ratio=0.25075, LR__penalty=None;, score=nan total time=   0.0s\n",
      "[CV 1/5] END LR__C=1.00075, LR__l1_ratio=0.5005, LR__penalty=l1;, score=0.829 total time=   0.0s\n"
     ]
    },
    {
     "name": "stderr",
     "output_type": "stream",
     "text": [
      "C:\\Users\\admin\\anaconda3\\lib\\site-packages\\sklearn\\linear_model\\_logistic.py:1476: UserWarning: l1_ratio parameter is only used when penalty is 'elasticnet'. Got (penalty=l1)\n",
      "  warnings.warn(\n",
      "C:\\Users\\admin\\anaconda3\\lib\\site-packages\\sklearn\\linear_model\\_logistic.py:1476: UserWarning: l1_ratio parameter is only used when penalty is 'elasticnet'. Got (penalty=l1)\n",
      "  warnings.warn(\n"
     ]
    },
    {
     "name": "stdout",
     "output_type": "stream",
     "text": [
      "[CV 2/5] END LR__C=1.00075, LR__l1_ratio=0.5005, LR__penalty=l1;, score=0.822 total time=   0.0s\n",
      "[CV 3/5] END LR__C=1.00075, LR__l1_ratio=0.5005, LR__penalty=l1;, score=0.816 total time=   0.0s\n"
     ]
    },
    {
     "name": "stderr",
     "output_type": "stream",
     "text": [
      "C:\\Users\\admin\\anaconda3\\lib\\site-packages\\sklearn\\linear_model\\_logistic.py:1476: UserWarning: l1_ratio parameter is only used when penalty is 'elasticnet'. Got (penalty=l1)\n",
      "  warnings.warn(\n",
      "C:\\Users\\admin\\anaconda3\\lib\\site-packages\\sklearn\\linear_model\\_logistic.py:1476: UserWarning: l1_ratio parameter is only used when penalty is 'elasticnet'. Got (penalty=l1)\n",
      "  warnings.warn(\n"
     ]
    },
    {
     "name": "stdout",
     "output_type": "stream",
     "text": [
      "[CV 4/5] END LR__C=1.00075, LR__l1_ratio=0.5005, LR__penalty=l1;, score=0.812 total time=   0.0s\n",
      "[CV 5/5] END LR__C=1.00075, LR__l1_ratio=0.5005, LR__penalty=l1;, score=0.820 total time=   0.0s\n",
      "[CV 1/5] END LR__C=1.00075, LR__l1_ratio=0.5005, LR__penalty=l2;, score=0.829 total time=   0.0s\n"
     ]
    },
    {
     "name": "stderr",
     "output_type": "stream",
     "text": [
      "C:\\Users\\admin\\anaconda3\\lib\\site-packages\\sklearn\\linear_model\\_logistic.py:1476: UserWarning: l1_ratio parameter is only used when penalty is 'elasticnet'. Got (penalty=l1)\n",
      "  warnings.warn(\n",
      "C:\\Users\\admin\\anaconda3\\lib\\site-packages\\sklearn\\linear_model\\_logistic.py:1476: UserWarning: l1_ratio parameter is only used when penalty is 'elasticnet'. Got (penalty=l2)\n",
      "  warnings.warn(\n",
      "C:\\Users\\admin\\anaconda3\\lib\\site-packages\\sklearn\\linear_model\\_logistic.py:1476: UserWarning: l1_ratio parameter is only used when penalty is 'elasticnet'. Got (penalty=l2)\n",
      "  warnings.warn(\n"
     ]
    },
    {
     "name": "stdout",
     "output_type": "stream",
     "text": [
      "[CV 2/5] END LR__C=1.00075, LR__l1_ratio=0.5005, LR__penalty=l2;, score=0.822 total time=   0.0s\n",
      "[CV 3/5] END LR__C=1.00075, LR__l1_ratio=0.5005, LR__penalty=l2;, score=0.816 total time=   0.0s\n",
      "[CV 4/5] END LR__C=1.00075, LR__l1_ratio=0.5005, LR__penalty=l2;, score=0.812 total time=   0.0s\n"
     ]
    },
    {
     "name": "stderr",
     "output_type": "stream",
     "text": [
      "C:\\Users\\admin\\anaconda3\\lib\\site-packages\\sklearn\\linear_model\\_logistic.py:1476: UserWarning: l1_ratio parameter is only used when penalty is 'elasticnet'. Got (penalty=l2)\n",
      "  warnings.warn(\n",
      "C:\\Users\\admin\\anaconda3\\lib\\site-packages\\sklearn\\linear_model\\_logistic.py:1476: UserWarning: l1_ratio parameter is only used when penalty is 'elasticnet'. Got (penalty=l2)\n",
      "  warnings.warn(\n",
      "C:\\Users\\admin\\anaconda3\\lib\\site-packages\\sklearn\\linear_model\\_logistic.py:1476: UserWarning: l1_ratio parameter is only used when penalty is 'elasticnet'. Got (penalty=l2)\n",
      "  warnings.warn(\n"
     ]
    },
    {
     "name": "stdout",
     "output_type": "stream",
     "text": [
      "[CV 5/5] END LR__C=1.00075, LR__l1_ratio=0.5005, LR__penalty=l2;, score=0.820 total time=   0.0s\n",
      "[CV 1/5] END LR__C=1.00075, LR__l1_ratio=0.5005, LR__penalty=elasticnet;, score=0.829 total time=   0.0s\n",
      "[CV 2/5] END LR__C=1.00075, LR__l1_ratio=0.5005, LR__penalty=elasticnet;, score=0.822 total time=   0.0s\n",
      "[CV 3/5] END LR__C=1.00075, LR__l1_ratio=0.5005, LR__penalty=elasticnet;, score=0.816 total time=   0.0s\n",
      "[CV 4/5] END LR__C=1.00075, LR__l1_ratio=0.5005, LR__penalty=elasticnet;, score=0.812 total time=   0.0s\n",
      "[CV 5/5] END LR__C=1.00075, LR__l1_ratio=0.5005, LR__penalty=elasticnet;, score=0.820 total time=   0.0s\n",
      "[CV 1/5] END LR__C=1.00075, LR__l1_ratio=0.5005, LR__penalty=None;, score=nan total time=   0.0s\n",
      "[CV 2/5] END LR__C=1.00075, LR__l1_ratio=0.5005, LR__penalty=None;, score=nan total time=   0.0s\n",
      "[CV 3/5] END LR__C=1.00075, LR__l1_ratio=0.5005, LR__penalty=None;, score=nan total time=   0.0s\n",
      "[CV 4/5] END LR__C=1.00075, LR__l1_ratio=0.5005, LR__penalty=None;, score=nan total time=   0.0s\n",
      "[CV 5/5] END LR__C=1.00075, LR__l1_ratio=0.5005, LR__penalty=None;, score=nan total time=   0.0s\n"
     ]
    },
    {
     "name": "stderr",
     "output_type": "stream",
     "text": [
      "C:\\Users\\admin\\anaconda3\\lib\\site-packages\\sklearn\\linear_model\\_logistic.py:1476: UserWarning: l1_ratio parameter is only used when penalty is 'elasticnet'. Got (penalty=l1)\n",
      "  warnings.warn(\n",
      "C:\\Users\\admin\\anaconda3\\lib\\site-packages\\sklearn\\linear_model\\_logistic.py:1476: UserWarning: l1_ratio parameter is only used when penalty is 'elasticnet'. Got (penalty=l1)\n",
      "  warnings.warn(\n"
     ]
    },
    {
     "name": "stdout",
     "output_type": "stream",
     "text": [
      "[CV 1/5] END LR__C=1.00075, LR__l1_ratio=0.75025, LR__penalty=l1;, score=0.829 total time=   0.0s\n",
      "[CV 2/5] END LR__C=1.00075, LR__l1_ratio=0.75025, LR__penalty=l1;, score=0.822 total time=   0.0s\n"
     ]
    },
    {
     "name": "stderr",
     "output_type": "stream",
     "text": [
      "C:\\Users\\admin\\anaconda3\\lib\\site-packages\\sklearn\\linear_model\\_logistic.py:1476: UserWarning: l1_ratio parameter is only used when penalty is 'elasticnet'. Got (penalty=l1)\n",
      "  warnings.warn(\n",
      "C:\\Users\\admin\\anaconda3\\lib\\site-packages\\sklearn\\linear_model\\_logistic.py:1476: UserWarning: l1_ratio parameter is only used when penalty is 'elasticnet'. Got (penalty=l1)\n",
      "  warnings.warn(\n"
     ]
    },
    {
     "name": "stdout",
     "output_type": "stream",
     "text": [
      "[CV 3/5] END LR__C=1.00075, LR__l1_ratio=0.75025, LR__penalty=l1;, score=0.816 total time=   0.0s\n",
      "[CV 4/5] END LR__C=1.00075, LR__l1_ratio=0.75025, LR__penalty=l1;, score=0.812 total time=   0.0s\n"
     ]
    },
    {
     "name": "stderr",
     "output_type": "stream",
     "text": [
      "C:\\Users\\admin\\anaconda3\\lib\\site-packages\\sklearn\\linear_model\\_logistic.py:1476: UserWarning: l1_ratio parameter is only used when penalty is 'elasticnet'. Got (penalty=l1)\n",
      "  warnings.warn(\n",
      "C:\\Users\\admin\\anaconda3\\lib\\site-packages\\sklearn\\linear_model\\_logistic.py:1476: UserWarning: l1_ratio parameter is only used when penalty is 'elasticnet'. Got (penalty=l2)\n",
      "  warnings.warn(\n",
      "C:\\Users\\admin\\anaconda3\\lib\\site-packages\\sklearn\\linear_model\\_logistic.py:1476: UserWarning: l1_ratio parameter is only used when penalty is 'elasticnet'. Got (penalty=l2)\n",
      "  warnings.warn(\n"
     ]
    },
    {
     "name": "stdout",
     "output_type": "stream",
     "text": [
      "[CV 5/5] END LR__C=1.00075, LR__l1_ratio=0.75025, LR__penalty=l1;, score=0.820 total time=   0.0s\n",
      "[CV 1/5] END LR__C=1.00075, LR__l1_ratio=0.75025, LR__penalty=l2;, score=0.829 total time=   0.0s\n",
      "[CV 2/5] END LR__C=1.00075, LR__l1_ratio=0.75025, LR__penalty=l2;, score=0.822 total time=   0.0s\n"
     ]
    },
    {
     "name": "stderr",
     "output_type": "stream",
     "text": [
      "C:\\Users\\admin\\anaconda3\\lib\\site-packages\\sklearn\\linear_model\\_logistic.py:1476: UserWarning: l1_ratio parameter is only used when penalty is 'elasticnet'. Got (penalty=l2)\n",
      "  warnings.warn(\n",
      "C:\\Users\\admin\\anaconda3\\lib\\site-packages\\sklearn\\linear_model\\_logistic.py:1476: UserWarning: l1_ratio parameter is only used when penalty is 'elasticnet'. Got (penalty=l2)\n",
      "  warnings.warn(\n",
      "C:\\Users\\admin\\anaconda3\\lib\\site-packages\\sklearn\\linear_model\\_logistic.py:1476: UserWarning: l1_ratio parameter is only used when penalty is 'elasticnet'. Got (penalty=l2)\n",
      "  warnings.warn(\n"
     ]
    },
    {
     "name": "stdout",
     "output_type": "stream",
     "text": [
      "[CV 3/5] END LR__C=1.00075, LR__l1_ratio=0.75025, LR__penalty=l2;, score=0.816 total time=   0.0s\n",
      "[CV 4/5] END LR__C=1.00075, LR__l1_ratio=0.75025, LR__penalty=l2;, score=0.812 total time=   0.0s\n",
      "[CV 5/5] END LR__C=1.00075, LR__l1_ratio=0.75025, LR__penalty=l2;, score=0.820 total time=   0.0s\n",
      "[CV 1/5] END LR__C=1.00075, LR__l1_ratio=0.75025, LR__penalty=elasticnet;, score=0.829 total time=   0.0s\n",
      "[CV 2/5] END LR__C=1.00075, LR__l1_ratio=0.75025, LR__penalty=elasticnet;, score=0.822 total time=   0.0s\n",
      "[CV 3/5] END LR__C=1.00075, LR__l1_ratio=0.75025, LR__penalty=elasticnet;, score=0.816 total time=   0.0s\n",
      "[CV 4/5] END LR__C=1.00075, LR__l1_ratio=0.75025, LR__penalty=elasticnet;, score=0.812 total time=   0.0s\n",
      "[CV 5/5] END LR__C=1.00075, LR__l1_ratio=0.75025, LR__penalty=elasticnet;, score=0.820 total time=   0.0s\n",
      "[CV 1/5] END LR__C=1.00075, LR__l1_ratio=0.75025, LR__penalty=None;, score=nan total time=   0.0s\n",
      "[CV 2/5] END LR__C=1.00075, LR__l1_ratio=0.75025, LR__penalty=None;, score=nan total time=   0.0s\n",
      "[CV 3/5] END LR__C=1.00075, LR__l1_ratio=0.75025, LR__penalty=None;, score=nan total time=   0.0s\n",
      "[CV 4/5] END LR__C=1.00075, LR__l1_ratio=0.75025, LR__penalty=None;, score=nan total time=   0.0s\n",
      "[CV 5/5] END LR__C=1.00075, LR__l1_ratio=0.75025, LR__penalty=None;, score=nan total time=   0.0s\n",
      "[CV 1/5] END LR__C=1.00075, LR__l1_ratio=1.0, LR__penalty=l1;, score=0.829 total time=   0.0s\n"
     ]
    },
    {
     "name": "stderr",
     "output_type": "stream",
     "text": [
      "C:\\Users\\admin\\anaconda3\\lib\\site-packages\\sklearn\\linear_model\\_logistic.py:1476: UserWarning: l1_ratio parameter is only used when penalty is 'elasticnet'. Got (penalty=l1)\n",
      "  warnings.warn(\n",
      "C:\\Users\\admin\\anaconda3\\lib\\site-packages\\sklearn\\linear_model\\_logistic.py:1476: UserWarning: l1_ratio parameter is only used when penalty is 'elasticnet'. Got (penalty=l1)\n",
      "  warnings.warn(\n"
     ]
    },
    {
     "name": "stdout",
     "output_type": "stream",
     "text": [
      "[CV 2/5] END LR__C=1.00075, LR__l1_ratio=1.0, LR__penalty=l1;, score=0.822 total time=   0.0s\n",
      "[CV 3/5] END LR__C=1.00075, LR__l1_ratio=1.0, LR__penalty=l1;, score=0.816 total time=   0.0s\n",
      "[CV 4/5] END LR__C=1.00075, LR__l1_ratio=1.0, LR__penalty=l1;, score=0.812 total time=   0.0s\n"
     ]
    },
    {
     "name": "stderr",
     "output_type": "stream",
     "text": [
      "C:\\Users\\admin\\anaconda3\\lib\\site-packages\\sklearn\\linear_model\\_logistic.py:1476: UserWarning: l1_ratio parameter is only used when penalty is 'elasticnet'. Got (penalty=l1)\n",
      "  warnings.warn(\n",
      "C:\\Users\\admin\\anaconda3\\lib\\site-packages\\sklearn\\linear_model\\_logistic.py:1476: UserWarning: l1_ratio parameter is only used when penalty is 'elasticnet'. Got (penalty=l1)\n",
      "  warnings.warn(\n",
      "C:\\Users\\admin\\anaconda3\\lib\\site-packages\\sklearn\\linear_model\\_logistic.py:1476: UserWarning: l1_ratio parameter is only used when penalty is 'elasticnet'. Got (penalty=l1)\n",
      "  warnings.warn(\n"
     ]
    },
    {
     "name": "stdout",
     "output_type": "stream",
     "text": [
      "[CV 5/5] END LR__C=1.00075, LR__l1_ratio=1.0, LR__penalty=l1;, score=0.820 total time=   0.0s\n",
      "[CV 1/5] END LR__C=1.00075, LR__l1_ratio=1.0, LR__penalty=l2;, score=0.829 total time=   0.0s\n",
      "[CV 2/5] END LR__C=1.00075, LR__l1_ratio=1.0, LR__penalty=l2;, score=0.822 total time=   0.0s\n"
     ]
    },
    {
     "name": "stderr",
     "output_type": "stream",
     "text": [
      "C:\\Users\\admin\\anaconda3\\lib\\site-packages\\sklearn\\linear_model\\_logistic.py:1476: UserWarning: l1_ratio parameter is only used when penalty is 'elasticnet'. Got (penalty=l2)\n",
      "  warnings.warn(\n",
      "C:\\Users\\admin\\anaconda3\\lib\\site-packages\\sklearn\\linear_model\\_logistic.py:1476: UserWarning: l1_ratio parameter is only used when penalty is 'elasticnet'. Got (penalty=l2)\n",
      "  warnings.warn(\n",
      "C:\\Users\\admin\\anaconda3\\lib\\site-packages\\sklearn\\linear_model\\_logistic.py:1476: UserWarning: l1_ratio parameter is only used when penalty is 'elasticnet'. Got (penalty=l2)\n",
      "  warnings.warn(\n"
     ]
    },
    {
     "name": "stdout",
     "output_type": "stream",
     "text": [
      "[CV 3/5] END LR__C=1.00075, LR__l1_ratio=1.0, LR__penalty=l2;, score=0.816 total time=   0.0s\n",
      "[CV 4/5] END LR__C=1.00075, LR__l1_ratio=1.0, LR__penalty=l2;, score=0.812 total time=   0.0s\n",
      "[CV 5/5] END LR__C=1.00075, LR__l1_ratio=1.0, LR__penalty=l2;, score=0.820 total time=   0.0s\n"
     ]
    },
    {
     "name": "stderr",
     "output_type": "stream",
     "text": [
      "C:\\Users\\admin\\anaconda3\\lib\\site-packages\\sklearn\\linear_model\\_logistic.py:1476: UserWarning: l1_ratio parameter is only used when penalty is 'elasticnet'. Got (penalty=l2)\n",
      "  warnings.warn(\n",
      "C:\\Users\\admin\\anaconda3\\lib\\site-packages\\sklearn\\linear_model\\_logistic.py:1476: UserWarning: l1_ratio parameter is only used when penalty is 'elasticnet'. Got (penalty=l2)\n",
      "  warnings.warn(\n"
     ]
    },
    {
     "name": "stdout",
     "output_type": "stream",
     "text": [
      "[CV 1/5] END LR__C=1.00075, LR__l1_ratio=1.0, LR__penalty=elasticnet;, score=0.829 total time=   0.0s\n",
      "[CV 2/5] END LR__C=1.00075, LR__l1_ratio=1.0, LR__penalty=elasticnet;, score=0.822 total time=   0.0s\n",
      "[CV 3/5] END LR__C=1.00075, LR__l1_ratio=1.0, LR__penalty=elasticnet;, score=0.816 total time=   0.0s\n",
      "[CV 4/5] END LR__C=1.00075, LR__l1_ratio=1.0, LR__penalty=elasticnet;, score=0.812 total time=   0.0s\n",
      "[CV 5/5] END LR__C=1.00075, LR__l1_ratio=1.0, LR__penalty=elasticnet;, score=0.820 total time=   0.0s\n",
      "[CV 1/5] END LR__C=1.00075, LR__l1_ratio=1.0, LR__penalty=None;, score=nan total time=   0.0s\n",
      "[CV 2/5] END LR__C=1.00075, LR__l1_ratio=1.0, LR__penalty=None;, score=nan total time=   0.0s\n",
      "[CV 3/5] END LR__C=1.00075, LR__l1_ratio=1.0, LR__penalty=None;, score=nan total time=   0.0s\n",
      "[CV 4/5] END LR__C=1.00075, LR__l1_ratio=1.0, LR__penalty=None;, score=nan total time=   0.0s\n",
      "[CV 5/5] END LR__C=1.00075, LR__l1_ratio=1.0, LR__penalty=None;, score=nan total time=   0.0s\n"
     ]
    },
    {
     "name": "stderr",
     "output_type": "stream",
     "text": [
      "C:\\Users\\admin\\anaconda3\\lib\\site-packages\\sklearn\\linear_model\\_logistic.py:1476: UserWarning: l1_ratio parameter is only used when penalty is 'elasticnet'. Got (penalty=l1)\n",
      "  warnings.warn(\n",
      "C:\\Users\\admin\\anaconda3\\lib\\site-packages\\sklearn\\linear_model\\_logistic.py:1476: UserWarning: l1_ratio parameter is only used when penalty is 'elasticnet'. Got (penalty=l1)\n",
      "  warnings.warn(\n"
     ]
    },
    {
     "name": "stdout",
     "output_type": "stream",
     "text": [
      "[CV 1/5] END LR__C=2.0005, LR__l1_ratio=0.001, LR__penalty=l1;, score=0.829 total time=   0.0s\n",
      "[CV 2/5] END LR__C=2.0005, LR__l1_ratio=0.001, LR__penalty=l1;, score=0.822 total time=   0.0s\n"
     ]
    },
    {
     "name": "stderr",
     "output_type": "stream",
     "text": [
      "C:\\Users\\admin\\anaconda3\\lib\\site-packages\\sklearn\\linear_model\\_logistic.py:1476: UserWarning: l1_ratio parameter is only used when penalty is 'elasticnet'. Got (penalty=l1)\n",
      "  warnings.warn(\n",
      "C:\\Users\\admin\\anaconda3\\lib\\site-packages\\sklearn\\linear_model\\_logistic.py:1476: UserWarning: l1_ratio parameter is only used when penalty is 'elasticnet'. Got (penalty=l1)\n",
      "  warnings.warn(\n"
     ]
    },
    {
     "name": "stdout",
     "output_type": "stream",
     "text": [
      "[CV 3/5] END LR__C=2.0005, LR__l1_ratio=0.001, LR__penalty=l1;, score=0.816 total time=   0.0s\n",
      "[CV 4/5] END LR__C=2.0005, LR__l1_ratio=0.001, LR__penalty=l1;, score=0.812 total time=   0.0s\n",
      "[CV 5/5] END LR__C=2.0005, LR__l1_ratio=0.001, LR__penalty=l1;, score=0.820 total time=   0.0s\n"
     ]
    },
    {
     "name": "stderr",
     "output_type": "stream",
     "text": [
      "C:\\Users\\admin\\anaconda3\\lib\\site-packages\\sklearn\\linear_model\\_logistic.py:1476: UserWarning: l1_ratio parameter is only used when penalty is 'elasticnet'. Got (penalty=l1)\n",
      "  warnings.warn(\n",
      "C:\\Users\\admin\\anaconda3\\lib\\site-packages\\sklearn\\linear_model\\_logistic.py:1476: UserWarning: l1_ratio parameter is only used when penalty is 'elasticnet'. Got (penalty=l2)\n",
      "  warnings.warn(\n",
      "C:\\Users\\admin\\anaconda3\\lib\\site-packages\\sklearn\\linear_model\\_logistic.py:1476: UserWarning: l1_ratio parameter is only used when penalty is 'elasticnet'. Got (penalty=l2)\n",
      "  warnings.warn(\n"
     ]
    },
    {
     "name": "stdout",
     "output_type": "stream",
     "text": [
      "[CV 1/5] END LR__C=2.0005, LR__l1_ratio=0.001, LR__penalty=l2;, score=0.829 total time=   0.0s\n",
      "[CV 2/5] END LR__C=2.0005, LR__l1_ratio=0.001, LR__penalty=l2;, score=0.822 total time=   0.0s\n",
      "[CV 3/5] END LR__C=2.0005, LR__l1_ratio=0.001, LR__penalty=l2;, score=0.816 total time=   0.0s\n"
     ]
    },
    {
     "name": "stderr",
     "output_type": "stream",
     "text": [
      "C:\\Users\\admin\\anaconda3\\lib\\site-packages\\sklearn\\linear_model\\_logistic.py:1476: UserWarning: l1_ratio parameter is only used when penalty is 'elasticnet'. Got (penalty=l2)\n",
      "  warnings.warn(\n",
      "C:\\Users\\admin\\anaconda3\\lib\\site-packages\\sklearn\\linear_model\\_logistic.py:1476: UserWarning: l1_ratio parameter is only used when penalty is 'elasticnet'. Got (penalty=l2)\n",
      "  warnings.warn(\n",
      "C:\\Users\\admin\\anaconda3\\lib\\site-packages\\sklearn\\linear_model\\_logistic.py:1476: UserWarning: l1_ratio parameter is only used when penalty is 'elasticnet'. Got (penalty=l2)\n",
      "  warnings.warn(\n"
     ]
    },
    {
     "name": "stdout",
     "output_type": "stream",
     "text": [
      "[CV 4/5] END LR__C=2.0005, LR__l1_ratio=0.001, LR__penalty=l2;, score=0.812 total time=   0.0s\n",
      "[CV 5/5] END LR__C=2.0005, LR__l1_ratio=0.001, LR__penalty=l2;, score=0.820 total time=   0.0s\n",
      "[CV 1/5] END LR__C=2.0005, LR__l1_ratio=0.001, LR__penalty=elasticnet;, score=0.829 total time=   0.0s\n",
      "[CV 2/5] END LR__C=2.0005, LR__l1_ratio=0.001, LR__penalty=elasticnet;, score=0.822 total time=   0.0s\n",
      "[CV 3/5] END LR__C=2.0005, LR__l1_ratio=0.001, LR__penalty=elasticnet;, score=0.816 total time=   0.0s\n",
      "[CV 4/5] END LR__C=2.0005, LR__l1_ratio=0.001, LR__penalty=elasticnet;, score=0.812 total time=   0.0s\n",
      "[CV 5/5] END LR__C=2.0005, LR__l1_ratio=0.001, LR__penalty=elasticnet;, score=0.820 total time=   0.0s\n",
      "[CV 1/5] END LR__C=2.0005, LR__l1_ratio=0.001, LR__penalty=None;, score=nan total time=   0.0s\n",
      "[CV 2/5] END LR__C=2.0005, LR__l1_ratio=0.001, LR__penalty=None;, score=nan total time=   0.0s\n",
      "[CV 3/5] END LR__C=2.0005, LR__l1_ratio=0.001, LR__penalty=None;, score=nan total time=   0.0s\n",
      "[CV 4/5] END LR__C=2.0005, LR__l1_ratio=0.001, LR__penalty=None;, score=nan total time=   0.0s\n",
      "[CV 5/5] END LR__C=2.0005, LR__l1_ratio=0.001, LR__penalty=None;, score=nan total time=   0.0s\n"
     ]
    },
    {
     "name": "stderr",
     "output_type": "stream",
     "text": [
      "C:\\Users\\admin\\anaconda3\\lib\\site-packages\\sklearn\\linear_model\\_logistic.py:1476: UserWarning: l1_ratio parameter is only used when penalty is 'elasticnet'. Got (penalty=l1)\n",
      "  warnings.warn(\n",
      "C:\\Users\\admin\\anaconda3\\lib\\site-packages\\sklearn\\linear_model\\_logistic.py:1476: UserWarning: l1_ratio parameter is only used when penalty is 'elasticnet'. Got (penalty=l1)\n",
      "  warnings.warn(\n"
     ]
    },
    {
     "name": "stdout",
     "output_type": "stream",
     "text": [
      "[CV 1/5] END LR__C=2.0005, LR__l1_ratio=0.25075, LR__penalty=l1;, score=0.829 total time=   0.0s\n",
      "[CV 2/5] END LR__C=2.0005, LR__l1_ratio=0.25075, LR__penalty=l1;, score=0.822 total time=   0.0s\n",
      "[CV 3/5] END LR__C=2.0005, LR__l1_ratio=0.25075, LR__penalty=l1;, score=0.816 total time=   0.0s\n"
     ]
    },
    {
     "name": "stderr",
     "output_type": "stream",
     "text": [
      "C:\\Users\\admin\\anaconda3\\lib\\site-packages\\sklearn\\linear_model\\_logistic.py:1476: UserWarning: l1_ratio parameter is only used when penalty is 'elasticnet'. Got (penalty=l1)\n",
      "  warnings.warn(\n",
      "C:\\Users\\admin\\anaconda3\\lib\\site-packages\\sklearn\\linear_model\\_logistic.py:1476: UserWarning: l1_ratio parameter is only used when penalty is 'elasticnet'. Got (penalty=l1)\n",
      "  warnings.warn(\n"
     ]
    },
    {
     "name": "stdout",
     "output_type": "stream",
     "text": [
      "[CV 4/5] END LR__C=2.0005, LR__l1_ratio=0.25075, LR__penalty=l1;, score=0.812 total time=   0.0s\n",
      "[CV 5/5] END LR__C=2.0005, LR__l1_ratio=0.25075, LR__penalty=l1;, score=0.820 total time=   0.0s\n",
      "[CV 1/5] END LR__C=2.0005, LR__l1_ratio=0.25075, LR__penalty=l2;, score=0.829 total time=   0.0s\n"
     ]
    },
    {
     "name": "stderr",
     "output_type": "stream",
     "text": [
      "C:\\Users\\admin\\anaconda3\\lib\\site-packages\\sklearn\\linear_model\\_logistic.py:1476: UserWarning: l1_ratio parameter is only used when penalty is 'elasticnet'. Got (penalty=l1)\n",
      "  warnings.warn(\n",
      "C:\\Users\\admin\\anaconda3\\lib\\site-packages\\sklearn\\linear_model\\_logistic.py:1476: UserWarning: l1_ratio parameter is only used when penalty is 'elasticnet'. Got (penalty=l2)\n",
      "  warnings.warn(\n",
      "C:\\Users\\admin\\anaconda3\\lib\\site-packages\\sklearn\\linear_model\\_logistic.py:1476: UserWarning: l1_ratio parameter is only used when penalty is 'elasticnet'. Got (penalty=l2)\n",
      "  warnings.warn(\n"
     ]
    },
    {
     "name": "stdout",
     "output_type": "stream",
     "text": [
      "[CV 2/5] END LR__C=2.0005, LR__l1_ratio=0.25075, LR__penalty=l2;, score=0.822 total time=   0.0s\n",
      "[CV 3/5] END LR__C=2.0005, LR__l1_ratio=0.25075, LR__penalty=l2;, score=0.816 total time=   0.0s\n",
      "[CV 4/5] END LR__C=2.0005, LR__l1_ratio=0.25075, LR__penalty=l2;, score=0.812 total time=   0.0s\n"
     ]
    },
    {
     "name": "stderr",
     "output_type": "stream",
     "text": [
      "C:\\Users\\admin\\anaconda3\\lib\\site-packages\\sklearn\\linear_model\\_logistic.py:1476: UserWarning: l1_ratio parameter is only used when penalty is 'elasticnet'. Got (penalty=l2)\n",
      "  warnings.warn(\n",
      "C:\\Users\\admin\\anaconda3\\lib\\site-packages\\sklearn\\linear_model\\_logistic.py:1476: UserWarning: l1_ratio parameter is only used when penalty is 'elasticnet'. Got (penalty=l2)\n",
      "  warnings.warn(\n",
      "C:\\Users\\admin\\anaconda3\\lib\\site-packages\\sklearn\\linear_model\\_logistic.py:1476: UserWarning: l1_ratio parameter is only used when penalty is 'elasticnet'. Got (penalty=l2)\n",
      "  warnings.warn(\n"
     ]
    },
    {
     "name": "stdout",
     "output_type": "stream",
     "text": [
      "[CV 5/5] END LR__C=2.0005, LR__l1_ratio=0.25075, LR__penalty=l2;, score=0.820 total time=   0.0s\n",
      "[CV 1/5] END LR__C=2.0005, LR__l1_ratio=0.25075, LR__penalty=elasticnet;, score=0.829 total time=   0.0s\n",
      "[CV 2/5] END LR__C=2.0005, LR__l1_ratio=0.25075, LR__penalty=elasticnet;, score=0.822 total time=   0.0s\n",
      "[CV 3/5] END LR__C=2.0005, LR__l1_ratio=0.25075, LR__penalty=elasticnet;, score=0.816 total time=   0.0s\n",
      "[CV 4/5] END LR__C=2.0005, LR__l1_ratio=0.25075, LR__penalty=elasticnet;, score=0.812 total time=   0.0s\n",
      "[CV 5/5] END LR__C=2.0005, LR__l1_ratio=0.25075, LR__penalty=elasticnet;, score=0.820 total time=   0.0s\n",
      "[CV 1/5] END LR__C=2.0005, LR__l1_ratio=0.25075, LR__penalty=None;, score=nan total time=   0.0s\n",
      "[CV 2/5] END LR__C=2.0005, LR__l1_ratio=0.25075, LR__penalty=None;, score=nan total time=   0.0s\n",
      "[CV 3/5] END LR__C=2.0005, LR__l1_ratio=0.25075, LR__penalty=None;, score=nan total time=   0.0s\n",
      "[CV 4/5] END LR__C=2.0005, LR__l1_ratio=0.25075, LR__penalty=None;, score=nan total time=   0.0s\n",
      "[CV 5/5] END LR__C=2.0005, LR__l1_ratio=0.25075, LR__penalty=None;, score=nan total time=   0.0s\n"
     ]
    },
    {
     "name": "stderr",
     "output_type": "stream",
     "text": [
      "C:\\Users\\admin\\anaconda3\\lib\\site-packages\\sklearn\\linear_model\\_logistic.py:1476: UserWarning: l1_ratio parameter is only used when penalty is 'elasticnet'. Got (penalty=l1)\n",
      "  warnings.warn(\n",
      "C:\\Users\\admin\\anaconda3\\lib\\site-packages\\sklearn\\linear_model\\_logistic.py:1476: UserWarning: l1_ratio parameter is only used when penalty is 'elasticnet'. Got (penalty=l1)\n",
      "  warnings.warn(\n"
     ]
    },
    {
     "name": "stdout",
     "output_type": "stream",
     "text": [
      "[CV 1/5] END LR__C=2.0005, LR__l1_ratio=0.5005, LR__penalty=l1;, score=0.829 total time=   0.0s\n",
      "[CV 2/5] END LR__C=2.0005, LR__l1_ratio=0.5005, LR__penalty=l1;, score=0.822 total time=   0.0s\n",
      "[CV 3/5] END LR__C=2.0005, LR__l1_ratio=0.5005, LR__penalty=l1;, score=0.816 total time=   0.0s\n"
     ]
    },
    {
     "name": "stderr",
     "output_type": "stream",
     "text": [
      "C:\\Users\\admin\\anaconda3\\lib\\site-packages\\sklearn\\linear_model\\_logistic.py:1476: UserWarning: l1_ratio parameter is only used when penalty is 'elasticnet'. Got (penalty=l1)\n",
      "  warnings.warn(\n",
      "C:\\Users\\admin\\anaconda3\\lib\\site-packages\\sklearn\\linear_model\\_logistic.py:1476: UserWarning: l1_ratio parameter is only used when penalty is 'elasticnet'. Got (penalty=l1)\n",
      "  warnings.warn(\n"
     ]
    },
    {
     "name": "stdout",
     "output_type": "stream",
     "text": [
      "[CV 4/5] END LR__C=2.0005, LR__l1_ratio=0.5005, LR__penalty=l1;, score=0.812 total time=   0.0s\n",
      "[CV 5/5] END LR__C=2.0005, LR__l1_ratio=0.5005, LR__penalty=l1;, score=0.820 total time=   0.0s\n",
      "[CV 1/5] END LR__C=2.0005, LR__l1_ratio=0.5005, LR__penalty=l2;, score=0.829 total time=   0.0s\n"
     ]
    },
    {
     "name": "stderr",
     "output_type": "stream",
     "text": [
      "C:\\Users\\admin\\anaconda3\\lib\\site-packages\\sklearn\\linear_model\\_logistic.py:1476: UserWarning: l1_ratio parameter is only used when penalty is 'elasticnet'. Got (penalty=l1)\n",
      "  warnings.warn(\n",
      "C:\\Users\\admin\\anaconda3\\lib\\site-packages\\sklearn\\linear_model\\_logistic.py:1476: UserWarning: l1_ratio parameter is only used when penalty is 'elasticnet'. Got (penalty=l2)\n",
      "  warnings.warn(\n",
      "C:\\Users\\admin\\anaconda3\\lib\\site-packages\\sklearn\\linear_model\\_logistic.py:1476: UserWarning: l1_ratio parameter is only used when penalty is 'elasticnet'. Got (penalty=l2)\n",
      "  warnings.warn(\n"
     ]
    },
    {
     "name": "stdout",
     "output_type": "stream",
     "text": [
      "[CV 2/5] END LR__C=2.0005, LR__l1_ratio=0.5005, LR__penalty=l2;, score=0.822 total time=   0.0s\n",
      "[CV 3/5] END LR__C=2.0005, LR__l1_ratio=0.5005, LR__penalty=l2;, score=0.816 total time=   0.0s\n",
      "[CV 4/5] END LR__C=2.0005, LR__l1_ratio=0.5005, LR__penalty=l2;, score=0.812 total time=   0.0s\n"
     ]
    },
    {
     "name": "stderr",
     "output_type": "stream",
     "text": [
      "C:\\Users\\admin\\anaconda3\\lib\\site-packages\\sklearn\\linear_model\\_logistic.py:1476: UserWarning: l1_ratio parameter is only used when penalty is 'elasticnet'. Got (penalty=l2)\n",
      "  warnings.warn(\n",
      "C:\\Users\\admin\\anaconda3\\lib\\site-packages\\sklearn\\linear_model\\_logistic.py:1476: UserWarning: l1_ratio parameter is only used when penalty is 'elasticnet'. Got (penalty=l2)\n",
      "  warnings.warn(\n",
      "C:\\Users\\admin\\anaconda3\\lib\\site-packages\\sklearn\\linear_model\\_logistic.py:1476: UserWarning: l1_ratio parameter is only used when penalty is 'elasticnet'. Got (penalty=l2)\n",
      "  warnings.warn(\n"
     ]
    },
    {
     "name": "stdout",
     "output_type": "stream",
     "text": [
      "[CV 5/5] END LR__C=2.0005, LR__l1_ratio=0.5005, LR__penalty=l2;, score=0.820 total time=   0.0s\n",
      "[CV 1/5] END LR__C=2.0005, LR__l1_ratio=0.5005, LR__penalty=elasticnet;, score=0.829 total time=   0.0s\n",
      "[CV 2/5] END LR__C=2.0005, LR__l1_ratio=0.5005, LR__penalty=elasticnet;, score=0.822 total time=   0.0s\n",
      "[CV 3/5] END LR__C=2.0005, LR__l1_ratio=0.5005, LR__penalty=elasticnet;, score=0.816 total time=   0.0s\n",
      "[CV 4/5] END LR__C=2.0005, LR__l1_ratio=0.5005, LR__penalty=elasticnet;, score=0.812 total time=   0.0s\n",
      "[CV 5/5] END LR__C=2.0005, LR__l1_ratio=0.5005, LR__penalty=elasticnet;, score=0.820 total time=   0.0s\n",
      "[CV 1/5] END LR__C=2.0005, LR__l1_ratio=0.5005, LR__penalty=None;, score=nan total time=   0.0s\n",
      "[CV 2/5] END LR__C=2.0005, LR__l1_ratio=0.5005, LR__penalty=None;, score=nan total time=   0.0s\n",
      "[CV 3/5] END LR__C=2.0005, LR__l1_ratio=0.5005, LR__penalty=None;, score=nan total time=   0.0s\n",
      "[CV 4/5] END LR__C=2.0005, LR__l1_ratio=0.5005, LR__penalty=None;, score=nan total time=   0.0s\n",
      "[CV 5/5] END LR__C=2.0005, LR__l1_ratio=0.5005, LR__penalty=None;, score=nan total time=   0.0s\n"
     ]
    },
    {
     "name": "stderr",
     "output_type": "stream",
     "text": [
      "C:\\Users\\admin\\anaconda3\\lib\\site-packages\\sklearn\\linear_model\\_logistic.py:1476: UserWarning: l1_ratio parameter is only used when penalty is 'elasticnet'. Got (penalty=l1)\n",
      "  warnings.warn(\n",
      "C:\\Users\\admin\\anaconda3\\lib\\site-packages\\sklearn\\linear_model\\_logistic.py:1476: UserWarning: l1_ratio parameter is only used when penalty is 'elasticnet'. Got (penalty=l1)\n",
      "  warnings.warn(\n",
      "C:\\Users\\admin\\anaconda3\\lib\\site-packages\\sklearn\\linear_model\\_logistic.py:1476: UserWarning: l1_ratio parameter is only used when penalty is 'elasticnet'. Got (penalty=l1)\n",
      "  warnings.warn(\n"
     ]
    },
    {
     "name": "stdout",
     "output_type": "stream",
     "text": [
      "[CV 1/5] END LR__C=2.0005, LR__l1_ratio=0.75025, LR__penalty=l1;, score=0.829 total time=   0.0s\n",
      "[CV 2/5] END LR__C=2.0005, LR__l1_ratio=0.75025, LR__penalty=l1;, score=0.822 total time=   0.0s\n",
      "[CV 3/5] END LR__C=2.0005, LR__l1_ratio=0.75025, LR__penalty=l1;, score=0.816 total time=   0.0s\n",
      "[CV 4/5] END LR__C=2.0005, LR__l1_ratio=0.75025, LR__penalty=l1;, score=0.812 total time=   0.0s\n",
      "[CV 5/5] END LR__C=2.0005, LR__l1_ratio=0.75025, LR__penalty=l1;, score=0.820 total time=   0.0s\n"
     ]
    },
    {
     "name": "stderr",
     "output_type": "stream",
     "text": [
      "C:\\Users\\admin\\anaconda3\\lib\\site-packages\\sklearn\\linear_model\\_logistic.py:1476: UserWarning: l1_ratio parameter is only used when penalty is 'elasticnet'. Got (penalty=l1)\n",
      "  warnings.warn(\n",
      "C:\\Users\\admin\\anaconda3\\lib\\site-packages\\sklearn\\linear_model\\_logistic.py:1476: UserWarning: l1_ratio parameter is only used when penalty is 'elasticnet'. Got (penalty=l1)\n",
      "  warnings.warn(\n",
      "C:\\Users\\admin\\anaconda3\\lib\\site-packages\\sklearn\\linear_model\\_logistic.py:1476: UserWarning: l1_ratio parameter is only used when penalty is 'elasticnet'. Got (penalty=l2)\n",
      "  warnings.warn(\n"
     ]
    },
    {
     "name": "stdout",
     "output_type": "stream",
     "text": [
      "[CV 1/5] END LR__C=2.0005, LR__l1_ratio=0.75025, LR__penalty=l2;, score=0.829 total time=   0.0s\n",
      "[CV 2/5] END LR__C=2.0005, LR__l1_ratio=0.75025, LR__penalty=l2;, score=0.822 total time=   0.0s\n",
      "[CV 3/5] END LR__C=2.0005, LR__l1_ratio=0.75025, LR__penalty=l2;, score=0.816 total time=   0.0s\n"
     ]
    },
    {
     "name": "stderr",
     "output_type": "stream",
     "text": [
      "C:\\Users\\admin\\anaconda3\\lib\\site-packages\\sklearn\\linear_model\\_logistic.py:1476: UserWarning: l1_ratio parameter is only used when penalty is 'elasticnet'. Got (penalty=l2)\n",
      "  warnings.warn(\n",
      "C:\\Users\\admin\\anaconda3\\lib\\site-packages\\sklearn\\linear_model\\_logistic.py:1476: UserWarning: l1_ratio parameter is only used when penalty is 'elasticnet'. Got (penalty=l2)\n",
      "  warnings.warn(\n",
      "C:\\Users\\admin\\anaconda3\\lib\\site-packages\\sklearn\\linear_model\\_logistic.py:1476: UserWarning: l1_ratio parameter is only used when penalty is 'elasticnet'. Got (penalty=l2)\n",
      "  warnings.warn(\n"
     ]
    },
    {
     "name": "stdout",
     "output_type": "stream",
     "text": [
      "[CV 4/5] END LR__C=2.0005, LR__l1_ratio=0.75025, LR__penalty=l2;, score=0.812 total time=   0.0s\n",
      "[CV 5/5] END LR__C=2.0005, LR__l1_ratio=0.75025, LR__penalty=l2;, score=0.820 total time=   0.0s\n",
      "[CV 1/5] END LR__C=2.0005, LR__l1_ratio=0.75025, LR__penalty=elasticnet;, score=0.829 total time=   0.0s\n"
     ]
    },
    {
     "name": "stderr",
     "output_type": "stream",
     "text": [
      "C:\\Users\\admin\\anaconda3\\lib\\site-packages\\sklearn\\linear_model\\_logistic.py:1476: UserWarning: l1_ratio parameter is only used when penalty is 'elasticnet'. Got (penalty=l2)\n",
      "  warnings.warn(\n"
     ]
    },
    {
     "name": "stdout",
     "output_type": "stream",
     "text": [
      "[CV 2/5] END LR__C=2.0005, LR__l1_ratio=0.75025, LR__penalty=elasticnet;, score=0.822 total time=   0.0s\n",
      "[CV 3/5] END LR__C=2.0005, LR__l1_ratio=0.75025, LR__penalty=elasticnet;, score=0.816 total time=   0.0s\n",
      "[CV 4/5] END LR__C=2.0005, LR__l1_ratio=0.75025, LR__penalty=elasticnet;, score=0.812 total time=   0.0s\n",
      "[CV 5/5] END LR__C=2.0005, LR__l1_ratio=0.75025, LR__penalty=elasticnet;, score=0.820 total time=   0.0s\n",
      "[CV 1/5] END LR__C=2.0005, LR__l1_ratio=0.75025, LR__penalty=None;, score=nan total time=   0.0s\n",
      "[CV 2/5] END LR__C=2.0005, LR__l1_ratio=0.75025, LR__penalty=None;, score=nan total time=   0.0s\n",
      "[CV 3/5] END LR__C=2.0005, LR__l1_ratio=0.75025, LR__penalty=None;, score=nan total time=   0.0s\n",
      "[CV 4/5] END LR__C=2.0005, LR__l1_ratio=0.75025, LR__penalty=None;, score=nan total time=   0.0s\n",
      "[CV 5/5] END LR__C=2.0005, LR__l1_ratio=0.75025, LR__penalty=None;, score=nan total time=   0.0s\n"
     ]
    },
    {
     "name": "stderr",
     "output_type": "stream",
     "text": [
      "C:\\Users\\admin\\anaconda3\\lib\\site-packages\\sklearn\\linear_model\\_logistic.py:1476: UserWarning: l1_ratio parameter is only used when penalty is 'elasticnet'. Got (penalty=l1)\n",
      "  warnings.warn(\n",
      "C:\\Users\\admin\\anaconda3\\lib\\site-packages\\sklearn\\linear_model\\_logistic.py:1476: UserWarning: l1_ratio parameter is only used when penalty is 'elasticnet'. Got (penalty=l1)\n",
      "  warnings.warn(\n",
      "C:\\Users\\admin\\anaconda3\\lib\\site-packages\\sklearn\\linear_model\\_logistic.py:1476: UserWarning: l1_ratio parameter is only used when penalty is 'elasticnet'. Got (penalty=l1)\n",
      "  warnings.warn(\n"
     ]
    },
    {
     "name": "stdout",
     "output_type": "stream",
     "text": [
      "[CV 1/5] END LR__C=2.0005, LR__l1_ratio=1.0, LR__penalty=l1;, score=0.829 total time=   0.0s\n",
      "[CV 2/5] END LR__C=2.0005, LR__l1_ratio=1.0, LR__penalty=l1;, score=0.822 total time=   0.0s\n",
      "[CV 3/5] END LR__C=2.0005, LR__l1_ratio=1.0, LR__penalty=l1;, score=0.816 total time=   0.0s\n",
      "[CV 4/5] END LR__C=2.0005, LR__l1_ratio=1.0, LR__penalty=l1;, score=0.812 total time=   0.0s\n",
      "[CV 5/5] END LR__C=2.0005, LR__l1_ratio=1.0, LR__penalty=l1;, score=0.820 total time=   0.0s\n"
     ]
    },
    {
     "name": "stderr",
     "output_type": "stream",
     "text": [
      "C:\\Users\\admin\\anaconda3\\lib\\site-packages\\sklearn\\linear_model\\_logistic.py:1476: UserWarning: l1_ratio parameter is only used when penalty is 'elasticnet'. Got (penalty=l1)\n",
      "  warnings.warn(\n",
      "C:\\Users\\admin\\anaconda3\\lib\\site-packages\\sklearn\\linear_model\\_logistic.py:1476: UserWarning: l1_ratio parameter is only used when penalty is 'elasticnet'. Got (penalty=l1)\n",
      "  warnings.warn(\n",
      "C:\\Users\\admin\\anaconda3\\lib\\site-packages\\sklearn\\linear_model\\_logistic.py:1476: UserWarning: l1_ratio parameter is only used when penalty is 'elasticnet'. Got (penalty=l2)\n",
      "  warnings.warn(\n",
      "C:\\Users\\admin\\anaconda3\\lib\\site-packages\\sklearn\\linear_model\\_logistic.py:1476: UserWarning: l1_ratio parameter is only used when penalty is 'elasticnet'. Got (penalty=l2)\n",
      "  warnings.warn(\n",
      "C:\\Users\\admin\\anaconda3\\lib\\site-packages\\sklearn\\linear_model\\_logistic.py:1476: UserWarning: l1_ratio parameter is only used when penalty is 'elasticnet'. Got (penalty=l2)\n",
      "  warnings.warn(\n"
     ]
    },
    {
     "name": "stdout",
     "output_type": "stream",
     "text": [
      "[CV 1/5] END LR__C=2.0005, LR__l1_ratio=1.0, LR__penalty=l2;, score=0.829 total time=   0.0s\n",
      "[CV 2/5] END LR__C=2.0005, LR__l1_ratio=1.0, LR__penalty=l2;, score=0.822 total time=   0.0s\n",
      "[CV 3/5] END LR__C=2.0005, LR__l1_ratio=1.0, LR__penalty=l2;, score=0.816 total time=   0.0s\n"
     ]
    },
    {
     "name": "stderr",
     "output_type": "stream",
     "text": [
      "C:\\Users\\admin\\anaconda3\\lib\\site-packages\\sklearn\\linear_model\\_logistic.py:1476: UserWarning: l1_ratio parameter is only used when penalty is 'elasticnet'. Got (penalty=l2)\n",
      "  warnings.warn(\n",
      "C:\\Users\\admin\\anaconda3\\lib\\site-packages\\sklearn\\linear_model\\_logistic.py:1476: UserWarning: l1_ratio parameter is only used when penalty is 'elasticnet'. Got (penalty=l2)\n",
      "  warnings.warn(\n"
     ]
    },
    {
     "name": "stdout",
     "output_type": "stream",
     "text": [
      "[CV 4/5] END LR__C=2.0005, LR__l1_ratio=1.0, LR__penalty=l2;, score=0.812 total time=   0.0s\n",
      "[CV 5/5] END LR__C=2.0005, LR__l1_ratio=1.0, LR__penalty=l2;, score=0.820 total time=   0.0s\n",
      "[CV 1/5] END LR__C=2.0005, LR__l1_ratio=1.0, LR__penalty=elasticnet;, score=0.829 total time=   0.0s\n",
      "[CV 2/5] END LR__C=2.0005, LR__l1_ratio=1.0, LR__penalty=elasticnet;, score=0.822 total time=   0.0s\n",
      "[CV 3/5] END LR__C=2.0005, LR__l1_ratio=1.0, LR__penalty=elasticnet;, score=0.816 total time=   0.0s\n",
      "[CV 4/5] END LR__C=2.0005, LR__l1_ratio=1.0, LR__penalty=elasticnet;, score=0.812 total time=   0.0s\n",
      "[CV 5/5] END LR__C=2.0005, LR__l1_ratio=1.0, LR__penalty=elasticnet;, score=0.820 total time=   0.0s\n",
      "[CV 1/5] END LR__C=2.0005, LR__l1_ratio=1.0, LR__penalty=None;, score=nan total time=   0.0s\n",
      "[CV 2/5] END LR__C=2.0005, LR__l1_ratio=1.0, LR__penalty=None;, score=nan total time=   0.0s\n",
      "[CV 3/5] END LR__C=2.0005, LR__l1_ratio=1.0, LR__penalty=None;, score=nan total time=   0.0s\n",
      "[CV 4/5] END LR__C=2.0005, LR__l1_ratio=1.0, LR__penalty=None;, score=nan total time=   0.0s\n",
      "[CV 5/5] END LR__C=2.0005, LR__l1_ratio=1.0, LR__penalty=None;, score=nan total time=   0.0s\n",
      "[CV 1/5] END LR__C=3.00025, LR__l1_ratio=0.001, LR__penalty=l1;, score=0.829 total time=   0.0s\n"
     ]
    },
    {
     "name": "stderr",
     "output_type": "stream",
     "text": [
      "C:\\Users\\admin\\anaconda3\\lib\\site-packages\\sklearn\\linear_model\\_logistic.py:1476: UserWarning: l1_ratio parameter is only used when penalty is 'elasticnet'. Got (penalty=l1)\n",
      "  warnings.warn(\n",
      "C:\\Users\\admin\\anaconda3\\lib\\site-packages\\sklearn\\linear_model\\_logistic.py:1476: UserWarning: l1_ratio parameter is only used when penalty is 'elasticnet'. Got (penalty=l1)\n",
      "  warnings.warn(\n"
     ]
    },
    {
     "name": "stdout",
     "output_type": "stream",
     "text": [
      "[CV 2/5] END LR__C=3.00025, LR__l1_ratio=0.001, LR__penalty=l1;, score=0.822 total time=   0.0s\n",
      "[CV 3/5] END LR__C=3.00025, LR__l1_ratio=0.001, LR__penalty=l1;, score=0.816 total time=   0.0s\n"
     ]
    },
    {
     "name": "stderr",
     "output_type": "stream",
     "text": [
      "C:\\Users\\admin\\anaconda3\\lib\\site-packages\\sklearn\\linear_model\\_logistic.py:1476: UserWarning: l1_ratio parameter is only used when penalty is 'elasticnet'. Got (penalty=l1)\n",
      "  warnings.warn(\n",
      "C:\\Users\\admin\\anaconda3\\lib\\site-packages\\sklearn\\linear_model\\_logistic.py:1476: UserWarning: l1_ratio parameter is only used when penalty is 'elasticnet'. Got (penalty=l1)\n",
      "  warnings.warn(\n"
     ]
    },
    {
     "name": "stdout",
     "output_type": "stream",
     "text": [
      "[CV 4/5] END LR__C=3.00025, LR__l1_ratio=0.001, LR__penalty=l1;, score=0.812 total time=   0.0s\n",
      "[CV 5/5] END LR__C=3.00025, LR__l1_ratio=0.001, LR__penalty=l1;, score=0.820 total time=   0.0s\n",
      "[CV 1/5] END LR__C=3.00025, LR__l1_ratio=0.001, LR__penalty=l2;, score=0.829 total time=   0.0s\n"
     ]
    },
    {
     "name": "stderr",
     "output_type": "stream",
     "text": [
      "C:\\Users\\admin\\anaconda3\\lib\\site-packages\\sklearn\\linear_model\\_logistic.py:1476: UserWarning: l1_ratio parameter is only used when penalty is 'elasticnet'. Got (penalty=l1)\n",
      "  warnings.warn(\n",
      "C:\\Users\\admin\\anaconda3\\lib\\site-packages\\sklearn\\linear_model\\_logistic.py:1476: UserWarning: l1_ratio parameter is only used when penalty is 'elasticnet'. Got (penalty=l2)\n",
      "  warnings.warn(\n",
      "C:\\Users\\admin\\anaconda3\\lib\\site-packages\\sklearn\\linear_model\\_logistic.py:1476: UserWarning: l1_ratio parameter is only used when penalty is 'elasticnet'. Got (penalty=l2)\n",
      "  warnings.warn(\n"
     ]
    },
    {
     "name": "stdout",
     "output_type": "stream",
     "text": [
      "[CV 2/5] END LR__C=3.00025, LR__l1_ratio=0.001, LR__penalty=l2;, score=0.822 total time=   0.0s\n",
      "[CV 3/5] END LR__C=3.00025, LR__l1_ratio=0.001, LR__penalty=l2;, score=0.816 total time=   0.0s\n",
      "[CV 4/5] END LR__C=3.00025, LR__l1_ratio=0.001, LR__penalty=l2;, score=0.812 total time=   0.0s\n"
     ]
    },
    {
     "name": "stderr",
     "output_type": "stream",
     "text": [
      "C:\\Users\\admin\\anaconda3\\lib\\site-packages\\sklearn\\linear_model\\_logistic.py:1476: UserWarning: l1_ratio parameter is only used when penalty is 'elasticnet'. Got (penalty=l2)\n",
      "  warnings.warn(\n",
      "C:\\Users\\admin\\anaconda3\\lib\\site-packages\\sklearn\\linear_model\\_logistic.py:1476: UserWarning: l1_ratio parameter is only used when penalty is 'elasticnet'. Got (penalty=l2)\n",
      "  warnings.warn(\n",
      "C:\\Users\\admin\\anaconda3\\lib\\site-packages\\sklearn\\linear_model\\_logistic.py:1476: UserWarning: l1_ratio parameter is only used when penalty is 'elasticnet'. Got (penalty=l2)\n",
      "  warnings.warn(\n"
     ]
    },
    {
     "name": "stdout",
     "output_type": "stream",
     "text": [
      "[CV 5/5] END LR__C=3.00025, LR__l1_ratio=0.001, LR__penalty=l2;, score=0.820 total time=   0.0s\n",
      "[CV 1/5] END LR__C=3.00025, LR__l1_ratio=0.001, LR__penalty=elasticnet;, score=0.829 total time=   0.0s\n",
      "[CV 2/5] END LR__C=3.00025, LR__l1_ratio=0.001, LR__penalty=elasticnet;, score=0.822 total time=   0.0s\n",
      "[CV 3/5] END LR__C=3.00025, LR__l1_ratio=0.001, LR__penalty=elasticnet;, score=0.816 total time=   0.0s\n",
      "[CV 4/5] END LR__C=3.00025, LR__l1_ratio=0.001, LR__penalty=elasticnet;, score=0.812 total time=   0.0s\n",
      "[CV 5/5] END LR__C=3.00025, LR__l1_ratio=0.001, LR__penalty=elasticnet;, score=0.820 total time=   0.0s\n",
      "[CV 1/5] END LR__C=3.00025, LR__l1_ratio=0.001, LR__penalty=None;, score=nan total time=   0.0s\n",
      "[CV 2/5] END LR__C=3.00025, LR__l1_ratio=0.001, LR__penalty=None;, score=nan total time=   0.0s\n",
      "[CV 3/5] END LR__C=3.00025, LR__l1_ratio=0.001, LR__penalty=None;, score=nan total time=   0.0s\n",
      "[CV 4/5] END LR__C=3.00025, LR__l1_ratio=0.001, LR__penalty=None;, score=nan total time=   0.0s\n",
      "[CV 5/5] END LR__C=3.00025, LR__l1_ratio=0.001, LR__penalty=None;, score=nan total time=   0.0s\n"
     ]
    },
    {
     "name": "stderr",
     "output_type": "stream",
     "text": [
      "C:\\Users\\admin\\anaconda3\\lib\\site-packages\\sklearn\\linear_model\\_logistic.py:1476: UserWarning: l1_ratio parameter is only used when penalty is 'elasticnet'. Got (penalty=l1)\n",
      "  warnings.warn(\n",
      "C:\\Users\\admin\\anaconda3\\lib\\site-packages\\sklearn\\linear_model\\_logistic.py:1476: UserWarning: l1_ratio parameter is only used when penalty is 'elasticnet'. Got (penalty=l1)\n",
      "  warnings.warn(\n"
     ]
    },
    {
     "name": "stdout",
     "output_type": "stream",
     "text": [
      "[CV 1/5] END LR__C=3.00025, LR__l1_ratio=0.25075, LR__penalty=l1;, score=0.829 total time=   0.0s\n",
      "[CV 2/5] END LR__C=3.00025, LR__l1_ratio=0.25075, LR__penalty=l1;, score=0.822 total time=   0.0s\n"
     ]
    },
    {
     "name": "stderr",
     "output_type": "stream",
     "text": [
      "C:\\Users\\admin\\anaconda3\\lib\\site-packages\\sklearn\\linear_model\\_logistic.py:1476: UserWarning: l1_ratio parameter is only used when penalty is 'elasticnet'. Got (penalty=l1)\n",
      "  warnings.warn(\n",
      "C:\\Users\\admin\\anaconda3\\lib\\site-packages\\sklearn\\linear_model\\_logistic.py:1476: UserWarning: l1_ratio parameter is only used when penalty is 'elasticnet'. Got (penalty=l1)\n",
      "  warnings.warn(\n"
     ]
    },
    {
     "name": "stdout",
     "output_type": "stream",
     "text": [
      "[CV 3/5] END LR__C=3.00025, LR__l1_ratio=0.25075, LR__penalty=l1;, score=0.816 total time=   0.0s\n",
      "[CV 4/5] END LR__C=3.00025, LR__l1_ratio=0.25075, LR__penalty=l1;, score=0.812 total time=   0.0s\n"
     ]
    },
    {
     "name": "stderr",
     "output_type": "stream",
     "text": [
      "C:\\Users\\admin\\anaconda3\\lib\\site-packages\\sklearn\\linear_model\\_logistic.py:1476: UserWarning: l1_ratio parameter is only used when penalty is 'elasticnet'. Got (penalty=l1)\n",
      "  warnings.warn(\n",
      "C:\\Users\\admin\\anaconda3\\lib\\site-packages\\sklearn\\linear_model\\_logistic.py:1476: UserWarning: l1_ratio parameter is only used when penalty is 'elasticnet'. Got (penalty=l2)\n",
      "  warnings.warn(\n",
      "C:\\Users\\admin\\anaconda3\\lib\\site-packages\\sklearn\\linear_model\\_logistic.py:1476: UserWarning: l1_ratio parameter is only used when penalty is 'elasticnet'. Got (penalty=l2)\n",
      "  warnings.warn(\n"
     ]
    },
    {
     "name": "stdout",
     "output_type": "stream",
     "text": [
      "[CV 5/5] END LR__C=3.00025, LR__l1_ratio=0.25075, LR__penalty=l1;, score=0.820 total time=   0.0s\n",
      "[CV 1/5] END LR__C=3.00025, LR__l1_ratio=0.25075, LR__penalty=l2;, score=0.829 total time=   0.0s\n",
      "[CV 2/5] END LR__C=3.00025, LR__l1_ratio=0.25075, LR__penalty=l2;, score=0.822 total time=   0.0s\n"
     ]
    },
    {
     "name": "stderr",
     "output_type": "stream",
     "text": [
      "C:\\Users\\admin\\anaconda3\\lib\\site-packages\\sklearn\\linear_model\\_logistic.py:1476: UserWarning: l1_ratio parameter is only used when penalty is 'elasticnet'. Got (penalty=l2)\n",
      "  warnings.warn(\n",
      "C:\\Users\\admin\\anaconda3\\lib\\site-packages\\sklearn\\linear_model\\_logistic.py:1476: UserWarning: l1_ratio parameter is only used when penalty is 'elasticnet'. Got (penalty=l2)\n",
      "  warnings.warn(\n",
      "C:\\Users\\admin\\anaconda3\\lib\\site-packages\\sklearn\\linear_model\\_logistic.py:1476: UserWarning: l1_ratio parameter is only used when penalty is 'elasticnet'. Got (penalty=l2)\n",
      "  warnings.warn(\n"
     ]
    },
    {
     "name": "stdout",
     "output_type": "stream",
     "text": [
      "[CV 3/5] END LR__C=3.00025, LR__l1_ratio=0.25075, LR__penalty=l2;, score=0.816 total time=   0.0s\n",
      "[CV 4/5] END LR__C=3.00025, LR__l1_ratio=0.25075, LR__penalty=l2;, score=0.812 total time=   0.0s\n",
      "[CV 5/5] END LR__C=3.00025, LR__l1_ratio=0.25075, LR__penalty=l2;, score=0.820 total time=   0.0s\n",
      "[CV 1/5] END LR__C=3.00025, LR__l1_ratio=0.25075, LR__penalty=elasticnet;, score=0.829 total time=   0.0s\n",
      "[CV 2/5] END LR__C=3.00025, LR__l1_ratio=0.25075, LR__penalty=elasticnet;, score=0.822 total time=   0.0s\n",
      "[CV 3/5] END LR__C=3.00025, LR__l1_ratio=0.25075, LR__penalty=elasticnet;, score=0.816 total time=   0.0s\n",
      "[CV 4/5] END LR__C=3.00025, LR__l1_ratio=0.25075, LR__penalty=elasticnet;, score=0.812 total time=   0.0s\n",
      "[CV 5/5] END LR__C=3.00025, LR__l1_ratio=0.25075, LR__penalty=elasticnet;, score=0.820 total time=   0.0s\n",
      "[CV 1/5] END LR__C=3.00025, LR__l1_ratio=0.25075, LR__penalty=None;, score=nan total time=   0.0s\n",
      "[CV 2/5] END LR__C=3.00025, LR__l1_ratio=0.25075, LR__penalty=None;, score=nan total time=   0.0s\n",
      "[CV 3/5] END LR__C=3.00025, LR__l1_ratio=0.25075, LR__penalty=None;, score=nan total time=   0.0s\n",
      "[CV 4/5] END LR__C=3.00025, LR__l1_ratio=0.25075, LR__penalty=None;, score=nan total time=   0.0s\n",
      "[CV 5/5] END LR__C=3.00025, LR__l1_ratio=0.25075, LR__penalty=None;, score=nan total time=   0.0s\n",
      "[CV 1/5] END LR__C=3.00025, LR__l1_ratio=0.5005, LR__penalty=l1;, score=0.829 total time=   0.0s\n"
     ]
    },
    {
     "name": "stderr",
     "output_type": "stream",
     "text": [
      "C:\\Users\\admin\\anaconda3\\lib\\site-packages\\sklearn\\linear_model\\_logistic.py:1476: UserWarning: l1_ratio parameter is only used when penalty is 'elasticnet'. Got (penalty=l1)\n",
      "  warnings.warn(\n",
      "C:\\Users\\admin\\anaconda3\\lib\\site-packages\\sklearn\\linear_model\\_logistic.py:1476: UserWarning: l1_ratio parameter is only used when penalty is 'elasticnet'. Got (penalty=l1)\n",
      "  warnings.warn(\n"
     ]
    },
    {
     "name": "stdout",
     "output_type": "stream",
     "text": [
      "[CV 2/5] END LR__C=3.00025, LR__l1_ratio=0.5005, LR__penalty=l1;, score=0.822 total time=   0.0s\n",
      "[CV 3/5] END LR__C=3.00025, LR__l1_ratio=0.5005, LR__penalty=l1;, score=0.816 total time=   0.0s\n",
      "[CV 4/5] END LR__C=3.00025, LR__l1_ratio=0.5005, LR__penalty=l1;, score=0.812 total time=   0.0s\n"
     ]
    },
    {
     "name": "stderr",
     "output_type": "stream",
     "text": [
      "C:\\Users\\admin\\anaconda3\\lib\\site-packages\\sklearn\\linear_model\\_logistic.py:1476: UserWarning: l1_ratio parameter is only used when penalty is 'elasticnet'. Got (penalty=l1)\n",
      "  warnings.warn(\n",
      "C:\\Users\\admin\\anaconda3\\lib\\site-packages\\sklearn\\linear_model\\_logistic.py:1476: UserWarning: l1_ratio parameter is only used when penalty is 'elasticnet'. Got (penalty=l1)\n",
      "  warnings.warn(\n",
      "C:\\Users\\admin\\anaconda3\\lib\\site-packages\\sklearn\\linear_model\\_logistic.py:1476: UserWarning: l1_ratio parameter is only used when penalty is 'elasticnet'. Got (penalty=l1)\n",
      "  warnings.warn(\n",
      "C:\\Users\\admin\\anaconda3\\lib\\site-packages\\sklearn\\linear_model\\_logistic.py:1476: UserWarning: l1_ratio parameter is only used when penalty is 'elasticnet'. Got (penalty=l2)\n",
      "  warnings.warn(\n",
      "C:\\Users\\admin\\anaconda3\\lib\\site-packages\\sklearn\\linear_model\\_logistic.py:1476: UserWarning: l1_ratio parameter is only used when penalty is 'elasticnet'. Got (penalty=l2)\n",
      "  warnings.warn(\n"
     ]
    },
    {
     "name": "stdout",
     "output_type": "stream",
     "text": [
      "[CV 5/5] END LR__C=3.00025, LR__l1_ratio=0.5005, LR__penalty=l1;, score=0.820 total time=   0.0s\n",
      "[CV 1/5] END LR__C=3.00025, LR__l1_ratio=0.5005, LR__penalty=l2;, score=0.829 total time=   0.0s\n",
      "[CV 2/5] END LR__C=3.00025, LR__l1_ratio=0.5005, LR__penalty=l2;, score=0.822 total time=   0.0s\n"
     ]
    },
    {
     "name": "stderr",
     "output_type": "stream",
     "text": [
      "C:\\Users\\admin\\anaconda3\\lib\\site-packages\\sklearn\\linear_model\\_logistic.py:1476: UserWarning: l1_ratio parameter is only used when penalty is 'elasticnet'. Got (penalty=l2)\n",
      "  warnings.warn(\n",
      "C:\\Users\\admin\\anaconda3\\lib\\site-packages\\sklearn\\linear_model\\_logistic.py:1476: UserWarning: l1_ratio parameter is only used when penalty is 'elasticnet'. Got (penalty=l2)\n",
      "  warnings.warn(\n",
      "C:\\Users\\admin\\anaconda3\\lib\\site-packages\\sklearn\\linear_model\\_logistic.py:1476: UserWarning: l1_ratio parameter is only used when penalty is 'elasticnet'. Got (penalty=l2)\n",
      "  warnings.warn(\n"
     ]
    },
    {
     "name": "stdout",
     "output_type": "stream",
     "text": [
      "[CV 3/5] END LR__C=3.00025, LR__l1_ratio=0.5005, LR__penalty=l2;, score=0.816 total time=   0.0s\n",
      "[CV 4/5] END LR__C=3.00025, LR__l1_ratio=0.5005, LR__penalty=l2;, score=0.812 total time=   0.0s\n",
      "[CV 5/5] END LR__C=3.00025, LR__l1_ratio=0.5005, LR__penalty=l2;, score=0.820 total time=   0.0s\n",
      "[CV 1/5] END LR__C=3.00025, LR__l1_ratio=0.5005, LR__penalty=elasticnet;, score=0.829 total time=   0.0s\n",
      "[CV 2/5] END LR__C=3.00025, LR__l1_ratio=0.5005, LR__penalty=elasticnet;, score=0.822 total time=   0.0s\n",
      "[CV 3/5] END LR__C=3.00025, LR__l1_ratio=0.5005, LR__penalty=elasticnet;, score=0.816 total time=   0.0s\n",
      "[CV 4/5] END LR__C=3.00025, LR__l1_ratio=0.5005, LR__penalty=elasticnet;, score=0.812 total time=   0.0s\n",
      "[CV 5/5] END LR__C=3.00025, LR__l1_ratio=0.5005, LR__penalty=elasticnet;, score=0.820 total time=   0.0s\n",
      "[CV 1/5] END LR__C=3.00025, LR__l1_ratio=0.5005, LR__penalty=None;, score=nan total time=   0.0s\n",
      "[CV 2/5] END LR__C=3.00025, LR__l1_ratio=0.5005, LR__penalty=None;, score=nan total time=   0.0s\n",
      "[CV 3/5] END LR__C=3.00025, LR__l1_ratio=0.5005, LR__penalty=None;, score=nan total time=   0.0s\n",
      "[CV 4/5] END LR__C=3.00025, LR__l1_ratio=0.5005, LR__penalty=None;, score=nan total time=   0.0s\n",
      "[CV 5/5] END LR__C=3.00025, LR__l1_ratio=0.5005, LR__penalty=None;, score=nan total time=   0.0s\n",
      "[CV 1/5] END LR__C=3.00025, LR__l1_ratio=0.75025, LR__penalty=l1;, score=0.829 total time=   0.0s\n"
     ]
    },
    {
     "name": "stderr",
     "output_type": "stream",
     "text": [
      "C:\\Users\\admin\\anaconda3\\lib\\site-packages\\sklearn\\linear_model\\_logistic.py:1476: UserWarning: l1_ratio parameter is only used when penalty is 'elasticnet'. Got (penalty=l1)\n",
      "  warnings.warn(\n",
      "C:\\Users\\admin\\anaconda3\\lib\\site-packages\\sklearn\\linear_model\\_logistic.py:1476: UserWarning: l1_ratio parameter is only used when penalty is 'elasticnet'. Got (penalty=l1)\n",
      "  warnings.warn(\n"
     ]
    },
    {
     "name": "stdout",
     "output_type": "stream",
     "text": [
      "[CV 2/5] END LR__C=3.00025, LR__l1_ratio=0.75025, LR__penalty=l1;, score=0.822 total time=   0.0s\n",
      "[CV 3/5] END LR__C=3.00025, LR__l1_ratio=0.75025, LR__penalty=l1;, score=0.816 total time=   0.0s\n"
     ]
    },
    {
     "name": "stderr",
     "output_type": "stream",
     "text": [
      "C:\\Users\\admin\\anaconda3\\lib\\site-packages\\sklearn\\linear_model\\_logistic.py:1476: UserWarning: l1_ratio parameter is only used when penalty is 'elasticnet'. Got (penalty=l1)\n",
      "  warnings.warn(\n",
      "C:\\Users\\admin\\anaconda3\\lib\\site-packages\\sklearn\\linear_model\\_logistic.py:1476: UserWarning: l1_ratio parameter is only used when penalty is 'elasticnet'. Got (penalty=l1)\n",
      "  warnings.warn(\n"
     ]
    },
    {
     "name": "stdout",
     "output_type": "stream",
     "text": [
      "[CV 4/5] END LR__C=3.00025, LR__l1_ratio=0.75025, LR__penalty=l1;, score=0.812 total time=   0.0s\n",
      "[CV 5/5] END LR__C=3.00025, LR__l1_ratio=0.75025, LR__penalty=l1;, score=0.820 total time=   0.0s\n"
     ]
    },
    {
     "name": "stderr",
     "output_type": "stream",
     "text": [
      "C:\\Users\\admin\\anaconda3\\lib\\site-packages\\sklearn\\linear_model\\_logistic.py:1476: UserWarning: l1_ratio parameter is only used when penalty is 'elasticnet'. Got (penalty=l1)\n",
      "  warnings.warn(\n",
      "C:\\Users\\admin\\anaconda3\\lib\\site-packages\\sklearn\\linear_model\\_logistic.py:1476: UserWarning: l1_ratio parameter is only used when penalty is 'elasticnet'. Got (penalty=l2)\n",
      "  warnings.warn(\n"
     ]
    },
    {
     "name": "stdout",
     "output_type": "stream",
     "text": [
      "[CV 1/5] END LR__C=3.00025, LR__l1_ratio=0.75025, LR__penalty=l2;, score=0.829 total time=   0.0s\n",
      "[CV 2/5] END LR__C=3.00025, LR__l1_ratio=0.75025, LR__penalty=l2;, score=0.822 total time=   0.0s\n",
      "[CV 3/5] END LR__C=3.00025, LR__l1_ratio=0.75025, LR__penalty=l2;, score=0.816 total time=   0.0s\n"
     ]
    },
    {
     "name": "stderr",
     "output_type": "stream",
     "text": [
      "C:\\Users\\admin\\anaconda3\\lib\\site-packages\\sklearn\\linear_model\\_logistic.py:1476: UserWarning: l1_ratio parameter is only used when penalty is 'elasticnet'. Got (penalty=l2)\n",
      "  warnings.warn(\n",
      "C:\\Users\\admin\\anaconda3\\lib\\site-packages\\sklearn\\linear_model\\_logistic.py:1476: UserWarning: l1_ratio parameter is only used when penalty is 'elasticnet'. Got (penalty=l2)\n",
      "  warnings.warn(\n",
      "C:\\Users\\admin\\anaconda3\\lib\\site-packages\\sklearn\\linear_model\\_logistic.py:1476: UserWarning: l1_ratio parameter is only used when penalty is 'elasticnet'. Got (penalty=l2)\n",
      "  warnings.warn(\n"
     ]
    },
    {
     "name": "stdout",
     "output_type": "stream",
     "text": [
      "[CV 4/5] END LR__C=3.00025, LR__l1_ratio=0.75025, LR__penalty=l2;, score=0.812 total time=   0.0s\n",
      "[CV 5/5] END LR__C=3.00025, LR__l1_ratio=0.75025, LR__penalty=l2;, score=0.820 total time=   0.0s\n",
      "[CV 1/5] END LR__C=3.00025, LR__l1_ratio=0.75025, LR__penalty=elasticnet;, score=0.829 total time=   0.0s\n"
     ]
    },
    {
     "name": "stderr",
     "output_type": "stream",
     "text": [
      "C:\\Users\\admin\\anaconda3\\lib\\site-packages\\sklearn\\linear_model\\_logistic.py:1476: UserWarning: l1_ratio parameter is only used when penalty is 'elasticnet'. Got (penalty=l2)\n",
      "  warnings.warn(\n"
     ]
    },
    {
     "name": "stdout",
     "output_type": "stream",
     "text": [
      "[CV 2/5] END LR__C=3.00025, LR__l1_ratio=0.75025, LR__penalty=elasticnet;, score=0.822 total time=   0.0s\n",
      "[CV 3/5] END LR__C=3.00025, LR__l1_ratio=0.75025, LR__penalty=elasticnet;, score=0.816 total time=   0.0s\n",
      "[CV 4/5] END LR__C=3.00025, LR__l1_ratio=0.75025, LR__penalty=elasticnet;, score=0.812 total time=   0.0s\n",
      "[CV 5/5] END LR__C=3.00025, LR__l1_ratio=0.75025, LR__penalty=elasticnet;, score=0.820 total time=   0.0s\n",
      "[CV 1/5] END LR__C=3.00025, LR__l1_ratio=0.75025, LR__penalty=None;, score=nan total time=   0.0s\n",
      "[CV 2/5] END LR__C=3.00025, LR__l1_ratio=0.75025, LR__penalty=None;, score=nan total time=   0.0s\n",
      "[CV 3/5] END LR__C=3.00025, LR__l1_ratio=0.75025, LR__penalty=None;, score=nan total time=   0.0s\n",
      "[CV 4/5] END LR__C=3.00025, LR__l1_ratio=0.75025, LR__penalty=None;, score=nan total time=   0.0s\n",
      "[CV 5/5] END LR__C=3.00025, LR__l1_ratio=0.75025, LR__penalty=None;, score=nan total time=   0.0s\n"
     ]
    },
    {
     "name": "stderr",
     "output_type": "stream",
     "text": [
      "C:\\Users\\admin\\anaconda3\\lib\\site-packages\\sklearn\\linear_model\\_logistic.py:1476: UserWarning: l1_ratio parameter is only used when penalty is 'elasticnet'. Got (penalty=l1)\n",
      "  warnings.warn(\n",
      "C:\\Users\\admin\\anaconda3\\lib\\site-packages\\sklearn\\linear_model\\_logistic.py:1476: UserWarning: l1_ratio parameter is only used when penalty is 'elasticnet'. Got (penalty=l1)\n",
      "  warnings.warn(\n"
     ]
    },
    {
     "name": "stdout",
     "output_type": "stream",
     "text": [
      "[CV 1/5] END LR__C=3.00025, LR__l1_ratio=1.0, LR__penalty=l1;, score=0.829 total time=   0.0s\n",
      "[CV 2/5] END LR__C=3.00025, LR__l1_ratio=1.0, LR__penalty=l1;, score=0.822 total time=   0.0s\n",
      "[CV 3/5] END LR__C=3.00025, LR__l1_ratio=1.0, LR__penalty=l1;, score=0.816 total time=   0.0s\n"
     ]
    },
    {
     "name": "stderr",
     "output_type": "stream",
     "text": [
      "C:\\Users\\admin\\anaconda3\\lib\\site-packages\\sklearn\\linear_model\\_logistic.py:1476: UserWarning: l1_ratio parameter is only used when penalty is 'elasticnet'. Got (penalty=l1)\n",
      "  warnings.warn(\n",
      "C:\\Users\\admin\\anaconda3\\lib\\site-packages\\sklearn\\linear_model\\_logistic.py:1476: UserWarning: l1_ratio parameter is only used when penalty is 'elasticnet'. Got (penalty=l1)\n",
      "  warnings.warn(\n"
     ]
    },
    {
     "name": "stdout",
     "output_type": "stream",
     "text": [
      "[CV 4/5] END LR__C=3.00025, LR__l1_ratio=1.0, LR__penalty=l1;, score=0.812 total time=   0.0s\n",
      "[CV 5/5] END LR__C=3.00025, LR__l1_ratio=1.0, LR__penalty=l1;, score=0.820 total time=   0.0s\n",
      "[CV 1/5] END LR__C=3.00025, LR__l1_ratio=1.0, LR__penalty=l2;, score=0.829 total time=   0.0s\n"
     ]
    },
    {
     "name": "stderr",
     "output_type": "stream",
     "text": [
      "C:\\Users\\admin\\anaconda3\\lib\\site-packages\\sklearn\\linear_model\\_logistic.py:1476: UserWarning: l1_ratio parameter is only used when penalty is 'elasticnet'. Got (penalty=l1)\n",
      "  warnings.warn(\n",
      "C:\\Users\\admin\\anaconda3\\lib\\site-packages\\sklearn\\linear_model\\_logistic.py:1476: UserWarning: l1_ratio parameter is only used when penalty is 'elasticnet'. Got (penalty=l2)\n",
      "  warnings.warn(\n",
      "C:\\Users\\admin\\anaconda3\\lib\\site-packages\\sklearn\\linear_model\\_logistic.py:1476: UserWarning: l1_ratio parameter is only used when penalty is 'elasticnet'. Got (penalty=l2)\n",
      "  warnings.warn(\n"
     ]
    },
    {
     "name": "stdout",
     "output_type": "stream",
     "text": [
      "[CV 2/5] END LR__C=3.00025, LR__l1_ratio=1.0, LR__penalty=l2;, score=0.822 total time=   0.0s\n",
      "[CV 3/5] END LR__C=3.00025, LR__l1_ratio=1.0, LR__penalty=l2;, score=0.816 total time=   0.0s\n",
      "[CV 4/5] END LR__C=3.00025, LR__l1_ratio=1.0, LR__penalty=l2;, score=0.812 total time=   0.0s\n"
     ]
    },
    {
     "name": "stderr",
     "output_type": "stream",
     "text": [
      "C:\\Users\\admin\\anaconda3\\lib\\site-packages\\sklearn\\linear_model\\_logistic.py:1476: UserWarning: l1_ratio parameter is only used when penalty is 'elasticnet'. Got (penalty=l2)\n",
      "  warnings.warn(\n",
      "C:\\Users\\admin\\anaconda3\\lib\\site-packages\\sklearn\\linear_model\\_logistic.py:1476: UserWarning: l1_ratio parameter is only used when penalty is 'elasticnet'. Got (penalty=l2)\n",
      "  warnings.warn(\n",
      "C:\\Users\\admin\\anaconda3\\lib\\site-packages\\sklearn\\linear_model\\_logistic.py:1476: UserWarning: l1_ratio parameter is only used when penalty is 'elasticnet'. Got (penalty=l2)\n",
      "  warnings.warn(\n"
     ]
    },
    {
     "name": "stdout",
     "output_type": "stream",
     "text": [
      "[CV 5/5] END LR__C=3.00025, LR__l1_ratio=1.0, LR__penalty=l2;, score=0.820 total time=   0.0s\n",
      "[CV 1/5] END LR__C=3.00025, LR__l1_ratio=1.0, LR__penalty=elasticnet;, score=0.829 total time=   0.0s\n",
      "[CV 2/5] END LR__C=3.00025, LR__l1_ratio=1.0, LR__penalty=elasticnet;, score=0.822 total time=   0.0s\n",
      "[CV 3/5] END LR__C=3.00025, LR__l1_ratio=1.0, LR__penalty=elasticnet;, score=0.816 total time=   0.0s\n",
      "[CV 4/5] END LR__C=3.00025, LR__l1_ratio=1.0, LR__penalty=elasticnet;, score=0.812 total time=   0.0s\n",
      "[CV 5/5] END LR__C=3.00025, LR__l1_ratio=1.0, LR__penalty=elasticnet;, score=0.820 total time=   0.0s\n",
      "[CV 1/5] END LR__C=3.00025, LR__l1_ratio=1.0, LR__penalty=None;, score=nan total time=   0.0s\n",
      "[CV 2/5] END LR__C=3.00025, LR__l1_ratio=1.0, LR__penalty=None;, score=nan total time=   0.0s\n",
      "[CV 3/5] END LR__C=3.00025, LR__l1_ratio=1.0, LR__penalty=None;, score=nan total time=   0.0s\n",
      "[CV 4/5] END LR__C=3.00025, LR__l1_ratio=1.0, LR__penalty=None;, score=nan total time=   0.0s\n",
      "[CV 5/5] END LR__C=3.00025, LR__l1_ratio=1.0, LR__penalty=None;, score=nan total time=   0.0s\n",
      "[CV 1/5] END LR__C=4.0, LR__l1_ratio=0.001, LR__penalty=l1;, score=0.829 total time=   0.0s\n"
     ]
    },
    {
     "name": "stderr",
     "output_type": "stream",
     "text": [
      "C:\\Users\\admin\\anaconda3\\lib\\site-packages\\sklearn\\linear_model\\_logistic.py:1476: UserWarning: l1_ratio parameter is only used when penalty is 'elasticnet'. Got (penalty=l1)\n",
      "  warnings.warn(\n",
      "C:\\Users\\admin\\anaconda3\\lib\\site-packages\\sklearn\\linear_model\\_logistic.py:1476: UserWarning: l1_ratio parameter is only used when penalty is 'elasticnet'. Got (penalty=l1)\n",
      "  warnings.warn(\n",
      "C:\\Users\\admin\\anaconda3\\lib\\site-packages\\sklearn\\linear_model\\_logistic.py:1476: UserWarning: l1_ratio parameter is only used when penalty is 'elasticnet'. Got (penalty=l1)\n",
      "  warnings.warn(\n"
     ]
    },
    {
     "name": "stdout",
     "output_type": "stream",
     "text": [
      "[CV 2/5] END LR__C=4.0, LR__l1_ratio=0.001, LR__penalty=l1;, score=0.822 total time=   0.0s\n",
      "[CV 3/5] END LR__C=4.0, LR__l1_ratio=0.001, LR__penalty=l1;, score=0.816 total time=   0.0s\n",
      "[CV 4/5] END LR__C=4.0, LR__l1_ratio=0.001, LR__penalty=l1;, score=0.812 total time=   0.0s\n"
     ]
    },
    {
     "name": "stderr",
     "output_type": "stream",
     "text": [
      "C:\\Users\\admin\\anaconda3\\lib\\site-packages\\sklearn\\linear_model\\_logistic.py:1476: UserWarning: l1_ratio parameter is only used when penalty is 'elasticnet'. Got (penalty=l1)\n",
      "  warnings.warn(\n",
      "C:\\Users\\admin\\anaconda3\\lib\\site-packages\\sklearn\\linear_model\\_logistic.py:1476: UserWarning: l1_ratio parameter is only used when penalty is 'elasticnet'. Got (penalty=l1)\n",
      "  warnings.warn(\n"
     ]
    },
    {
     "name": "stdout",
     "output_type": "stream",
     "text": [
      "[CV 5/5] END LR__C=4.0, LR__l1_ratio=0.001, LR__penalty=l1;, score=0.820 total time=   0.0s\n",
      "[CV 1/5] END LR__C=4.0, LR__l1_ratio=0.001, LR__penalty=l2;, score=0.829 total time=   0.0s\n",
      "[CV 2/5] END LR__C=4.0, LR__l1_ratio=0.001, LR__penalty=l2;, score=0.822 total time=   0.0s\n"
     ]
    },
    {
     "name": "stderr",
     "output_type": "stream",
     "text": [
      "C:\\Users\\admin\\anaconda3\\lib\\site-packages\\sklearn\\linear_model\\_logistic.py:1476: UserWarning: l1_ratio parameter is only used when penalty is 'elasticnet'. Got (penalty=l2)\n",
      "  warnings.warn(\n",
      "C:\\Users\\admin\\anaconda3\\lib\\site-packages\\sklearn\\linear_model\\_logistic.py:1476: UserWarning: l1_ratio parameter is only used when penalty is 'elasticnet'. Got (penalty=l2)\n",
      "  warnings.warn(\n",
      "C:\\Users\\admin\\anaconda3\\lib\\site-packages\\sklearn\\linear_model\\_logistic.py:1476: UserWarning: l1_ratio parameter is only used when penalty is 'elasticnet'. Got (penalty=l2)\n",
      "  warnings.warn(\n"
     ]
    },
    {
     "name": "stdout",
     "output_type": "stream",
     "text": [
      "[CV 3/5] END LR__C=4.0, LR__l1_ratio=0.001, LR__penalty=l2;, score=0.816 total time=   0.0s\n",
      "[CV 4/5] END LR__C=4.0, LR__l1_ratio=0.001, LR__penalty=l2;, score=0.812 total time=   0.0s\n",
      "[CV 5/5] END LR__C=4.0, LR__l1_ratio=0.001, LR__penalty=l2;, score=0.820 total time=   0.0s\n"
     ]
    },
    {
     "name": "stderr",
     "output_type": "stream",
     "text": [
      "C:\\Users\\admin\\anaconda3\\lib\\site-packages\\sklearn\\linear_model\\_logistic.py:1476: UserWarning: l1_ratio parameter is only used when penalty is 'elasticnet'. Got (penalty=l2)\n",
      "  warnings.warn(\n",
      "C:\\Users\\admin\\anaconda3\\lib\\site-packages\\sklearn\\linear_model\\_logistic.py:1476: UserWarning: l1_ratio parameter is only used when penalty is 'elasticnet'. Got (penalty=l2)\n",
      "  warnings.warn(\n"
     ]
    },
    {
     "name": "stdout",
     "output_type": "stream",
     "text": [
      "[CV 1/5] END LR__C=4.0, LR__l1_ratio=0.001, LR__penalty=elasticnet;, score=0.829 total time=   0.0s\n",
      "[CV 2/5] END LR__C=4.0, LR__l1_ratio=0.001, LR__penalty=elasticnet;, score=0.822 total time=   0.0s\n",
      "[CV 3/5] END LR__C=4.0, LR__l1_ratio=0.001, LR__penalty=elasticnet;, score=0.816 total time=   0.0s\n",
      "[CV 4/5] END LR__C=4.0, LR__l1_ratio=0.001, LR__penalty=elasticnet;, score=0.812 total time=   0.0s\n",
      "[CV 5/5] END LR__C=4.0, LR__l1_ratio=0.001, LR__penalty=elasticnet;, score=0.820 total time=   0.0s\n",
      "[CV 1/5] END LR__C=4.0, LR__l1_ratio=0.001, LR__penalty=None;, score=nan total time=   0.0s\n",
      "[CV 2/5] END LR__C=4.0, LR__l1_ratio=0.001, LR__penalty=None;, score=nan total time=   0.0s\n",
      "[CV 3/5] END LR__C=4.0, LR__l1_ratio=0.001, LR__penalty=None;, score=nan total time=   0.0s\n",
      "[CV 4/5] END LR__C=4.0, LR__l1_ratio=0.001, LR__penalty=None;, score=nan total time=   0.0s\n",
      "[CV 5/5] END LR__C=4.0, LR__l1_ratio=0.001, LR__penalty=None;, score=nan total time=   0.0s\n",
      "[CV 1/5] END LR__C=4.0, LR__l1_ratio=0.25075, LR__penalty=l1;, score=0.829 total time=   0.0s\n"
     ]
    },
    {
     "name": "stderr",
     "output_type": "stream",
     "text": [
      "C:\\Users\\admin\\anaconda3\\lib\\site-packages\\sklearn\\linear_model\\_logistic.py:1476: UserWarning: l1_ratio parameter is only used when penalty is 'elasticnet'. Got (penalty=l1)\n",
      "  warnings.warn(\n",
      "C:\\Users\\admin\\anaconda3\\lib\\site-packages\\sklearn\\linear_model\\_logistic.py:1476: UserWarning: l1_ratio parameter is only used when penalty is 'elasticnet'. Got (penalty=l1)\n",
      "  warnings.warn(\n"
     ]
    },
    {
     "name": "stdout",
     "output_type": "stream",
     "text": [
      "[CV 2/5] END LR__C=4.0, LR__l1_ratio=0.25075, LR__penalty=l1;, score=0.822 total time=   0.0s\n",
      "[CV 3/5] END LR__C=4.0, LR__l1_ratio=0.25075, LR__penalty=l1;, score=0.816 total time=   0.0s\n"
     ]
    },
    {
     "name": "stderr",
     "output_type": "stream",
     "text": [
      "C:\\Users\\admin\\anaconda3\\lib\\site-packages\\sklearn\\linear_model\\_logistic.py:1476: UserWarning: l1_ratio parameter is only used when penalty is 'elasticnet'. Got (penalty=l1)\n",
      "  warnings.warn(\n",
      "C:\\Users\\admin\\anaconda3\\lib\\site-packages\\sklearn\\linear_model\\_logistic.py:1476: UserWarning: l1_ratio parameter is only used when penalty is 'elasticnet'. Got (penalty=l1)\n",
      "  warnings.warn(\n"
     ]
    },
    {
     "name": "stdout",
     "output_type": "stream",
     "text": [
      "[CV 4/5] END LR__C=4.0, LR__l1_ratio=0.25075, LR__penalty=l1;, score=0.812 total time=   0.0s\n",
      "[CV 5/5] END LR__C=4.0, LR__l1_ratio=0.25075, LR__penalty=l1;, score=0.820 total time=   0.0s\n",
      "[CV 1/5] END LR__C=4.0, LR__l1_ratio=0.25075, LR__penalty=l2;, score=0.829 total time=   0.0s\n"
     ]
    },
    {
     "name": "stderr",
     "output_type": "stream",
     "text": [
      "C:\\Users\\admin\\anaconda3\\lib\\site-packages\\sklearn\\linear_model\\_logistic.py:1476: UserWarning: l1_ratio parameter is only used when penalty is 'elasticnet'. Got (penalty=l1)\n",
      "  warnings.warn(\n",
      "C:\\Users\\admin\\anaconda3\\lib\\site-packages\\sklearn\\linear_model\\_logistic.py:1476: UserWarning: l1_ratio parameter is only used when penalty is 'elasticnet'. Got (penalty=l2)\n",
      "  warnings.warn(\n",
      "C:\\Users\\admin\\anaconda3\\lib\\site-packages\\sklearn\\linear_model\\_logistic.py:1476: UserWarning: l1_ratio parameter is only used when penalty is 'elasticnet'. Got (penalty=l2)\n",
      "  warnings.warn(\n"
     ]
    },
    {
     "name": "stdout",
     "output_type": "stream",
     "text": [
      "[CV 2/5] END LR__C=4.0, LR__l1_ratio=0.25075, LR__penalty=l2;, score=0.822 total time=   0.0s\n",
      "[CV 3/5] END LR__C=4.0, LR__l1_ratio=0.25075, LR__penalty=l2;, score=0.816 total time=   0.0s\n",
      "[CV 4/5] END LR__C=4.0, LR__l1_ratio=0.25075, LR__penalty=l2;, score=0.812 total time=   0.0s\n"
     ]
    },
    {
     "name": "stderr",
     "output_type": "stream",
     "text": [
      "C:\\Users\\admin\\anaconda3\\lib\\site-packages\\sklearn\\linear_model\\_logistic.py:1476: UserWarning: l1_ratio parameter is only used when penalty is 'elasticnet'. Got (penalty=l2)\n",
      "  warnings.warn(\n",
      "C:\\Users\\admin\\anaconda3\\lib\\site-packages\\sklearn\\linear_model\\_logistic.py:1476: UserWarning: l1_ratio parameter is only used when penalty is 'elasticnet'. Got (penalty=l2)\n",
      "  warnings.warn(\n",
      "C:\\Users\\admin\\anaconda3\\lib\\site-packages\\sklearn\\linear_model\\_logistic.py:1476: UserWarning: l1_ratio parameter is only used when penalty is 'elasticnet'. Got (penalty=l2)\n",
      "  warnings.warn(\n"
     ]
    },
    {
     "name": "stdout",
     "output_type": "stream",
     "text": [
      "[CV 5/5] END LR__C=4.0, LR__l1_ratio=0.25075, LR__penalty=l2;, score=0.820 total time=   0.0s\n",
      "[CV 1/5] END LR__C=4.0, LR__l1_ratio=0.25075, LR__penalty=elasticnet;, score=0.829 total time=   0.0s\n",
      "[CV 2/5] END LR__C=4.0, LR__l1_ratio=0.25075, LR__penalty=elasticnet;, score=0.822 total time=   0.0s\n",
      "[CV 3/5] END LR__C=4.0, LR__l1_ratio=0.25075, LR__penalty=elasticnet;, score=0.816 total time=   0.0s\n",
      "[CV 4/5] END LR__C=4.0, LR__l1_ratio=0.25075, LR__penalty=elasticnet;, score=0.812 total time=   0.0s\n",
      "[CV 5/5] END LR__C=4.0, LR__l1_ratio=0.25075, LR__penalty=elasticnet;, score=0.820 total time=   0.0s\n",
      "[CV 1/5] END LR__C=4.0, LR__l1_ratio=0.25075, LR__penalty=None;, score=nan total time=   0.0s\n",
      "[CV 2/5] END LR__C=4.0, LR__l1_ratio=0.25075, LR__penalty=None;, score=nan total time=   0.0s\n",
      "[CV 3/5] END LR__C=4.0, LR__l1_ratio=0.25075, LR__penalty=None;, score=nan total time=   0.0s\n",
      "[CV 4/5] END LR__C=4.0, LR__l1_ratio=0.25075, LR__penalty=None;, score=nan total time=   0.0s\n",
      "[CV 5/5] END LR__C=4.0, LR__l1_ratio=0.25075, LR__penalty=None;, score=nan total time=   0.0s\n"
     ]
    },
    {
     "name": "stderr",
     "output_type": "stream",
     "text": [
      "C:\\Users\\admin\\anaconda3\\lib\\site-packages\\sklearn\\linear_model\\_logistic.py:1476: UserWarning: l1_ratio parameter is only used when penalty is 'elasticnet'. Got (penalty=l1)\n",
      "  warnings.warn(\n",
      "C:\\Users\\admin\\anaconda3\\lib\\site-packages\\sklearn\\linear_model\\_logistic.py:1476: UserWarning: l1_ratio parameter is only used when penalty is 'elasticnet'. Got (penalty=l1)\n",
      "  warnings.warn(\n"
     ]
    },
    {
     "name": "stdout",
     "output_type": "stream",
     "text": [
      "[CV 1/5] END LR__C=4.0, LR__l1_ratio=0.5005, LR__penalty=l1;, score=0.829 total time=   0.0s\n",
      "[CV 2/5] END LR__C=4.0, LR__l1_ratio=0.5005, LR__penalty=l1;, score=0.822 total time=   0.0s\n"
     ]
    },
    {
     "name": "stderr",
     "output_type": "stream",
     "text": [
      "C:\\Users\\admin\\anaconda3\\lib\\site-packages\\sklearn\\linear_model\\_logistic.py:1476: UserWarning: l1_ratio parameter is only used when penalty is 'elasticnet'. Got (penalty=l1)\n",
      "  warnings.warn(\n",
      "C:\\Users\\admin\\anaconda3\\lib\\site-packages\\sklearn\\linear_model\\_logistic.py:1476: UserWarning: l1_ratio parameter is only used when penalty is 'elasticnet'. Got (penalty=l1)\n",
      "  warnings.warn(\n"
     ]
    },
    {
     "name": "stdout",
     "output_type": "stream",
     "text": [
      "[CV 3/5] END LR__C=4.0, LR__l1_ratio=0.5005, LR__penalty=l1;, score=0.816 total time=   0.0s\n",
      "[CV 4/5] END LR__C=4.0, LR__l1_ratio=0.5005, LR__penalty=l1;, score=0.812 total time=   0.0s\n",
      "[CV 5/5] END LR__C=4.0, LR__l1_ratio=0.5005, LR__penalty=l1;, score=0.820 total time=   0.0s\n"
     ]
    },
    {
     "name": "stderr",
     "output_type": "stream",
     "text": [
      "C:\\Users\\admin\\anaconda3\\lib\\site-packages\\sklearn\\linear_model\\_logistic.py:1476: UserWarning: l1_ratio parameter is only used when penalty is 'elasticnet'. Got (penalty=l1)\n",
      "  warnings.warn(\n",
      "C:\\Users\\admin\\anaconda3\\lib\\site-packages\\sklearn\\linear_model\\_logistic.py:1476: UserWarning: l1_ratio parameter is only used when penalty is 'elasticnet'. Got (penalty=l2)\n",
      "  warnings.warn(\n",
      "C:\\Users\\admin\\anaconda3\\lib\\site-packages\\sklearn\\linear_model\\_logistic.py:1476: UserWarning: l1_ratio parameter is only used when penalty is 'elasticnet'. Got (penalty=l2)\n",
      "  warnings.warn(\n"
     ]
    },
    {
     "name": "stdout",
     "output_type": "stream",
     "text": [
      "[CV 1/5] END LR__C=4.0, LR__l1_ratio=0.5005, LR__penalty=l2;, score=0.829 total time=   0.0s\n",
      "[CV 2/5] END LR__C=4.0, LR__l1_ratio=0.5005, LR__penalty=l2;, score=0.822 total time=   0.0s\n",
      "[CV 3/5] END LR__C=4.0, LR__l1_ratio=0.5005, LR__penalty=l2;, score=0.816 total time=   0.0s\n"
     ]
    },
    {
     "name": "stderr",
     "output_type": "stream",
     "text": [
      "C:\\Users\\admin\\anaconda3\\lib\\site-packages\\sklearn\\linear_model\\_logistic.py:1476: UserWarning: l1_ratio parameter is only used when penalty is 'elasticnet'. Got (penalty=l2)\n",
      "  warnings.warn(\n",
      "C:\\Users\\admin\\anaconda3\\lib\\site-packages\\sklearn\\linear_model\\_logistic.py:1476: UserWarning: l1_ratio parameter is only used when penalty is 'elasticnet'. Got (penalty=l2)\n",
      "  warnings.warn(\n",
      "C:\\Users\\admin\\anaconda3\\lib\\site-packages\\sklearn\\linear_model\\_logistic.py:1476: UserWarning: l1_ratio parameter is only used when penalty is 'elasticnet'. Got (penalty=l2)\n",
      "  warnings.warn(\n"
     ]
    },
    {
     "name": "stdout",
     "output_type": "stream",
     "text": [
      "[CV 4/5] END LR__C=4.0, LR__l1_ratio=0.5005, LR__penalty=l2;, score=0.812 total time=   0.0s\n",
      "[CV 5/5] END LR__C=4.0, LR__l1_ratio=0.5005, LR__penalty=l2;, score=0.820 total time=   0.0s\n",
      "[CV 1/5] END LR__C=4.0, LR__l1_ratio=0.5005, LR__penalty=elasticnet;, score=0.829 total time=   0.0s\n",
      "[CV 2/5] END LR__C=4.0, LR__l1_ratio=0.5005, LR__penalty=elasticnet;, score=0.822 total time=   0.0s\n",
      "[CV 3/5] END LR__C=4.0, LR__l1_ratio=0.5005, LR__penalty=elasticnet;, score=0.816 total time=   0.0s\n",
      "[CV 4/5] END LR__C=4.0, LR__l1_ratio=0.5005, LR__penalty=elasticnet;, score=0.812 total time=   0.0s\n",
      "[CV 5/5] END LR__C=4.0, LR__l1_ratio=0.5005, LR__penalty=elasticnet;, score=0.820 total time=   0.0s\n",
      "[CV 1/5] END LR__C=4.0, LR__l1_ratio=0.5005, LR__penalty=None;, score=nan total time=   0.0s\n",
      "[CV 2/5] END LR__C=4.0, LR__l1_ratio=0.5005, LR__penalty=None;, score=nan total time=   0.0s\n",
      "[CV 3/5] END LR__C=4.0, LR__l1_ratio=0.5005, LR__penalty=None;, score=nan total time=   0.0s\n",
      "[CV 4/5] END LR__C=4.0, LR__l1_ratio=0.5005, LR__penalty=None;, score=nan total time=   0.0s\n",
      "[CV 5/5] END LR__C=4.0, LR__l1_ratio=0.5005, LR__penalty=None;, score=nan total time=   0.0s\n"
     ]
    },
    {
     "name": "stderr",
     "output_type": "stream",
     "text": [
      "C:\\Users\\admin\\anaconda3\\lib\\site-packages\\sklearn\\linear_model\\_logistic.py:1476: UserWarning: l1_ratio parameter is only used when penalty is 'elasticnet'. Got (penalty=l1)\n",
      "  warnings.warn(\n",
      "C:\\Users\\admin\\anaconda3\\lib\\site-packages\\sklearn\\linear_model\\_logistic.py:1476: UserWarning: l1_ratio parameter is only used when penalty is 'elasticnet'. Got (penalty=l1)\n",
      "  warnings.warn(\n"
     ]
    },
    {
     "name": "stdout",
     "output_type": "stream",
     "text": [
      "[CV 1/5] END LR__C=4.0, LR__l1_ratio=0.75025, LR__penalty=l1;, score=0.829 total time=   0.0s\n",
      "[CV 2/5] END LR__C=4.0, LR__l1_ratio=0.75025, LR__penalty=l1;, score=0.822 total time=   0.0s\n"
     ]
    },
    {
     "name": "stderr",
     "output_type": "stream",
     "text": [
      "C:\\Users\\admin\\anaconda3\\lib\\site-packages\\sklearn\\linear_model\\_logistic.py:1476: UserWarning: l1_ratio parameter is only used when penalty is 'elasticnet'. Got (penalty=l1)\n",
      "  warnings.warn(\n",
      "C:\\Users\\admin\\anaconda3\\lib\\site-packages\\sklearn\\linear_model\\_logistic.py:1476: UserWarning: l1_ratio parameter is only used when penalty is 'elasticnet'. Got (penalty=l1)\n",
      "  warnings.warn(\n"
     ]
    },
    {
     "name": "stdout",
     "output_type": "stream",
     "text": [
      "[CV 3/5] END LR__C=4.0, LR__l1_ratio=0.75025, LR__penalty=l1;, score=0.816 total time=   0.0s\n",
      "[CV 4/5] END LR__C=4.0, LR__l1_ratio=0.75025, LR__penalty=l1;, score=0.812 total time=   0.0s\n"
     ]
    },
    {
     "name": "stderr",
     "output_type": "stream",
     "text": [
      "C:\\Users\\admin\\anaconda3\\lib\\site-packages\\sklearn\\linear_model\\_logistic.py:1476: UserWarning: l1_ratio parameter is only used when penalty is 'elasticnet'. Got (penalty=l1)\n",
      "  warnings.warn(\n",
      "C:\\Users\\admin\\anaconda3\\lib\\site-packages\\sklearn\\linear_model\\_logistic.py:1476: UserWarning: l1_ratio parameter is only used when penalty is 'elasticnet'. Got (penalty=l2)\n",
      "  warnings.warn(\n",
      "C:\\Users\\admin\\anaconda3\\lib\\site-packages\\sklearn\\linear_model\\_logistic.py:1476: UserWarning: l1_ratio parameter is only used when penalty is 'elasticnet'. Got (penalty=l2)\n",
      "  warnings.warn(\n"
     ]
    },
    {
     "name": "stdout",
     "output_type": "stream",
     "text": [
      "[CV 5/5] END LR__C=4.0, LR__l1_ratio=0.75025, LR__penalty=l1;, score=0.820 total time=   0.0s\n",
      "[CV 1/5] END LR__C=4.0, LR__l1_ratio=0.75025, LR__penalty=l2;, score=0.829 total time=   0.0s\n",
      "[CV 2/5] END LR__C=4.0, LR__l1_ratio=0.75025, LR__penalty=l2;, score=0.822 total time=   0.0s\n"
     ]
    },
    {
     "name": "stderr",
     "output_type": "stream",
     "text": [
      "C:\\Users\\admin\\anaconda3\\lib\\site-packages\\sklearn\\linear_model\\_logistic.py:1476: UserWarning: l1_ratio parameter is only used when penalty is 'elasticnet'. Got (penalty=l2)\n",
      "  warnings.warn(\n",
      "C:\\Users\\admin\\anaconda3\\lib\\site-packages\\sklearn\\linear_model\\_logistic.py:1476: UserWarning: l1_ratio parameter is only used when penalty is 'elasticnet'. Got (penalty=l2)\n",
      "  warnings.warn(\n",
      "C:\\Users\\admin\\anaconda3\\lib\\site-packages\\sklearn\\linear_model\\_logistic.py:1476: UserWarning: l1_ratio parameter is only used when penalty is 'elasticnet'. Got (penalty=l2)\n",
      "  warnings.warn(\n"
     ]
    },
    {
     "name": "stdout",
     "output_type": "stream",
     "text": [
      "[CV 3/5] END LR__C=4.0, LR__l1_ratio=0.75025, LR__penalty=l2;, score=0.816 total time=   0.0s\n",
      "[CV 4/5] END LR__C=4.0, LR__l1_ratio=0.75025, LR__penalty=l2;, score=0.812 total time=   0.0s\n",
      "[CV 5/5] END LR__C=4.0, LR__l1_ratio=0.75025, LR__penalty=l2;, score=0.820 total time=   0.0s\n",
      "[CV 1/5] END LR__C=4.0, LR__l1_ratio=0.75025, LR__penalty=elasticnet;, score=0.829 total time=   0.0s\n",
      "[CV 2/5] END LR__C=4.0, LR__l1_ratio=0.75025, LR__penalty=elasticnet;, score=0.822 total time=   0.0s\n",
      "[CV 3/5] END LR__C=4.0, LR__l1_ratio=0.75025, LR__penalty=elasticnet;, score=0.816 total time=   0.0s\n",
      "[CV 4/5] END LR__C=4.0, LR__l1_ratio=0.75025, LR__penalty=elasticnet;, score=0.812 total time=   0.0s\n",
      "[CV 5/5] END LR__C=4.0, LR__l1_ratio=0.75025, LR__penalty=elasticnet;, score=0.820 total time=   0.0s\n",
      "[CV 1/5] END LR__C=4.0, LR__l1_ratio=0.75025, LR__penalty=None;, score=nan total time=   0.0s\n",
      "[CV 2/5] END LR__C=4.0, LR__l1_ratio=0.75025, LR__penalty=None;, score=nan total time=   0.0s\n",
      "[CV 3/5] END LR__C=4.0, LR__l1_ratio=0.75025, LR__penalty=None;, score=nan total time=   0.0s\n",
      "[CV 4/5] END LR__C=4.0, LR__l1_ratio=0.75025, LR__penalty=None;, score=nan total time=   0.0s\n",
      "[CV 5/5] END LR__C=4.0, LR__l1_ratio=0.75025, LR__penalty=None;, score=nan total time=   0.0s\n",
      "[CV 1/5] END LR__C=4.0, LR__l1_ratio=1.0, LR__penalty=l1;, score=0.829 total time=   0.0s\n"
     ]
    },
    {
     "name": "stderr",
     "output_type": "stream",
     "text": [
      "C:\\Users\\admin\\anaconda3\\lib\\site-packages\\sklearn\\linear_model\\_logistic.py:1476: UserWarning: l1_ratio parameter is only used when penalty is 'elasticnet'. Got (penalty=l1)\n",
      "  warnings.warn(\n",
      "C:\\Users\\admin\\anaconda3\\lib\\site-packages\\sklearn\\linear_model\\_logistic.py:1476: UserWarning: l1_ratio parameter is only used when penalty is 'elasticnet'. Got (penalty=l1)\n",
      "  warnings.warn(\n"
     ]
    },
    {
     "name": "stdout",
     "output_type": "stream",
     "text": [
      "[CV 2/5] END LR__C=4.0, LR__l1_ratio=1.0, LR__penalty=l1;, score=0.822 total time=   0.0s\n",
      "[CV 3/5] END LR__C=4.0, LR__l1_ratio=1.0, LR__penalty=l1;, score=0.816 total time=   0.0s\n"
     ]
    },
    {
     "name": "stderr",
     "output_type": "stream",
     "text": [
      "C:\\Users\\admin\\anaconda3\\lib\\site-packages\\sklearn\\linear_model\\_logistic.py:1476: UserWarning: l1_ratio parameter is only used when penalty is 'elasticnet'. Got (penalty=l1)\n",
      "  warnings.warn(\n",
      "C:\\Users\\admin\\anaconda3\\lib\\site-packages\\sklearn\\linear_model\\_logistic.py:1476: UserWarning: l1_ratio parameter is only used when penalty is 'elasticnet'. Got (penalty=l1)\n",
      "  warnings.warn(\n"
     ]
    },
    {
     "name": "stdout",
     "output_type": "stream",
     "text": [
      "[CV 4/5] END LR__C=4.0, LR__l1_ratio=1.0, LR__penalty=l1;, score=0.812 total time=   0.0s\n",
      "[CV 5/5] END LR__C=4.0, LR__l1_ratio=1.0, LR__penalty=l1;, score=0.820 total time=   0.0s\n",
      "[CV 1/5] END LR__C=4.0, LR__l1_ratio=1.0, LR__penalty=l2;, score=0.829 total time=   0.0s\n"
     ]
    },
    {
     "name": "stderr",
     "output_type": "stream",
     "text": [
      "C:\\Users\\admin\\anaconda3\\lib\\site-packages\\sklearn\\linear_model\\_logistic.py:1476: UserWarning: l1_ratio parameter is only used when penalty is 'elasticnet'. Got (penalty=l1)\n",
      "  warnings.warn(\n",
      "C:\\Users\\admin\\anaconda3\\lib\\site-packages\\sklearn\\linear_model\\_logistic.py:1476: UserWarning: l1_ratio parameter is only used when penalty is 'elasticnet'. Got (penalty=l2)\n",
      "  warnings.warn(\n",
      "C:\\Users\\admin\\anaconda3\\lib\\site-packages\\sklearn\\linear_model\\_logistic.py:1476: UserWarning: l1_ratio parameter is only used when penalty is 'elasticnet'. Got (penalty=l2)\n",
      "  warnings.warn(\n"
     ]
    },
    {
     "name": "stdout",
     "output_type": "stream",
     "text": [
      "[CV 2/5] END LR__C=4.0, LR__l1_ratio=1.0, LR__penalty=l2;, score=0.822 total time=   0.0s\n",
      "[CV 3/5] END LR__C=4.0, LR__l1_ratio=1.0, LR__penalty=l2;, score=0.816 total time=   0.0s\n",
      "[CV 4/5] END LR__C=4.0, LR__l1_ratio=1.0, LR__penalty=l2;, score=0.812 total time=   0.0s\n"
     ]
    },
    {
     "name": "stderr",
     "output_type": "stream",
     "text": [
      "C:\\Users\\admin\\anaconda3\\lib\\site-packages\\sklearn\\linear_model\\_logistic.py:1476: UserWarning: l1_ratio parameter is only used when penalty is 'elasticnet'. Got (penalty=l2)\n",
      "  warnings.warn(\n",
      "C:\\Users\\admin\\anaconda3\\lib\\site-packages\\sklearn\\linear_model\\_logistic.py:1476: UserWarning: l1_ratio parameter is only used when penalty is 'elasticnet'. Got (penalty=l2)\n",
      "  warnings.warn(\n",
      "C:\\Users\\admin\\anaconda3\\lib\\site-packages\\sklearn\\linear_model\\_logistic.py:1476: UserWarning: l1_ratio parameter is only used when penalty is 'elasticnet'. Got (penalty=l2)\n",
      "  warnings.warn(\n"
     ]
    },
    {
     "name": "stdout",
     "output_type": "stream",
     "text": [
      "[CV 5/5] END LR__C=4.0, LR__l1_ratio=1.0, LR__penalty=l2;, score=0.820 total time=   0.0s\n",
      "[CV 1/5] END LR__C=4.0, LR__l1_ratio=1.0, LR__penalty=elasticnet;, score=0.829 total time=   0.0s\n",
      "[CV 2/5] END LR__C=4.0, LR__l1_ratio=1.0, LR__penalty=elasticnet;, score=0.822 total time=   0.0s\n",
      "[CV 3/5] END LR__C=4.0, LR__l1_ratio=1.0, LR__penalty=elasticnet;, score=0.816 total time=   0.0s\n",
      "[CV 4/5] END LR__C=4.0, LR__l1_ratio=1.0, LR__penalty=elasticnet;, score=0.812 total time=   0.0s\n",
      "[CV 5/5] END LR__C=4.0, LR__l1_ratio=1.0, LR__penalty=elasticnet;, score=0.820 total time=   0.0s\n",
      "[CV 1/5] END LR__C=4.0, LR__l1_ratio=1.0, LR__penalty=None;, score=nan total time=   0.0s\n",
      "[CV 2/5] END LR__C=4.0, LR__l1_ratio=1.0, LR__penalty=None;, score=nan total time=   0.0s\n",
      "[CV 3/5] END LR__C=4.0, LR__l1_ratio=1.0, LR__penalty=None;, score=nan total time=   0.0s\n",
      "[CV 4/5] END LR__C=4.0, LR__l1_ratio=1.0, LR__penalty=None;, score=nan total time=   0.0s\n",
      "[CV 5/5] END LR__C=4.0, LR__l1_ratio=1.0, LR__penalty=None;, score=nan total time=   0.0s\n"
     ]
    },
    {
     "name": "stderr",
     "output_type": "stream",
     "text": [
      "C:\\Users\\admin\\anaconda3\\lib\\site-packages\\sklearn\\model_selection\\_validation.py:372: FitFailedWarning: \n",
      "125 fits failed out of a total of 500.\n",
      "The score on these train-test partitions for these parameters will be set to nan.\n",
      "If these failures are not expected, you can try to debug them by setting error_score='raise'.\n",
      "\n",
      "Below are more details about the failures:\n",
      "--------------------------------------------------------------------------------\n",
      "125 fits failed with the following error:\n",
      "Traceback (most recent call last):\n",
      "  File \"C:\\Users\\admin\\anaconda3\\lib\\site-packages\\sklearn\\model_selection\\_validation.py\", line 680, in _fit_and_score\n",
      "    estimator.fit(X_train, y_train, **fit_params)\n",
      "  File \"C:\\Users\\admin\\anaconda3\\lib\\site-packages\\sklearn\\pipeline.py\", line 394, in fit\n",
      "    self._final_estimator.fit(Xt, y, **fit_params_last_step)\n",
      "  File \"C:\\Users\\admin\\anaconda3\\lib\\site-packages\\sklearn\\linear_model\\_logistic.py\", line 1461, in fit\n",
      "    solver = _check_solver(self.solver, self.penalty, self.dual)\n",
      "  File \"C:\\Users\\admin\\anaconda3\\lib\\site-packages\\sklearn\\linear_model\\_logistic.py\", line 441, in _check_solver\n",
      "    raise ValueError(\n",
      "ValueError: Logistic Regression supports only penalties in ['l1', 'l2', 'elasticnet', 'none'], got None.\n",
      "\n",
      "  warnings.warn(some_fits_failed_message, FitFailedWarning)\n",
      "C:\\Users\\admin\\anaconda3\\lib\\site-packages\\sklearn\\model_selection\\_search.py:969: UserWarning: One or more of the test scores are non-finite: [0.74789982 0.81100468 0.81092982        nan 0.74789982 0.81100468\n",
      " 0.78965962        nan 0.74789982 0.81100468 0.76787885        nan\n",
      " 0.74789982 0.81100468 0.74789982        nan 0.74789982 0.81100468\n",
      " 0.74789982        nan 0.81985673 0.8198925  0.81989225        nan\n",
      " 0.81985673 0.8198925  0.81988294        nan 0.81985673 0.8198925\n",
      " 0.81987743        nan 0.81985673 0.8198925  0.81986812        nan\n",
      " 0.81985673 0.8198925  0.81985673        nan 0.81987669 0.81988796\n",
      " 0.81988796        nan 0.81987669 0.81988796 0.81987865        nan\n",
      " 0.81987669 0.81988796 0.81987669        nan 0.81987669 0.81988796\n",
      " 0.81987302        nan 0.81987669 0.81988796 0.81987669        nan\n",
      " 0.81987473 0.81988784 0.81988796        nan 0.81987473 0.81988784\n",
      " 0.81988024        nan 0.81987473 0.81988784 0.81987559        nan\n",
      " 0.81987473 0.81988784 0.81987694        nan 0.81987473 0.81988784\n",
      " 0.81987473        nan 0.81988074 0.81988857 0.81988833        nan\n",
      " 0.81988074 0.81988857 0.81988355        nan 0.81988074 0.81988857\n",
      " 0.81988318        nan 0.81988074 0.81988857 0.81988086        nan\n",
      " 0.81988074 0.81988857 0.81988074        nan]\n",
      "  warnings.warn(\n",
      "C:\\Users\\admin\\anaconda3\\lib\\site-packages\\sklearn\\linear_model\\_logistic.py:1476: UserWarning: l1_ratio parameter is only used when penalty is 'elasticnet'. Got (penalty=l2)\n",
      "  warnings.warn(\n"
     ]
    },
    {
     "data": {
      "text/plain": [
       "GridSearchCV(cv=StratifiedKFold(n_splits=5, random_state=2022, shuffle=True),\n",
       "             estimator=Pipeline(steps=[('STD', StandardScaler()),\n",
       "                                       ('LR',\n",
       "                                        LogisticRegression(random_state=100,\n",
       "                                                           solver='saga'))]),\n",
       "             param_grid={'LR__C': array([1.00000e-03, 1.00075e+00, 2.00050e+00, 3.00025e+00, 4.00000e+00]),\n",
       "                         'LR__l1_ratio': array([0.001  , 0.25075, 0.5005 , 0.75025, 1.     ]),\n",
       "                         'LR__penalty': ['l1', 'l2', 'elasticnet', None]},\n",
       "             scoring='roc_auc', verbose=3)"
      ]
     },
     "execution_count": 64,
     "metadata": {},
     "output_type": "execute_result"
    }
   ],
   "source": [
    "gcv = GridSearchCV(pipe, param_grid = params, verbose = 3, scoring = \"roc_auc\", cv = kfold)\n",
    "gcv.fit(x,y)"
   ]
  },
  {
   "cell_type": "code",
   "execution_count": 65,
   "id": "a0af2e7c",
   "metadata": {},
   "outputs": [
    {
     "name": "stdout",
     "output_type": "stream",
     "text": [
      "{'LR__C': 1.00075, 'LR__l1_ratio': 0.001, 'LR__penalty': 'l2'}\n",
      "0.8198924993215041\n"
     ]
    }
   ],
   "source": [
    "print(gcv.best_params_)\n",
    "print(gcv.best_score_)"
   ]
  },
  {
   "cell_type": "code",
   "execution_count": null,
   "id": "d3463021",
   "metadata": {},
   "outputs": [],
   "source": []
  }
 ],
 "metadata": {
  "kernelspec": {
   "display_name": "Python 3 (ipykernel)",
   "language": "python",
   "name": "python3"
  },
  "language_info": {
   "codemirror_mode": {
    "name": "ipython",
    "version": 3
   },
   "file_extension": ".py",
   "mimetype": "text/x-python",
   "name": "python",
   "nbconvert_exporter": "python",
   "pygments_lexer": "ipython3",
   "version": "3.9.13"
  }
 },
 "nbformat": 4,
 "nbformat_minor": 5
}
