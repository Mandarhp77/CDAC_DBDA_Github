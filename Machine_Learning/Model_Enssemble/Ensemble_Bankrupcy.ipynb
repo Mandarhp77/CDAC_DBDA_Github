{
 "cells": [
  {
   "cell_type": "code",
   "execution_count": 1,
   "id": "93582eb7",
   "metadata": {},
   "outputs": [],
   "source": [
    "import pandas as pd\n",
    "import numpy as np\n",
    "import seaborn as sns\n",
    "import matplotlib.pyplot as plt\n",
    "from sklearn.tree import DecisionTreeClassifier, plot_tree\n",
    "from sklearn.model_selection import train_test_split\n",
    "from sklearn.metrics import accuracy_score\n",
    "from sklearn.metrics import roc_curve, roc_auc_score\n",
    "from sklearn.model_selection import KFold\n",
    "from sklearn.model_selection import cross_val_score\n",
    "from sklearn.model_selection import GridSearchCV, StratifiedKFold\n",
    "from sklearn.discriminant_analysis import LinearDiscriminantAnalysis\n",
    "from sklearn.svm import SVC\n",
    "from sklearn.preprocessing import StandardScaler\n",
    "from sklearn.ensemble import VotingClassifier\n",
    "from sklearn.pipeline import Pipeline\n",
    "from sklearn.linear_model import LogisticRegression"
   ]
  },
  {
   "cell_type": "code",
   "execution_count": 2,
   "id": "7cb07057",
   "metadata": {},
   "outputs": [],
   "source": [
    "bank = pd.read_csv(\"C:\\Aalesh and Mandar\\Datasets\\Cases\\Bankruptcy\\Bankruptcy.csv\")"
   ]
  },
  {
   "cell_type": "code",
   "execution_count": 3,
   "id": "6410807c",
   "metadata": {},
   "outputs": [
    {
     "data": {
      "text/html": [
       "<div>\n",
       "<style scoped>\n",
       "    .dataframe tbody tr th:only-of-type {\n",
       "        vertical-align: middle;\n",
       "    }\n",
       "\n",
       "    .dataframe tbody tr th {\n",
       "        vertical-align: top;\n",
       "    }\n",
       "\n",
       "    .dataframe thead th {\n",
       "        text-align: right;\n",
       "    }\n",
       "</style>\n",
       "<table border=\"1\" class=\"dataframe\">\n",
       "  <thead>\n",
       "    <tr style=\"text-align: right;\">\n",
       "      <th></th>\n",
       "      <th>NO</th>\n",
       "      <th>D</th>\n",
       "      <th>YR</th>\n",
       "      <th>R1</th>\n",
       "      <th>R2</th>\n",
       "      <th>R3</th>\n",
       "      <th>R4</th>\n",
       "      <th>R5</th>\n",
       "      <th>R6</th>\n",
       "      <th>R7</th>\n",
       "      <th>...</th>\n",
       "      <th>R15</th>\n",
       "      <th>R16</th>\n",
       "      <th>R17</th>\n",
       "      <th>R18</th>\n",
       "      <th>R19</th>\n",
       "      <th>R20</th>\n",
       "      <th>R21</th>\n",
       "      <th>R22</th>\n",
       "      <th>R23</th>\n",
       "      <th>R24</th>\n",
       "    </tr>\n",
       "  </thead>\n",
       "  <tbody>\n",
       "    <tr>\n",
       "      <th>0</th>\n",
       "      <td>1</td>\n",
       "      <td>0</td>\n",
       "      <td>78</td>\n",
       "      <td>0.23</td>\n",
       "      <td>0.08</td>\n",
       "      <td>0.02</td>\n",
       "      <td>0.03</td>\n",
       "      <td>0.46</td>\n",
       "      <td>0.12</td>\n",
       "      <td>0.19</td>\n",
       "      <td>...</td>\n",
       "      <td>0.05</td>\n",
       "      <td>0.57</td>\n",
       "      <td>0.15</td>\n",
       "      <td>0.23</td>\n",
       "      <td>3.56</td>\n",
       "      <td>0.26</td>\n",
       "      <td>1.55</td>\n",
       "      <td>0.43</td>\n",
       "      <td>0.11</td>\n",
       "      <td>0.17</td>\n",
       "    </tr>\n",
       "    <tr>\n",
       "      <th>1</th>\n",
       "      <td>2</td>\n",
       "      <td>0</td>\n",
       "      <td>77</td>\n",
       "      <td>0.19</td>\n",
       "      <td>0.07</td>\n",
       "      <td>0.09</td>\n",
       "      <td>0.12</td>\n",
       "      <td>0.02</td>\n",
       "      <td>0.02</td>\n",
       "      <td>0.03</td>\n",
       "      <td>...</td>\n",
       "      <td>0.09</td>\n",
       "      <td>0.12</td>\n",
       "      <td>0.16</td>\n",
       "      <td>0.22</td>\n",
       "      <td>3.78</td>\n",
       "      <td>1.29</td>\n",
       "      <td>1.40</td>\n",
       "      <td>0.06</td>\n",
       "      <td>0.07</td>\n",
       "      <td>0.10</td>\n",
       "    </tr>\n",
       "    <tr>\n",
       "      <th>2</th>\n",
       "      <td>3</td>\n",
       "      <td>0</td>\n",
       "      <td>72</td>\n",
       "      <td>0.07</td>\n",
       "      <td>0.02</td>\n",
       "      <td>0.03</td>\n",
       "      <td>0.05</td>\n",
       "      <td>0.06</td>\n",
       "      <td>0.10</td>\n",
       "      <td>0.14</td>\n",
       "      <td>...</td>\n",
       "      <td>-0.03</td>\n",
       "      <td>0.02</td>\n",
       "      <td>0.02</td>\n",
       "      <td>0.04</td>\n",
       "      <td>13.29</td>\n",
       "      <td>1.61</td>\n",
       "      <td>1.43</td>\n",
       "      <td>0.03</td>\n",
       "      <td>0.05</td>\n",
       "      <td>0.07</td>\n",
       "    </tr>\n",
       "    <tr>\n",
       "      <th>3</th>\n",
       "      <td>4</td>\n",
       "      <td>0</td>\n",
       "      <td>80</td>\n",
       "      <td>0.07</td>\n",
       "      <td>0.03</td>\n",
       "      <td>0.04</td>\n",
       "      <td>0.04</td>\n",
       "      <td>0.04</td>\n",
       "      <td>0.06</td>\n",
       "      <td>0.06</td>\n",
       "      <td>...</td>\n",
       "      <td>-0.02</td>\n",
       "      <td>0.01</td>\n",
       "      <td>0.02</td>\n",
       "      <td>0.02</td>\n",
       "      <td>5.36</td>\n",
       "      <td>1.30</td>\n",
       "      <td>1.12</td>\n",
       "      <td>-0.06</td>\n",
       "      <td>-0.08</td>\n",
       "      <td>-0.09</td>\n",
       "    </tr>\n",
       "    <tr>\n",
       "      <th>4</th>\n",
       "      <td>5</td>\n",
       "      <td>0</td>\n",
       "      <td>81</td>\n",
       "      <td>0.09</td>\n",
       "      <td>0.02</td>\n",
       "      <td>0.03</td>\n",
       "      <td>0.04</td>\n",
       "      <td>0.06</td>\n",
       "      <td>0.08</td>\n",
       "      <td>0.11</td>\n",
       "      <td>...</td>\n",
       "      <td>0.02</td>\n",
       "      <td>0.07</td>\n",
       "      <td>0.10</td>\n",
       "      <td>0.14</td>\n",
       "      <td>7.74</td>\n",
       "      <td>1.48</td>\n",
       "      <td>1.41</td>\n",
       "      <td>0.03</td>\n",
       "      <td>0.04</td>\n",
       "      <td>0.06</td>\n",
       "    </tr>\n",
       "  </tbody>\n",
       "</table>\n",
       "<p>5 rows × 27 columns</p>\n",
       "</div>"
      ],
      "text/plain": [
       "   NO  D  YR    R1    R2    R3    R4    R5    R6    R7  ...   R15   R16   R17  \\\n",
       "0   1  0  78  0.23  0.08  0.02  0.03  0.46  0.12  0.19  ...  0.05  0.57  0.15   \n",
       "1   2  0  77  0.19  0.07  0.09  0.12  0.02  0.02  0.03  ...  0.09  0.12  0.16   \n",
       "2   3  0  72  0.07  0.02  0.03  0.05  0.06  0.10  0.14  ... -0.03  0.02  0.02   \n",
       "3   4  0  80  0.07  0.03  0.04  0.04  0.04  0.06  0.06  ... -0.02  0.01  0.02   \n",
       "4   5  0  81  0.09  0.02  0.03  0.04  0.06  0.08  0.11  ...  0.02  0.07  0.10   \n",
       "\n",
       "    R18    R19   R20   R21   R22   R23   R24  \n",
       "0  0.23   3.56  0.26  1.55  0.43  0.11  0.17  \n",
       "1  0.22   3.78  1.29  1.40  0.06  0.07  0.10  \n",
       "2  0.04  13.29  1.61  1.43  0.03  0.05  0.07  \n",
       "3  0.02   5.36  1.30  1.12 -0.06 -0.08 -0.09  \n",
       "4  0.14   7.74  1.48  1.41  0.03  0.04  0.06  \n",
       "\n",
       "[5 rows x 27 columns]"
      ]
     },
     "execution_count": 3,
     "metadata": {},
     "output_type": "execute_result"
    }
   ],
   "source": [
    "bank.head()"
   ]
  },
  {
   "cell_type": "code",
   "execution_count": 4,
   "id": "da05664b",
   "metadata": {},
   "outputs": [],
   "source": [
    "x = bank.drop([\"D\",\"YR\",\"NO\"], axis=1)\n",
    "y = bank[\"D\"]"
   ]
  },
  {
   "cell_type": "code",
   "execution_count": 5,
   "id": "a7cbc16c",
   "metadata": {},
   "outputs": [],
   "source": [
    "x_train, x_test, y_train, y_test = train_test_split(x, y, stratify = y, random_state = 2022, test_size = 0.3)"
   ]
  },
  {
   "cell_type": "code",
   "execution_count": 6,
   "id": "922b5d5f",
   "metadata": {},
   "outputs": [],
   "source": [
    "scaler = StandardScaler()\n",
    "\n",
    "dtc = DecisionTreeClassifier(random_state = 2022)\n",
    "lda = LinearDiscriminantAnalysis()\n",
    "svm = SVC(kernel=\"linear\", probability = True,  random_state = 2022)\n",
    "pipe_svm = Pipeline([(\"STD\", scaler),(\"SVM\",svm)])\n",
    "lr = LogisticRegression()"
   ]
  },
  {
   "cell_type": "code",
   "execution_count": 7,
   "id": "21091ef3",
   "metadata": {},
   "outputs": [
    {
     "name": "stdout",
     "output_type": "stream",
     "text": [
      "0.8\n",
      "0.8\n"
     ]
    }
   ],
   "source": [
    "dtc.fit(x_train, y_train)\n",
    "y_pred = dtc.predict(x_test)\n",
    "y_pred_prob = dtc.predict_proba(x_test)[:,1]\n",
    "print(accuracy_score(y_test, y_pred))\n",
    "roc_dtc = roc_auc_score(y_test, y_pred_prob)\n",
    "print(roc_dtc)"
   ]
  },
  {
   "cell_type": "code",
   "execution_count": 8,
   "id": "4686eae1",
   "metadata": {},
   "outputs": [
    {
     "name": "stdout",
     "output_type": "stream",
     "text": [
      "0.825\n",
      "0.7875\n"
     ]
    }
   ],
   "source": [
    "svm.fit(x_train, y_train)\n",
    "y_pred = svm.predict(x_test)\n",
    "y_pred_prob = svm.predict_proba(x_test)[:,1]\n",
    "print(accuracy_score(y_test, y_pred))\n",
    "roc_svm = roc_auc_score(y_test, y_pred_prob)\n",
    "print(roc_svm)"
   ]
  },
  {
   "cell_type": "code",
   "execution_count": 10,
   "id": "e1f0d918",
   "metadata": {},
   "outputs": [
    {
     "name": "stdout",
     "output_type": "stream",
     "text": [
      "0.825\n",
      "0.8025000000000001\n"
     ]
    },
    {
     "name": "stderr",
     "output_type": "stream",
     "text": [
      "C:\\Users\\admin\\anaconda3\\lib\\site-packages\\sklearn\\linear_model\\_logistic.py:814: ConvergenceWarning: lbfgs failed to converge (status=1):\n",
      "STOP: TOTAL NO. of ITERATIONS REACHED LIMIT.\n",
      "\n",
      "Increase the number of iterations (max_iter) or scale the data as shown in:\n",
      "    https://scikit-learn.org/stable/modules/preprocessing.html\n",
      "Please also refer to the documentation for alternative solver options:\n",
      "    https://scikit-learn.org/stable/modules/linear_model.html#logistic-regression\n",
      "  n_iter_i = _check_optimize_result(\n"
     ]
    }
   ],
   "source": [
    "lr.fit(x_train, y_train)\n",
    "y_pred = lr.predict(x_test)\n",
    "y_pred_prob = lr.predict_proba(x_test)[:,1]\n",
    "print(accuracy_score(y_test, y_pred))\n",
    "roc_lr = roc_auc_score(y_test, y_pred_prob)\n",
    "print(roc_lr)"
   ]
  },
  {
   "cell_type": "code",
   "execution_count": 11,
   "id": "9ed4df51",
   "metadata": {},
   "outputs": [],
   "source": [
    "voting = VotingClassifier([(\"Tree\", dtc),(\"SVM_P\",pipe_svm),(\"LR\",lr)], voting =\"soft\", weights = [roc_dtc, roc_svm, roc_lr])"
   ]
  },
  {
   "cell_type": "code",
   "execution_count": 12,
   "id": "a74d8c21",
   "metadata": {},
   "outputs": [
    {
     "name": "stdout",
     "output_type": "stream",
     "text": [
      "0.775\n",
      "0.8500000000000001\n"
     ]
    },
    {
     "name": "stderr",
     "output_type": "stream",
     "text": [
      "C:\\Users\\admin\\anaconda3\\lib\\site-packages\\sklearn\\linear_model\\_logistic.py:814: ConvergenceWarning: lbfgs failed to converge (status=1):\n",
      "STOP: TOTAL NO. of ITERATIONS REACHED LIMIT.\n",
      "\n",
      "Increase the number of iterations (max_iter) or scale the data as shown in:\n",
      "    https://scikit-learn.org/stable/modules/preprocessing.html\n",
      "Please also refer to the documentation for alternative solver options:\n",
      "    https://scikit-learn.org/stable/modules/linear_model.html#logistic-regression\n",
      "  n_iter_i = _check_optimize_result(\n"
     ]
    }
   ],
   "source": [
    "voting.fit(x_train, y_train)\n",
    "y_pred = voting.predict(x_test)\n",
    "y_pred_prob = voting.predict_proba(x_test)[:,1]\n",
    "print(accuracy_score(y_test, y_pred))\n",
    "print(roc_auc_score(y_test, y_pred_prob))"
   ]
  },
  {
   "cell_type": "code",
   "execution_count": 14,
   "id": "de0780fb",
   "metadata": {},
   "outputs": [
    {
     "data": {
      "text/plain": [
       "{'estimators': [('Tree', DecisionTreeClassifier(random_state=2022)),\n",
       "  ('SVM_P',\n",
       "   Pipeline(steps=[('STD', StandardScaler()),\n",
       "                   ('SVM',\n",
       "                    SVC(kernel='linear', probability=True, random_state=2022))])),\n",
       "  ('LR', LogisticRegression())],\n",
       " 'flatten_transform': True,\n",
       " 'n_jobs': None,\n",
       " 'verbose': False,\n",
       " 'voting': 'soft',\n",
       " 'weights': [0.8, 0.7875, 0.8025000000000001],\n",
       " 'Tree': DecisionTreeClassifier(random_state=2022),\n",
       " 'SVM_P': Pipeline(steps=[('STD', StandardScaler()),\n",
       "                 ('SVM',\n",
       "                  SVC(kernel='linear', probability=True, random_state=2022))]),\n",
       " 'LR': LogisticRegression(),\n",
       " 'Tree__ccp_alpha': 0.0,\n",
       " 'Tree__class_weight': None,\n",
       " 'Tree__criterion': 'gini',\n",
       " 'Tree__max_depth': None,\n",
       " 'Tree__max_features': None,\n",
       " 'Tree__max_leaf_nodes': None,\n",
       " 'Tree__min_impurity_decrease': 0.0,\n",
       " 'Tree__min_samples_leaf': 1,\n",
       " 'Tree__min_samples_split': 2,\n",
       " 'Tree__min_weight_fraction_leaf': 0.0,\n",
       " 'Tree__random_state': 2022,\n",
       " 'Tree__splitter': 'best',\n",
       " 'SVM_P__memory': None,\n",
       " 'SVM_P__steps': [('STD', StandardScaler()),\n",
       "  ('SVM', SVC(kernel='linear', probability=True, random_state=2022))],\n",
       " 'SVM_P__verbose': False,\n",
       " 'SVM_P__STD': StandardScaler(),\n",
       " 'SVM_P__SVM': SVC(kernel='linear', probability=True, random_state=2022),\n",
       " 'SVM_P__STD__copy': True,\n",
       " 'SVM_P__STD__with_mean': True,\n",
       " 'SVM_P__STD__with_std': True,\n",
       " 'SVM_P__SVM__C': 1.0,\n",
       " 'SVM_P__SVM__break_ties': False,\n",
       " 'SVM_P__SVM__cache_size': 200,\n",
       " 'SVM_P__SVM__class_weight': None,\n",
       " 'SVM_P__SVM__coef0': 0.0,\n",
       " 'SVM_P__SVM__decision_function_shape': 'ovr',\n",
       " 'SVM_P__SVM__degree': 3,\n",
       " 'SVM_P__SVM__gamma': 'scale',\n",
       " 'SVM_P__SVM__kernel': 'linear',\n",
       " 'SVM_P__SVM__max_iter': -1,\n",
       " 'SVM_P__SVM__probability': True,\n",
       " 'SVM_P__SVM__random_state': 2022,\n",
       " 'SVM_P__SVM__shrinking': True,\n",
       " 'SVM_P__SVM__tol': 0.001,\n",
       " 'SVM_P__SVM__verbose': False,\n",
       " 'LR__C': 1.0,\n",
       " 'LR__class_weight': None,\n",
       " 'LR__dual': False,\n",
       " 'LR__fit_intercept': True,\n",
       " 'LR__intercept_scaling': 1,\n",
       " 'LR__l1_ratio': None,\n",
       " 'LR__max_iter': 100,\n",
       " 'LR__multi_class': 'auto',\n",
       " 'LR__n_jobs': None,\n",
       " 'LR__penalty': 'l2',\n",
       " 'LR__random_state': None,\n",
       " 'LR__solver': 'lbfgs',\n",
       " 'LR__tol': 0.0001,\n",
       " 'LR__verbose': 0,\n",
       " 'LR__warm_start': False}"
      ]
     },
     "execution_count": 14,
     "metadata": {},
     "output_type": "execute_result"
    }
   ],
   "source": [
    "voting.get_params()"
   ]
  },
  {
   "cell_type": "code",
   "execution_count": null,
   "id": "549e0fd6",
   "metadata": {},
   "outputs": [],
   "source": [
    "kfold = StratifiedKFold(n_splits = 5, shuffle = True, random_state = 2022)\n",
    "params = {\"SVM_P__SVM__C\"  :  np.linspace(0.001, 5,5),\n",
    "          \"SVM_P__SVM__gamma\" : np.linspace(0.001, 5,5),\n",
    "          \"LR__C\":  np.linspace(0.001, 5,5),\n",
    "          \"TREE__max_depth\" : [None,3,5],\n",
    "          \"TREE__min_samples_split\" : [2,5,10],\n",
    "          \"TREE__min_samples_leaf\" : [1,5]}\n",
    "         \n",
    "gcv = GridSearchCV(voting, param_grid = params, verbose = 3, scoring = \"roc_auc\", cv = kfold)\n",
    "gcv.fit(x,y)"
   ]
  },
  {
   "cell_type": "code",
   "execution_count": null,
   "id": "85d6498f",
   "metadata": {},
   "outputs": [],
   "source": [
    "print(gcv.best_params_)\n",
    "print(gcv.best_score_)"
   ]
  },
  {
   "cell_type": "code",
   "execution_count": null,
   "id": "6f1569b0",
   "metadata": {},
   "outputs": [],
   "source": []
  }
 ],
 "metadata": {
  "kernelspec": {
   "display_name": "Python 3 (ipykernel)",
   "language": "python",
   "name": "python3"
  },
  "language_info": {
   "codemirror_mode": {
    "name": "ipython",
    "version": 3
   },
   "file_extension": ".py",
   "mimetype": "text/x-python",
   "name": "python",
   "nbconvert_exporter": "python",
   "pygments_lexer": "ipython3",
   "version": "3.9.13"
  }
 },
 "nbformat": 4,
 "nbformat_minor": 5
}
