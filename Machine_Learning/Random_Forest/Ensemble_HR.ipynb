{
 "cells": [
  {
   "cell_type": "code",
   "execution_count": 6,
   "id": "93582eb7",
   "metadata": {},
   "outputs": [],
   "source": [
    "import pandas as pd\n",
    "import numpy as np\n",
    "import seaborn as sns\n",
    "import matplotlib.pyplot as plt\n",
    "from sklearn.tree import DecisionTreeClassifier, plot_tree\n",
    "from sklearn.model_selection import train_test_split\n",
    "from sklearn.metrics import accuracy_score\n",
    "from sklearn.metrics import roc_curve, roc_auc_score\n",
    "from sklearn.model_selection import KFold\n",
    "from sklearn.model_selection import cross_val_score\n",
    "from sklearn.model_selection import GridSearchCV, StratifiedKFold\n",
    "from sklearn.discriminant_analysis import LinearDiscriminantAnalysis\n",
    "from sklearn.svm import SVC\n",
    "from sklearn.preprocessing import StandardScaler\n",
    "from sklearn.ensemble import VotingClassifier\n",
    "from sklearn.pipeline import Pipeline\n",
    "from sklearn.ensemble import RandomForestClassifier"
   ]
  },
  {
   "cell_type": "code",
   "execution_count": 2,
   "id": "7cb07057",
   "metadata": {},
   "outputs": [],
   "source": [
    "hr = pd.read_csv(\"C:\\Aalesh and Mandar\\Datasets\\Cases\\human-resources-analytics\\HR.csv\")"
   ]
  },
  {
   "cell_type": "code",
   "execution_count": 3,
   "id": "6410807c",
   "metadata": {},
   "outputs": [
    {
     "data": {
      "text/html": [
       "<div>\n",
       "<style scoped>\n",
       "    .dataframe tbody tr th:only-of-type {\n",
       "        vertical-align: middle;\n",
       "    }\n",
       "\n",
       "    .dataframe tbody tr th {\n",
       "        vertical-align: top;\n",
       "    }\n",
       "\n",
       "    .dataframe thead th {\n",
       "        text-align: right;\n",
       "    }\n",
       "</style>\n",
       "<table border=\"1\" class=\"dataframe\">\n",
       "  <thead>\n",
       "    <tr style=\"text-align: right;\">\n",
       "      <th></th>\n",
       "      <th>satisfaction_level</th>\n",
       "      <th>last_evaluation</th>\n",
       "      <th>number_project</th>\n",
       "      <th>average_montly_hours</th>\n",
       "      <th>time_spend_company</th>\n",
       "      <th>Work_accident</th>\n",
       "      <th>left</th>\n",
       "      <th>promotion_last_5years</th>\n",
       "      <th>Department</th>\n",
       "      <th>salary</th>\n",
       "    </tr>\n",
       "  </thead>\n",
       "  <tbody>\n",
       "    <tr>\n",
       "      <th>0</th>\n",
       "      <td>0.38</td>\n",
       "      <td>0.53</td>\n",
       "      <td>2</td>\n",
       "      <td>157</td>\n",
       "      <td>3</td>\n",
       "      <td>0</td>\n",
       "      <td>1</td>\n",
       "      <td>0</td>\n",
       "      <td>sales</td>\n",
       "      <td>low</td>\n",
       "    </tr>\n",
       "    <tr>\n",
       "      <th>1</th>\n",
       "      <td>0.80</td>\n",
       "      <td>0.86</td>\n",
       "      <td>5</td>\n",
       "      <td>262</td>\n",
       "      <td>6</td>\n",
       "      <td>0</td>\n",
       "      <td>1</td>\n",
       "      <td>0</td>\n",
       "      <td>sales</td>\n",
       "      <td>medium</td>\n",
       "    </tr>\n",
       "    <tr>\n",
       "      <th>2</th>\n",
       "      <td>0.11</td>\n",
       "      <td>0.88</td>\n",
       "      <td>7</td>\n",
       "      <td>272</td>\n",
       "      <td>4</td>\n",
       "      <td>0</td>\n",
       "      <td>1</td>\n",
       "      <td>0</td>\n",
       "      <td>sales</td>\n",
       "      <td>medium</td>\n",
       "    </tr>\n",
       "    <tr>\n",
       "      <th>3</th>\n",
       "      <td>0.72</td>\n",
       "      <td>0.87</td>\n",
       "      <td>5</td>\n",
       "      <td>223</td>\n",
       "      <td>5</td>\n",
       "      <td>0</td>\n",
       "      <td>1</td>\n",
       "      <td>0</td>\n",
       "      <td>sales</td>\n",
       "      <td>low</td>\n",
       "    </tr>\n",
       "    <tr>\n",
       "      <th>4</th>\n",
       "      <td>0.37</td>\n",
       "      <td>0.52</td>\n",
       "      <td>2</td>\n",
       "      <td>159</td>\n",
       "      <td>3</td>\n",
       "      <td>0</td>\n",
       "      <td>1</td>\n",
       "      <td>0</td>\n",
       "      <td>sales</td>\n",
       "      <td>low</td>\n",
       "    </tr>\n",
       "  </tbody>\n",
       "</table>\n",
       "</div>"
      ],
      "text/plain": [
       "   satisfaction_level  last_evaluation  number_project  average_montly_hours  \\\n",
       "0                0.38             0.53               2                   157   \n",
       "1                0.80             0.86               5                   262   \n",
       "2                0.11             0.88               7                   272   \n",
       "3                0.72             0.87               5                   223   \n",
       "4                0.37             0.52               2                   159   \n",
       "\n",
       "   time_spend_company  Work_accident  left  promotion_last_5years Department  \\\n",
       "0                   3              0     1                      0      sales   \n",
       "1                   6              0     1                      0      sales   \n",
       "2                   4              0     1                      0      sales   \n",
       "3                   5              0     1                      0      sales   \n",
       "4                   3              0     1                      0      sales   \n",
       "\n",
       "   salary  \n",
       "0     low  \n",
       "1  medium  \n",
       "2  medium  \n",
       "3     low  \n",
       "4     low  "
      ]
     },
     "execution_count": 3,
     "metadata": {},
     "output_type": "execute_result"
    }
   ],
   "source": [
    "hr.head()"
   ]
  },
  {
   "cell_type": "code",
   "execution_count": 4,
   "id": "586eb56f",
   "metadata": {},
   "outputs": [],
   "source": [
    "hr = pd.get_dummies(hr, drop_first = True)"
   ]
  },
  {
   "cell_type": "code",
   "execution_count": 5,
   "id": "da05664b",
   "metadata": {},
   "outputs": [],
   "source": [
    "x = hr.drop(\"left\", axis=1)\n",
    "y = hr[\"left\"]"
   ]
  },
  {
   "cell_type": "code",
   "execution_count": 7,
   "id": "a7cbc16c",
   "metadata": {},
   "outputs": [],
   "source": [
    "x_train, x_test, y_train, y_test = train_test_split(x, y, random_state = 2022, test_size = 0.3)"
   ]
  },
  {
   "cell_type": "code",
   "execution_count": 8,
   "id": "58f274bc",
   "metadata": {},
   "outputs": [],
   "source": [
    "rfc = RandomForestClassifier()"
   ]
  },
  {
   "cell_type": "code",
   "execution_count": 9,
   "id": "21091ef3",
   "metadata": {},
   "outputs": [
    {
     "name": "stdout",
     "output_type": "stream",
     "text": [
      "0.9908888888888889\n",
      "0.9944045156950041\n"
     ]
    }
   ],
   "source": [
    "rfc.fit(x_train, y_train)\n",
    "y_pred = rfc.predict(x_test)\n",
    "y_pred_prob = rfc.predict_proba(x_test)[:,1]\n",
    "print(accuracy_score(y_test, y_pred))\n",
    "print(roc_auc_score(y_test, y_pred_prob))"
   ]
  },
  {
   "cell_type": "code",
   "execution_count": null,
   "id": "c6c0a99e",
   "metadata": {},
   "outputs": [
    {
     "name": "stdout",
     "output_type": "stream",
     "text": [
      "Fitting 5 folds for each of 12 candidates, totalling 60 fits\n",
      "[CV 1/5] END ....................max_features=3;, score=0.994 total time=   0.9s\n",
      "[CV 2/5] END ....................max_features=3;, score=0.994 total time=   0.8s\n",
      "[CV 3/5] END ....................max_features=3;, score=0.997 total time=   0.8s\n",
      "[CV 4/5] END ....................max_features=3;, score=0.992 total time=   0.7s\n",
      "[CV 5/5] END ....................max_features=3;, score=0.997 total time=   0.7s\n",
      "[CV 1/5] END ....................max_features=4;, score=0.993 total time=   0.8s\n",
      "[CV 2/5] END ....................max_features=4;, score=0.994 total time=   0.8s\n",
      "[CV 3/5] END ....................max_features=4;, score=0.996 total time=   0.9s\n",
      "[CV 4/5] END ....................max_features=4;, score=0.990 total time=   0.9s\n",
      "[CV 5/5] END ....................max_features=4;, score=0.995 total time=   0.9s\n",
      "[CV 1/5] END ....................max_features=5;, score=0.993 total time=   0.9s\n",
      "[CV 2/5] END ....................max_features=5;, score=0.992 total time=   0.9s\n",
      "[CV 3/5] END ....................max_features=5;, score=0.996 total time=   0.9s\n",
      "[CV 4/5] END ....................max_features=5;, score=0.991 total time=   0.9s\n",
      "[CV 5/5] END ....................max_features=5;, score=0.996 total time=   0.9s\n",
      "[CV 1/5] END ....................max_features=6;, score=0.993 total time=   1.0s\n",
      "[CV 2/5] END ....................max_features=6;, score=0.993 total time=   1.0s\n",
      "[CV 3/5] END ....................max_features=6;, score=0.996 total time=   1.0s\n",
      "[CV 4/5] END ....................max_features=6;, score=0.992 total time=   1.0s\n",
      "[CV 5/5] END ....................max_features=6;, score=0.996 total time=   1.0s\n",
      "[CV 1/5] END ....................max_features=7;, score=0.993 total time=   1.1s\n",
      "[CV 2/5] END ....................max_features=7;, score=0.994 total time=   1.1s\n",
      "[CV 3/5] END ....................max_features=7;, score=0.996 total time=   1.1s\n",
      "[CV 4/5] END ....................max_features=7;, score=0.990 total time=   1.1s\n",
      "[CV 5/5] END ....................max_features=7;, score=0.997 total time=   1.1s\n",
      "[CV 1/5] END ....................max_features=8;, score=0.993 total time=   1.2s\n",
      "[CV 2/5] END ....................max_features=8;, score=0.992 total time=   1.2s\n",
      "[CV 3/5] END ....................max_features=8;, score=0.995 total time=   1.3s\n",
      "[CV 4/5] END ....................max_features=8;, score=0.992 total time=   1.2s\n",
      "[CV 5/5] END ....................max_features=8;, score=0.996 total time=   1.2s\n",
      "[CV 1/5] END ....................max_features=9;, score=0.992 total time=   1.3s\n",
      "[CV 2/5] END ....................max_features=9;, score=0.992 total time=   1.4s\n",
      "[CV 3/5] END ....................max_features=9;, score=0.996 total time=   1.4s\n",
      "[CV 4/5] END ....................max_features=9;, score=0.991 total time=   1.3s\n",
      "[CV 5/5] END ....................max_features=9;, score=0.995 total time=   1.4s\n",
      "[CV 1/5] END ...................max_features=10;, score=0.993 total time=   1.5s\n",
      "[CV 2/5] END ...................max_features=10;, score=0.992 total time=   1.5s\n",
      "[CV 3/5] END ...................max_features=10;, score=0.996 total time=   1.5s\n",
      "[CV 4/5] END ...................max_features=10;, score=0.992 total time=   1.6s\n",
      "[CV 5/5] END ...................max_features=10;, score=0.997 total time=   1.7s\n",
      "[CV 1/5] END ...................max_features=11;, score=0.992 total time=   1.9s\n",
      "[CV 2/5] END ...................max_features=11;, score=0.993 total time=   1.7s\n",
      "[CV 3/5] END ...................max_features=11;, score=0.995 total time=   1.7s\n",
      "[CV 4/5] END ...................max_features=11;, score=0.991 total time=   1.6s\n",
      "[CV 5/5] END ...................max_features=11;, score=0.995 total time=   1.7s\n",
      "[CV 1/5] END ...................max_features=12;, score=0.992 total time=   1.8s\n",
      "[CV 2/5] END ...................max_features=12;, score=0.993 total time=   1.8s\n"
     ]
    }
   ],
   "source": [
    "kfold = StratifiedKFold(n_splits = 5, shuffle = True, random_state = 2022)\n",
    "params = {\"max_features\": np.arange(3,15)}\n",
    "gcv = GridSearchCV(rfc, param_grid = params, verbose = 3, scoring = \"roc_auc\", cv = kfold)\n",
    "gcv.fit(x, y)"
   ]
  },
  {
   "cell_type": "code",
   "execution_count": null,
   "id": "a743fbfc",
   "metadata": {},
   "outputs": [],
   "source": [
    "print(gcv.best_params_)\n",
    "print(gcv.best_score_)"
   ]
  },
  {
   "cell_type": "code",
   "execution_count": null,
   "id": "446fe03b",
   "metadata": {},
   "outputs": [],
   "source": []
  }
 ],
 "metadata": {
  "kernelspec": {
   "display_name": "Python 3 (ipykernel)",
   "language": "python",
   "name": "python3"
  },
  "language_info": {
   "codemirror_mode": {
    "name": "ipython",
    "version": 3
   },
   "file_extension": ".py",
   "mimetype": "text/x-python",
   "name": "python",
   "nbconvert_exporter": "python",
   "pygments_lexer": "ipython3",
   "version": "3.9.13"
  }
 },
 "nbformat": 4,
 "nbformat_minor": 5
}
