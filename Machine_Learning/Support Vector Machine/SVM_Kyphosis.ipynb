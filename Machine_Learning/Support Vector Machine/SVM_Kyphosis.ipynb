{
 "cells": [
  {
   "cell_type": "code",
   "execution_count": 16,
   "id": "1024af3f",
   "metadata": {},
   "outputs": [],
   "source": [
    "import pandas as pd\n",
    "import numpy as np\n",
    "import seaborn as sns\n",
    "from sklearn.svm import SVC\n",
    "from sklearn import svm\n",
    "from sklearn.metrics import accuracy_score, confusion_matrix, classification_report\n",
    "from sklearn.model_selection import GridSearchCV, StratifiedKFold\n",
    "from sklearn.model_selection import train_test_split\n",
    "import os\n",
    "from sklearn.metrics import roc_curve, roc_auc_score\n",
    "from sklearn.model_selection import KFold\n",
    "from sklearn.model_selection import cross_val_score\n",
    "from sklearn.preprocessing import StandardScaler\n",
    "from sklearn.pipeline import Pipeline"
   ]
  },
  {
   "cell_type": "code",
   "execution_count": 17,
   "id": "e125051d",
   "metadata": {},
   "outputs": [],
   "source": [
    "Kyphosis = pd.read_csv(\"C:\\Aalesh and Mandar\\Datasets\\Cases\\Kyphosis\\Kyphosis.csv\")"
   ]
  },
  {
   "cell_type": "code",
   "execution_count": 18,
   "id": "22a090a9",
   "metadata": {},
   "outputs": [
    {
     "data": {
      "text/html": [
       "<div>\n",
       "<style scoped>\n",
       "    .dataframe tbody tr th:only-of-type {\n",
       "        vertical-align: middle;\n",
       "    }\n",
       "\n",
       "    .dataframe tbody tr th {\n",
       "        vertical-align: top;\n",
       "    }\n",
       "\n",
       "    .dataframe thead th {\n",
       "        text-align: right;\n",
       "    }\n",
       "</style>\n",
       "<table border=\"1\" class=\"dataframe\">\n",
       "  <thead>\n",
       "    <tr style=\"text-align: right;\">\n",
       "      <th></th>\n",
       "      <th>Kyphosis</th>\n",
       "      <th>Age</th>\n",
       "      <th>Number</th>\n",
       "      <th>Start</th>\n",
       "    </tr>\n",
       "  </thead>\n",
       "  <tbody>\n",
       "    <tr>\n",
       "      <th>0</th>\n",
       "      <td>absent</td>\n",
       "      <td>71</td>\n",
       "      <td>3</td>\n",
       "      <td>5</td>\n",
       "    </tr>\n",
       "    <tr>\n",
       "      <th>1</th>\n",
       "      <td>absent</td>\n",
       "      <td>158</td>\n",
       "      <td>3</td>\n",
       "      <td>14</td>\n",
       "    </tr>\n",
       "    <tr>\n",
       "      <th>2</th>\n",
       "      <td>present</td>\n",
       "      <td>128</td>\n",
       "      <td>4</td>\n",
       "      <td>5</td>\n",
       "    </tr>\n",
       "    <tr>\n",
       "      <th>3</th>\n",
       "      <td>absent</td>\n",
       "      <td>2</td>\n",
       "      <td>5</td>\n",
       "      <td>1</td>\n",
       "    </tr>\n",
       "    <tr>\n",
       "      <th>4</th>\n",
       "      <td>absent</td>\n",
       "      <td>1</td>\n",
       "      <td>4</td>\n",
       "      <td>15</td>\n",
       "    </tr>\n",
       "  </tbody>\n",
       "</table>\n",
       "</div>"
      ],
      "text/plain": [
       "  Kyphosis  Age  Number  Start\n",
       "0   absent   71       3      5\n",
       "1   absent  158       3     14\n",
       "2  present  128       4      5\n",
       "3   absent    2       5      1\n",
       "4   absent    1       4     15"
      ]
     },
     "execution_count": 18,
     "metadata": {},
     "output_type": "execute_result"
    }
   ],
   "source": [
    "Kyphosis.head()"
   ]
  },
  {
   "cell_type": "code",
   "execution_count": 19,
   "id": "57ed5e87",
   "metadata": {},
   "outputs": [],
   "source": [
    "Kyphosis = pd.get_dummies(Kyphosis, drop_first=True)"
   ]
  },
  {
   "cell_type": "code",
   "execution_count": 20,
   "id": "ce5b8fdc",
   "metadata": {},
   "outputs": [
    {
     "data": {
      "text/html": [
       "<div>\n",
       "<style scoped>\n",
       "    .dataframe tbody tr th:only-of-type {\n",
       "        vertical-align: middle;\n",
       "    }\n",
       "\n",
       "    .dataframe tbody tr th {\n",
       "        vertical-align: top;\n",
       "    }\n",
       "\n",
       "    .dataframe thead th {\n",
       "        text-align: right;\n",
       "    }\n",
       "</style>\n",
       "<table border=\"1\" class=\"dataframe\">\n",
       "  <thead>\n",
       "    <tr style=\"text-align: right;\">\n",
       "      <th></th>\n",
       "      <th>Age</th>\n",
       "      <th>Number</th>\n",
       "      <th>Start</th>\n",
       "      <th>Kyphosis_present</th>\n",
       "    </tr>\n",
       "  </thead>\n",
       "  <tbody>\n",
       "    <tr>\n",
       "      <th>0</th>\n",
       "      <td>71</td>\n",
       "      <td>3</td>\n",
       "      <td>5</td>\n",
       "      <td>0</td>\n",
       "    </tr>\n",
       "    <tr>\n",
       "      <th>1</th>\n",
       "      <td>158</td>\n",
       "      <td>3</td>\n",
       "      <td>14</td>\n",
       "      <td>0</td>\n",
       "    </tr>\n",
       "    <tr>\n",
       "      <th>2</th>\n",
       "      <td>128</td>\n",
       "      <td>4</td>\n",
       "      <td>5</td>\n",
       "      <td>1</td>\n",
       "    </tr>\n",
       "    <tr>\n",
       "      <th>3</th>\n",
       "      <td>2</td>\n",
       "      <td>5</td>\n",
       "      <td>1</td>\n",
       "      <td>0</td>\n",
       "    </tr>\n",
       "    <tr>\n",
       "      <th>4</th>\n",
       "      <td>1</td>\n",
       "      <td>4</td>\n",
       "      <td>15</td>\n",
       "      <td>0</td>\n",
       "    </tr>\n",
       "  </tbody>\n",
       "</table>\n",
       "</div>"
      ],
      "text/plain": [
       "   Age  Number  Start  Kyphosis_present\n",
       "0   71       3      5                 0\n",
       "1  158       3     14                 0\n",
       "2  128       4      5                 1\n",
       "3    2       5      1                 0\n",
       "4    1       4     15                 0"
      ]
     },
     "execution_count": 20,
     "metadata": {},
     "output_type": "execute_result"
    }
   ],
   "source": [
    "Kyphosis.head()"
   ]
  },
  {
   "cell_type": "code",
   "execution_count": 21,
   "id": "3e519816",
   "metadata": {},
   "outputs": [],
   "source": [
    "x = Kyphosis.drop([\"Kyphosis_present\"], axis=1)\n",
    "y=Kyphosis[\"Kyphosis_present\"]"
   ]
  },
  {
   "cell_type": "code",
   "execution_count": 22,
   "id": "477f947c",
   "metadata": {},
   "outputs": [],
   "source": [
    "x_train, x_test, y_train, y_test = train_test_split(x, y, stratify = y, random_state = 2022, train_size = 0.7)"
   ]
  },
  {
   "cell_type": "code",
   "execution_count": 23,
   "id": "adc2ee9b",
   "metadata": {},
   "outputs": [
    {
     "name": "stdout",
     "output_type": "stream",
     "text": [
      "0.76\n"
     ]
    }
   ],
   "source": [
    "svm = SVC(kernel=\"linear\", probability = True,  random_state = 2022)\n",
    "svm.fit(x_train, y_train)\n",
    "y_pred = svm.predict(x_test)\n",
    "print(accuracy_score(y_test, y_pred))"
   ]
  },
  {
   "cell_type": "code",
   "execution_count": 24,
   "id": "4cb3f9c7",
   "metadata": {},
   "outputs": [
    {
     "name": "stdout",
     "output_type": "stream",
     "text": [
      "0.64\n"
     ]
    }
   ],
   "source": [
    "y_pred_prob = svm.predict_proba(x_test)[:,1]\n",
    "print(roc_auc_score(y_test, y_pred_prob))"
   ]
  },
  {
   "cell_type": "code",
   "execution_count": 25,
   "id": "3d16ad49",
   "metadata": {
    "scrolled": true
   },
   "outputs": [
    {
     "name": "stdout",
     "output_type": "stream",
     "text": [
      "Fitting 5 folds for each of 20 candidates, totalling 100 fits\n",
      "[CV 1/5] END ...........................C=0.001;, score=0.778 total time=   0.0s\n",
      "[CV 2/5] END ...........................C=0.001;, score=0.875 total time=   0.0s\n",
      "[CV 3/5] END ...........................C=0.001;, score=1.000 total time=   0.0s\n",
      "[CV 4/5] END ...........................C=0.001;, score=0.944 total time=   0.0s\n",
      "[CV 5/5] END ...........................C=0.001;, score=0.889 total time=   0.0s\n",
      "[CV 1/5] END ..............C=0.5272631578947369;, score=0.852 total time=   0.0s\n",
      "[CV 2/5] END ..............C=0.5272631578947369;, score=0.875 total time=   0.0s\n",
      "[CV 3/5] END ..............C=0.5272631578947369;, score=1.000 total time=   0.0s\n",
      "[CV 4/5] END ..............C=0.5272631578947369;, score=0.944 total time=   0.0s\n",
      "[CV 5/5] END ..............C=0.5272631578947369;, score=0.889 total time=   0.0s\n",
      "[CV 1/5] END ..............C=1.0535263157894736;, score=0.852 total time=   0.0s\n",
      "[CV 2/5] END ..............C=1.0535263157894736;, score=0.875 total time=   0.0s\n",
      "[CV 3/5] END ..............C=1.0535263157894736;, score=1.000 total time=   0.0s\n",
      "[CV 4/5] END ..............C=1.0535263157894736;, score=0.944 total time=   0.0s\n",
      "[CV 5/5] END ..............C=1.0535263157894736;, score=0.833 total time=   0.0s\n",
      "[CV 1/5] END ..............C=1.5797894736842104;, score=0.852 total time=   0.0s\n",
      "[CV 2/5] END ..............C=1.5797894736842104;, score=0.875 total time=   0.0s\n",
      "[CV 3/5] END ..............C=1.5797894736842104;, score=1.000 total time=   0.0s\n",
      "[CV 4/5] END ..............C=1.5797894736842104;, score=0.944 total time=   0.0s\n",
      "[CV 5/5] END ..............C=1.5797894736842104;, score=0.833 total time=   0.0s\n",
      "[CV 1/5] END ..............C=2.1060526315789474;, score=0.852 total time=   0.0s\n",
      "[CV 2/5] END ..............C=2.1060526315789474;, score=0.875 total time=   0.0s\n",
      "[CV 3/5] END ..............C=2.1060526315789474;, score=1.000 total time=   0.0s\n",
      "[CV 4/5] END ..............C=2.1060526315789474;, score=0.944 total time=   0.0s\n",
      "[CV 5/5] END ..............C=2.1060526315789474;, score=0.833 total time=   0.0s\n",
      "[CV 1/5] END ..............C=2.6323157894736844;, score=0.852 total time=   0.0s\n",
      "[CV 2/5] END ..............C=2.6323157894736844;, score=0.875 total time=   0.0s\n",
      "[CV 3/5] END ..............C=2.6323157894736844;, score=1.000 total time=   0.0s\n",
      "[CV 4/5] END ..............C=2.6323157894736844;, score=0.944 total time=   0.1s\n",
      "[CV 5/5] END ..............C=2.6323157894736844;, score=0.833 total time=   0.0s\n",
      "[CV 1/5] END ...............C=3.158578947368421;, score=0.852 total time=   0.0s\n",
      "[CV 2/5] END ...............C=3.158578947368421;, score=0.875 total time=   0.0s\n",
      "[CV 3/5] END ...............C=3.158578947368421;, score=1.000 total time=   0.0s\n",
      "[CV 4/5] END ...............C=3.158578947368421;, score=0.944 total time=   0.8s\n",
      "[CV 5/5] END ...............C=3.158578947368421;, score=0.833 total time=   0.0s\n",
      "[CV 1/5] END ...............C=3.684842105263158;, score=0.852 total time=   0.0s\n",
      "[CV 2/5] END ...............C=3.684842105263158;, score=0.875 total time=   0.0s\n",
      "[CV 3/5] END ...............C=3.684842105263158;, score=1.000 total time=   0.1s\n",
      "[CV 4/5] END ...............C=3.684842105263158;, score=0.944 total time=   1.0s\n",
      "[CV 5/5] END ...............C=3.684842105263158;, score=0.833 total time=   0.0s\n",
      "[CV 1/5] END ...............C=4.211105263157895;, score=0.852 total time=   0.0s\n",
      "[CV 2/5] END ...............C=4.211105263157895;, score=0.875 total time=   0.1s\n",
      "[CV 3/5] END ...............C=4.211105263157895;, score=1.000 total time=   0.1s\n",
      "[CV 4/5] END ...............C=4.211105263157895;, score=0.944 total time=   1.2s\n",
      "[CV 5/5] END ...............C=4.211105263157895;, score=0.833 total time=   0.0s\n",
      "[CV 1/5] END ...............C=4.737368421052632;, score=0.852 total time=   0.0s\n",
      "[CV 2/5] END ...............C=4.737368421052632;, score=0.875 total time=   0.1s\n",
      "[CV 3/5] END ...............C=4.737368421052632;, score=1.000 total time=   0.1s\n",
      "[CV 4/5] END ...............C=4.737368421052632;, score=0.944 total time=   1.4s\n",
      "[CV 5/5] END ...............C=4.737368421052632;, score=0.833 total time=   0.1s\n",
      "[CV 1/5] END ...............C=5.263631578947369;, score=0.852 total time=   0.0s\n",
      "[CV 2/5] END ...............C=5.263631578947369;, score=0.875 total time=   0.1s\n",
      "[CV 3/5] END ...............C=5.263631578947369;, score=1.000 total time=   0.2s\n",
      "[CV 4/5] END ...............C=5.263631578947369;, score=0.944 total time=   1.6s\n",
      "[CV 5/5] END ...............C=5.263631578947369;, score=0.833 total time=   0.1s\n",
      "[CV 1/5] END ...............C=5.789894736842106;, score=0.852 total time=   0.0s\n",
      "[CV 2/5] END ...............C=5.789894736842106;, score=0.875 total time=   0.1s\n",
      "[CV 3/5] END ...............C=5.789894736842106;, score=1.000 total time=   0.2s\n",
      "[CV 4/5] END ...............C=5.789894736842106;, score=0.944 total time=   1.9s\n",
      "[CV 5/5] END ...............C=5.789894736842106;, score=0.833 total time=   0.1s\n",
      "[CV 1/5] END ...............C=6.316157894736842;, score=0.852 total time=   0.0s\n",
      "[CV 2/5] END ...............C=6.316157894736842;, score=0.875 total time=   0.1s\n",
      "[CV 3/5] END ...............C=6.316157894736842;, score=1.000 total time=   0.2s\n",
      "[CV 4/5] END ...............C=6.316157894736842;, score=0.944 total time=   1.9s\n",
      "[CV 5/5] END ...............C=6.316157894736842;, score=0.833 total time=   0.1s\n",
      "[CV 1/5] END ................C=6.84242105263158;, score=0.852 total time=   0.0s\n",
      "[CV 2/5] END ................C=6.84242105263158;, score=0.875 total time=   0.1s\n",
      "[CV 3/5] END ................C=6.84242105263158;, score=1.000 total time=   0.2s\n",
      "[CV 4/5] END ................C=6.84242105263158;, score=0.944 total time=   2.1s\n",
      "[CV 5/5] END ................C=6.84242105263158;, score=0.833 total time=   0.1s\n",
      "[CV 1/5] END ...............C=7.368684210526316;, score=0.852 total time=   0.0s\n",
      "[CV 2/5] END ...............C=7.368684210526316;, score=0.875 total time=   0.2s\n",
      "[CV 3/5] END ...............C=7.368684210526316;, score=1.000 total time=   0.3s\n",
      "[CV 4/5] END ...............C=7.368684210526316;, score=0.944 total time=   2.3s\n",
      "[CV 5/5] END ...............C=7.368684210526316;, score=0.833 total time=   0.1s\n",
      "[CV 1/5] END ...............C=7.894947368421054;, score=0.852 total time=   0.0s\n",
      "[CV 2/5] END ...............C=7.894947368421054;, score=0.875 total time=   0.2s\n",
      "[CV 3/5] END ...............C=7.894947368421054;, score=1.000 total time=   0.3s\n",
      "[CV 4/5] END ...............C=7.894947368421054;, score=0.944 total time=   2.5s\n",
      "[CV 5/5] END ...............C=7.894947368421054;, score=0.833 total time=   0.1s\n",
      "[CV 1/5] END ................C=8.42121052631579;, score=0.852 total time=   0.0s\n",
      "[CV 2/5] END ................C=8.42121052631579;, score=0.875 total time=   0.2s\n",
      "[CV 3/5] END ................C=8.42121052631579;, score=1.000 total time=   0.3s\n",
      "[CV 4/5] END ................C=8.42121052631579;, score=0.944 total time=   2.7s\n",
      "[CV 5/5] END ................C=8.42121052631579;, score=0.833 total time=   0.1s\n",
      "[CV 1/5] END ...............C=8.947473684210527;, score=0.852 total time=   0.0s\n",
      "[CV 2/5] END ...............C=8.947473684210527;, score=0.875 total time=   0.2s\n",
      "[CV 3/5] END ...............C=8.947473684210527;, score=1.000 total time=   0.3s\n",
      "[CV 4/5] END ...............C=8.947473684210527;, score=0.944 total time=   0.5s\n",
      "[CV 5/5] END ...............C=8.947473684210527;, score=0.833 total time=   0.2s\n",
      "[CV 1/5] END ...............C=9.473736842105263;, score=0.852 total time=   0.0s\n",
      "[CV 2/5] END ...............C=9.473736842105263;, score=0.875 total time=   0.2s\n",
      "[CV 3/5] END ...............C=9.473736842105263;, score=1.000 total time=   0.2s\n",
      "[CV 4/5] END ...............C=9.473736842105263;, score=0.944 total time=   3.0s\n",
      "[CV 5/5] END ...............C=9.473736842105263;, score=0.833 total time=   0.2s\n",
      "[CV 1/5] END ............................C=10.0;, score=0.852 total time=   0.0s\n",
      "[CV 2/5] END ............................C=10.0;, score=0.875 total time=   0.2s\n",
      "[CV 3/5] END ............................C=10.0;, score=1.000 total time=   0.3s\n",
      "[CV 4/5] END ............................C=10.0;, score=0.944 total time=   3.1s\n",
      "[CV 5/5] END ............................C=10.0;, score=0.833 total time=   0.2s\n"
     ]
    },
    {
     "data": {
      "text/plain": [
       "GridSearchCV(cv=StratifiedKFold(n_splits=5, random_state=2022, shuffle=True),\n",
       "             estimator=SVC(kernel='linear', probability=True,\n",
       "                           random_state=2022),\n",
       "             param_grid={'C': array([1.00000000e-03, 5.27263158e-01, 1.05352632e+00, 1.57978947e+00,\n",
       "       2.10605263e+00, 2.63231579e+00, 3.15857895e+00, 3.68484211e+00,\n",
       "       4.21110526e+00, 4.73736842e+00, 5.26363158e+00, 5.78989474e+00,\n",
       "       6.31615789e+00, 6.84242105e+00, 7.36868421e+00, 7.89494737e+00,\n",
       "       8.42121053e+00, 8.94747368e+00, 9.47373684e+00, 1.00000000e+01])},\n",
       "             scoring='roc_auc', verbose=3)"
      ]
     },
     "execution_count": 25,
     "metadata": {},
     "output_type": "execute_result"
    }
   ],
   "source": [
    "scaler = StandardScaler()\n",
    "kfold = StratifiedKFold(n_splits = 5, shuffle = True, random_state = 2022)\n",
    "params = {\"C\" : np.linspace(0.001, 10, 20)}\n",
    "gcv = GridSearchCV(svm, param_grid = params, verbose = 3, scoring = \"roc_auc\", cv = kfold)\n",
    "gcv.fit(x_train, y_train)"
   ]
  },
  {
   "cell_type": "code",
   "execution_count": 26,
   "id": "e02b6885",
   "metadata": {},
   "outputs": [
    {
     "name": "stdout",
     "output_type": "stream",
     "text": [
      "{'C': 0.5272631578947369}\n",
      "0.912037037037037\n"
     ]
    }
   ],
   "source": [
    "print(gcv.best_params_)\n",
    "print(gcv.best_score_)"
   ]
  },
  {
   "cell_type": "markdown",
   "id": "e4f63ae3",
   "metadata": {},
   "source": [
    "## with the help of scaling"
   ]
  },
  {
   "cell_type": "code",
   "execution_count": 32,
   "id": "ae2fd6cb",
   "metadata": {},
   "outputs": [
    {
     "data": {
      "text/plain": [
       "{'memory': None,\n",
       " 'steps': [('STD', StandardScaler()),\n",
       "  ('SVM', SVC(kernel='linear', probability=True, random_state=2022))],\n",
       " 'verbose': False,\n",
       " 'STD': StandardScaler(),\n",
       " 'SVM': SVC(kernel='linear', probability=True, random_state=2022),\n",
       " 'STD__copy': True,\n",
       " 'STD__with_mean': True,\n",
       " 'STD__with_std': True,\n",
       " 'SVM__C': 1.0,\n",
       " 'SVM__break_ties': False,\n",
       " 'SVM__cache_size': 200,\n",
       " 'SVM__class_weight': None,\n",
       " 'SVM__coef0': 0.0,\n",
       " 'SVM__decision_function_shape': 'ovr',\n",
       " 'SVM__degree': 3,\n",
       " 'SVM__gamma': 'scale',\n",
       " 'SVM__kernel': 'linear',\n",
       " 'SVM__max_iter': -1,\n",
       " 'SVM__probability': True,\n",
       " 'SVM__random_state': 2022,\n",
       " 'SVM__shrinking': True,\n",
       " 'SVM__tol': 0.001,\n",
       " 'SVM__verbose': False}"
      ]
     },
     "execution_count": 32,
     "metadata": {},
     "output_type": "execute_result"
    }
   ],
   "source": [
    "pipe = Pipeline([(\"STD\", scaler),(\"SVM\",svm)])\n",
    "pipe.get_params()"
   ]
  },
  {
   "cell_type": "code",
   "execution_count": 33,
   "id": "d014cb69",
   "metadata": {},
   "outputs": [
    {
     "name": "stdout",
     "output_type": "stream",
     "text": [
      "Fitting 5 folds for each of 20 candidates, totalling 100 fits\n",
      "[CV 1/5] END ......................SVM__C=0.001;, score=0.885 total time=   0.0s\n",
      "[CV 2/5] END ......................SVM__C=0.001;, score=0.846 total time=   0.0s\n",
      "[CV 3/5] END ......................SVM__C=0.001;, score=0.718 total time=   0.0s\n",
      "[CV 4/5] END ......................SVM__C=0.001;, score=0.846 total time=   0.0s\n",
      "[CV 5/5] END ......................SVM__C=0.001;, score=0.917 total time=   0.0s\n",
      "[CV 1/5] END .........SVM__C=0.5272631578947369;, score=0.885 total time=   0.0s\n",
      "[CV 2/5] END .........SVM__C=0.5272631578947369;, score=0.846 total time=   0.0s\n",
      "[CV 3/5] END .........SVM__C=0.5272631578947369;, score=0.744 total time=   0.0s\n",
      "[CV 4/5] END .........SVM__C=0.5272631578947369;, score=0.897 total time=   0.0s\n",
      "[CV 5/5] END .........SVM__C=0.5272631578947369;, score=0.917 total time=   0.0s\n",
      "[CV 1/5] END .........SVM__C=1.0535263157894736;, score=0.885 total time=   0.0s\n",
      "[CV 2/5] END .........SVM__C=1.0535263157894736;, score=0.846 total time=   0.0s\n",
      "[CV 3/5] END .........SVM__C=1.0535263157894736;, score=0.744 total time=   0.0s\n",
      "[CV 4/5] END .........SVM__C=1.0535263157894736;, score=0.897 total time=   0.0s\n",
      "[CV 5/5] END .........SVM__C=1.0535263157894736;, score=0.917 total time=   0.0s\n",
      "[CV 1/5] END .........SVM__C=1.5797894736842104;, score=0.885 total time=   0.0s\n",
      "[CV 2/5] END .........SVM__C=1.5797894736842104;, score=0.846 total time=   0.0s\n",
      "[CV 3/5] END .........SVM__C=1.5797894736842104;, score=0.744 total time=   0.0s\n",
      "[CV 4/5] END .........SVM__C=1.5797894736842104;, score=0.897 total time=   0.0s\n",
      "[CV 5/5] END .........SVM__C=1.5797894736842104;, score=0.917 total time=   0.0s\n",
      "[CV 1/5] END .........SVM__C=2.1060526315789474;, score=0.885 total time=   0.0s\n",
      "[CV 2/5] END .........SVM__C=2.1060526315789474;, score=0.846 total time=   0.0s\n",
      "[CV 3/5] END .........SVM__C=2.1060526315789474;, score=0.744 total time=   0.0s\n",
      "[CV 4/5] END .........SVM__C=2.1060526315789474;, score=0.897 total time=   0.0s\n",
      "[CV 5/5] END .........SVM__C=2.1060526315789474;, score=0.917 total time=   0.0s\n",
      "[CV 1/5] END .........SVM__C=2.6323157894736844;, score=0.885 total time=   0.0s\n",
      "[CV 2/5] END .........SVM__C=2.6323157894736844;, score=0.846 total time=   0.0s\n",
      "[CV 3/5] END .........SVM__C=2.6323157894736844;, score=0.744 total time=   0.0s\n",
      "[CV 4/5] END .........SVM__C=2.6323157894736844;, score=0.897 total time=   0.0s\n",
      "[CV 5/5] END .........SVM__C=2.6323157894736844;, score=0.917 total time=   0.0s\n",
      "[CV 1/5] END ..........SVM__C=3.158578947368421;, score=0.885 total time=   0.0s\n",
      "[CV 2/5] END ..........SVM__C=3.158578947368421;, score=0.846 total time=   0.0s\n",
      "[CV 3/5] END ..........SVM__C=3.158578947368421;, score=0.744 total time=   0.0s\n",
      "[CV 4/5] END ..........SVM__C=3.158578947368421;, score=0.897 total time=   0.0s\n",
      "[CV 5/5] END ..........SVM__C=3.158578947368421;, score=0.917 total time=   0.0s\n",
      "[CV 1/5] END ..........SVM__C=3.684842105263158;, score=0.885 total time=   0.0s\n",
      "[CV 2/5] END ..........SVM__C=3.684842105263158;, score=0.846 total time=   0.0s\n",
      "[CV 3/5] END ..........SVM__C=3.684842105263158;, score=0.744 total time=   0.0s\n",
      "[CV 4/5] END ..........SVM__C=3.684842105263158;, score=0.897 total time=   0.0s\n",
      "[CV 5/5] END ..........SVM__C=3.684842105263158;, score=0.917 total time=   0.0s\n",
      "[CV 1/5] END ..........SVM__C=4.211105263157895;, score=0.885 total time=   0.0s\n",
      "[CV 2/5] END ..........SVM__C=4.211105263157895;, score=0.846 total time=   0.0s\n",
      "[CV 3/5] END ..........SVM__C=4.211105263157895;, score=0.744 total time=   0.0s\n",
      "[CV 4/5] END ..........SVM__C=4.211105263157895;, score=0.897 total time=   0.0s\n",
      "[CV 5/5] END ..........SVM__C=4.211105263157895;, score=0.917 total time=   0.0s\n",
      "[CV 1/5] END ..........SVM__C=4.737368421052632;, score=0.885 total time=   0.0s\n",
      "[CV 2/5] END ..........SVM__C=4.737368421052632;, score=0.846 total time=   0.0s\n",
      "[CV 3/5] END ..........SVM__C=4.737368421052632;, score=0.744 total time=   0.0s\n",
      "[CV 4/5] END ..........SVM__C=4.737368421052632;, score=0.897 total time=   0.0s\n",
      "[CV 5/5] END ..........SVM__C=4.737368421052632;, score=0.917 total time=   0.0s\n",
      "[CV 1/5] END ..........SVM__C=5.263631578947369;, score=0.885 total time=   0.0s\n",
      "[CV 2/5] END ..........SVM__C=5.263631578947369;, score=0.846 total time=   0.0s\n",
      "[CV 3/5] END ..........SVM__C=5.263631578947369;, score=0.744 total time=   0.0s\n",
      "[CV 4/5] END ..........SVM__C=5.263631578947369;, score=0.897 total time=   0.0s\n",
      "[CV 5/5] END ..........SVM__C=5.263631578947369;, score=0.917 total time=   0.0s\n",
      "[CV 1/5] END ..........SVM__C=5.789894736842106;, score=0.885 total time=   0.0s\n",
      "[CV 2/5] END ..........SVM__C=5.789894736842106;, score=0.846 total time=   0.0s\n",
      "[CV 3/5] END ..........SVM__C=5.789894736842106;, score=0.744 total time=   0.0s\n",
      "[CV 4/5] END ..........SVM__C=5.789894736842106;, score=0.897 total time=   0.0s\n",
      "[CV 5/5] END ..........SVM__C=5.789894736842106;, score=0.917 total time=   0.0s\n",
      "[CV 1/5] END ..........SVM__C=6.316157894736842;, score=0.885 total time=   0.0s\n",
      "[CV 2/5] END ..........SVM__C=6.316157894736842;, score=0.846 total time=   0.0s\n",
      "[CV 3/5] END ..........SVM__C=6.316157894736842;, score=0.744 total time=   0.0s\n",
      "[CV 4/5] END ..........SVM__C=6.316157894736842;, score=0.897 total time=   0.0s\n",
      "[CV 5/5] END ..........SVM__C=6.316157894736842;, score=0.917 total time=   0.0s\n",
      "[CV 1/5] END ...........SVM__C=6.84242105263158;, score=0.885 total time=   0.0s\n",
      "[CV 2/5] END ...........SVM__C=6.84242105263158;, score=0.846 total time=   0.0s\n",
      "[CV 3/5] END ...........SVM__C=6.84242105263158;, score=0.744 total time=   0.0s\n",
      "[CV 4/5] END ...........SVM__C=6.84242105263158;, score=0.897 total time=   0.0s\n",
      "[CV 5/5] END ...........SVM__C=6.84242105263158;, score=0.917 total time=   0.0s\n",
      "[CV 1/5] END ..........SVM__C=7.368684210526316;, score=0.885 total time=   0.0s\n",
      "[CV 2/5] END ..........SVM__C=7.368684210526316;, score=0.846 total time=   0.0s\n",
      "[CV 3/5] END ..........SVM__C=7.368684210526316;, score=0.744 total time=   0.0s\n",
      "[CV 4/5] END ..........SVM__C=7.368684210526316;, score=0.897 total time=   0.0s\n",
      "[CV 5/5] END ..........SVM__C=7.368684210526316;, score=0.917 total time=   0.0s\n",
      "[CV 1/5] END ..........SVM__C=7.894947368421054;, score=0.885 total time=   0.0s\n",
      "[CV 2/5] END ..........SVM__C=7.894947368421054;, score=0.846 total time=   0.0s\n",
      "[CV 3/5] END ..........SVM__C=7.894947368421054;, score=0.744 total time=   0.0s\n",
      "[CV 4/5] END ..........SVM__C=7.894947368421054;, score=0.897 total time=   0.0s\n",
      "[CV 5/5] END ..........SVM__C=7.894947368421054;, score=0.917 total time=   0.0s\n",
      "[CV 1/5] END ...........SVM__C=8.42121052631579;, score=0.885 total time=   0.0s\n",
      "[CV 2/5] END ...........SVM__C=8.42121052631579;, score=0.846 total time=   0.0s\n",
      "[CV 3/5] END ...........SVM__C=8.42121052631579;, score=0.744 total time=   0.0s\n",
      "[CV 4/5] END ...........SVM__C=8.42121052631579;, score=0.897 total time=   0.0s\n",
      "[CV 5/5] END ...........SVM__C=8.42121052631579;, score=0.917 total time=   0.0s\n",
      "[CV 1/5] END ..........SVM__C=8.947473684210527;, score=0.885 total time=   0.0s\n",
      "[CV 2/5] END ..........SVM__C=8.947473684210527;, score=0.846 total time=   0.0s\n",
      "[CV 3/5] END ..........SVM__C=8.947473684210527;, score=0.744 total time=   0.0s\n",
      "[CV 4/5] END ..........SVM__C=8.947473684210527;, score=0.897 total time=   0.0s\n",
      "[CV 5/5] END ..........SVM__C=8.947473684210527;, score=0.917 total time=   0.0s\n",
      "[CV 1/5] END ..........SVM__C=9.473736842105263;, score=0.885 total time=   0.0s\n",
      "[CV 2/5] END ..........SVM__C=9.473736842105263;, score=0.846 total time=   0.0s\n",
      "[CV 3/5] END ..........SVM__C=9.473736842105263;, score=0.744 total time=   0.0s\n",
      "[CV 4/5] END ..........SVM__C=9.473736842105263;, score=0.897 total time=   0.0s\n",
      "[CV 5/5] END ..........SVM__C=9.473736842105263;, score=0.917 total time=   0.0s\n",
      "[CV 1/5] END .......................SVM__C=10.0;, score=0.885 total time=   0.0s\n",
      "[CV 2/5] END .......................SVM__C=10.0;, score=0.846 total time=   0.0s\n",
      "[CV 3/5] END .......................SVM__C=10.0;, score=0.744 total time=   0.0s\n",
      "[CV 4/5] END .......................SVM__C=10.0;, score=0.897 total time=   0.0s\n",
      "[CV 5/5] END .......................SVM__C=10.0;, score=0.917 total time=   0.0s\n"
     ]
    },
    {
     "data": {
      "text/plain": [
       "GridSearchCV(cv=StratifiedKFold(n_splits=5, random_state=2022, shuffle=True),\n",
       "             estimator=Pipeline(steps=[('STD', StandardScaler()),\n",
       "                                       ('SVM',\n",
       "                                        SVC(kernel='linear', probability=True,\n",
       "                                            random_state=2022))]),\n",
       "             param_grid={'SVM__C': array([1.00000000e-03, 5.27263158e-01, 1.05352632e+00, 1.57978947e+00,\n",
       "       2.10605263e+00, 2.63231579e+00, 3.15857895e+00, 3.68484211e+00,\n",
       "       4.21110526e+00, 4.73736842e+00, 5.26363158e+00, 5.78989474e+00,\n",
       "       6.31615789e+00, 6.84242105e+00, 7.36868421e+00, 7.89494737e+00,\n",
       "       8.42121053e+00, 8.94747368e+00, 9.47373684e+00, 1.00000000e+01])},\n",
       "             scoring='roc_auc', verbose=3)"
      ]
     },
     "execution_count": 33,
     "metadata": {},
     "output_type": "execute_result"
    }
   ],
   "source": [
    "kfold = StratifiedKFold(n_splits = 5, shuffle = True, random_state = 2022)\n",
    "params = {\"SVM__C\" : np.linspace(0.001, 10, 20)}\n",
    "gcv = GridSearchCV(pipe, param_grid = params, verbose = 3, scoring = \"roc_auc\", cv = kfold)\n",
    "gcv.fit(x, y)"
   ]
  },
  {
   "cell_type": "code",
   "execution_count": 34,
   "id": "1136d354",
   "metadata": {},
   "outputs": [
    {
     "name": "stdout",
     "output_type": "stream",
     "text": [
      "{'SVM__C': 0.5272631578947369}\n",
      "0.8576923076923076\n"
     ]
    }
   ],
   "source": [
    "print(gcv.best_params_)\n",
    "print(gcv.best_score_)"
   ]
  },
  {
   "cell_type": "code",
   "execution_count": null,
   "id": "d14c86ac",
   "metadata": {},
   "outputs": [],
   "source": []
  },
  {
   "cell_type": "code",
   "execution_count": null,
   "id": "7b3e98ee",
   "metadata": {},
   "outputs": [],
   "source": []
  }
 ],
 "metadata": {
  "kernelspec": {
   "display_name": "Python 3 (ipykernel)",
   "language": "python",
   "name": "python3"
  },
  "language_info": {
   "codemirror_mode": {
    "name": "ipython",
    "version": 3
   },
   "file_extension": ".py",
   "mimetype": "text/x-python",
   "name": "python",
   "nbconvert_exporter": "python",
   "pygments_lexer": "ipython3",
   "version": "3.9.13"
  }
 },
 "nbformat": 4,
 "nbformat_minor": 5
}
